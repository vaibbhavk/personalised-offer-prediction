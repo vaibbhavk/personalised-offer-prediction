{
 "cells": [
  {
   "cell_type": "code",
   "execution_count": 1,
   "id": "8c03ad9a",
   "metadata": {
    "_cell_guid": "b1076dfc-b9ad-4769-8c92-a6c4dae69d19",
    "_uuid": "8f2839f25d086af736a60e9eeb907d3b93b6e0e5",
    "execution": {
     "iopub.execute_input": "2022-12-03T05:46:28.887886Z",
     "iopub.status.busy": "2022-12-03T05:46:28.887250Z",
     "iopub.status.idle": "2022-12-03T05:46:28.903418Z",
     "shell.execute_reply": "2022-12-03T05:46:28.902287Z"
    },
    "papermill": {
     "duration": 0.029235,
     "end_time": "2022-12-03T05:46:28.906626",
     "exception": false,
     "start_time": "2022-12-03T05:46:28.877391",
     "status": "completed"
    },
    "tags": []
   },
   "outputs": [
    {
     "name": "stdout",
     "output_type": "stream",
     "text": [
      "/kaggle/input/marketing-strategy-personalised-offer/sample.csv\n",
      "/kaggle/input/marketing-strategy-personalised-offer/train_data.csv\n",
      "/kaggle/input/marketing-strategy-personalised-offer/test_data.csv\n"
     ]
    }
   ],
   "source": [
    "# This Python 3 environment comes with many helpful analytics libraries installed\n",
    "# It is defined by the kaggle/python Docker image: https://github.com/kaggle/docker-python\n",
    "# For example, here's several helpful packages to load\n",
    "\n",
    "import numpy as np # linear algebra\n",
    "import pandas as pd # data processing, CSV file I/O (e.g. pd.read_csv)\n",
    "\n",
    "# Input data files are available in the read-only \"../input/\" directory\n",
    "# For example, running this (by clicking run or pressing Shift+Enter) will list all files under the input directory\n",
    "\n",
    "import os\n",
    "for dirname, _, filenames in os.walk('/kaggle/input'):\n",
    "    for filename in filenames:\n",
    "        print(os.path.join(dirname, filename))\n",
    "\n",
    "# You can write up to 20GB to the current directory (/kaggle/working/) that gets preserved as output when you create a version using \"Save & Run All\" \n",
    "# You can also write temporary files to /kaggle/temp/, but they won't be saved outside of the current session"
   ]
  },
  {
   "cell_type": "code",
   "execution_count": 2,
   "id": "afaa85a3",
   "metadata": {
    "execution": {
     "iopub.execute_input": "2022-12-03T05:46:28.923006Z",
     "iopub.status.busy": "2022-12-03T05:46:28.922265Z",
     "iopub.status.idle": "2022-12-03T05:46:30.492406Z",
     "shell.execute_reply": "2022-12-03T05:46:30.491006Z"
    },
    "papermill": {
     "duration": 1.581446,
     "end_time": "2022-12-03T05:46:30.495339",
     "exception": false,
     "start_time": "2022-12-03T05:46:28.913893",
     "status": "completed"
    },
    "tags": []
   },
   "outputs": [],
   "source": [
    "# common imports\n",
    "import numpy as np\n",
    "import pandas as pd\n",
    "import os\n",
    "import io\n",
    "import warnings\n",
    "\n",
    "# sklearn specific imports\n",
    "from sklearn.datasets import fetch_openml\n",
    "from sklearn.preprocessing import MinMaxScaler\n",
    "from sklearn.preprocessing import OrdinalEncoder\n",
    "from sklearn.impute import SimpleImputer\n",
    "from sklearn.pipeline import Pipeline, make_pipeline\n",
    "from sklearn.dummy import DummyClassifier\n",
    "from sklearn.preprocessing import LabelEncoder\n",
    "from sklearn.linear_model import Perceptron\n",
    "from sklearn.decomposition import PCA\n",
    "from sklearn.metrics import hinge_loss\n",
    "from sklearn.metrics import f1_score\n",
    "from sklearn.metrics import ConfusionMatrixDisplay, confusion_matrix, precision_recall_curve\n",
    "from sklearn.metrics import precision_score, recall_score, classification_report\n",
    "from sklearn.metrics import make_scorer\n",
    "from sklearn.model_selection import cross_validate, cross_val_predict, GridSearchCV, train_test_split\n",
    "from pprint import pprint\n",
    "\n",
    "import matplotlib.pyplot as plt\n",
    "import seaborn as sns"
   ]
  },
  {
   "cell_type": "markdown",
   "id": "c0aaf3ca",
   "metadata": {
    "papermill": {
     "duration": 0.006765,
     "end_time": "2022-12-03T05:46:30.509199",
     "exception": false,
     "start_time": "2022-12-03T05:46:30.502434",
     "status": "completed"
    },
    "tags": []
   },
   "source": [
    "### Data loading"
   ]
  },
  {
   "cell_type": "code",
   "execution_count": 3,
   "id": "d4a61044",
   "metadata": {
    "execution": {
     "iopub.execute_input": "2022-12-03T05:46:30.525867Z",
     "iopub.status.busy": "2022-12-03T05:46:30.525324Z",
     "iopub.status.idle": "2022-12-03T05:46:30.678429Z",
     "shell.execute_reply": "2022-12-03T05:46:30.677236Z"
    },
    "papermill": {
     "duration": 0.165342,
     "end_time": "2022-12-03T05:46:30.681495",
     "exception": false,
     "start_time": "2022-12-03T05:46:30.516153",
     "status": "completed"
    },
    "tags": []
   },
   "outputs": [
    {
     "data": {
      "text/html": [
       "<div>\n",
       "<style scoped>\n",
       "    .dataframe tbody tr th:only-of-type {\n",
       "        vertical-align: middle;\n",
       "    }\n",
       "\n",
       "    .dataframe tbody tr th {\n",
       "        vertical-align: top;\n",
       "    }\n",
       "\n",
       "    .dataframe thead th {\n",
       "        text-align: right;\n",
       "    }\n",
       "</style>\n",
       "<table border=\"1\" class=\"dataframe\">\n",
       "  <thead>\n",
       "    <tr style=\"text-align: right;\">\n",
       "      <th></th>\n",
       "      <th>offer expiration</th>\n",
       "      <th>income_range</th>\n",
       "      <th>no_visited_Cold drinks</th>\n",
       "      <th>travelled_more_than_15mins_for_offer</th>\n",
       "      <th>Restaur_spend_less_than20</th>\n",
       "      <th>Marital Status</th>\n",
       "      <th>restaurant type</th>\n",
       "      <th>age</th>\n",
       "      <th>Prefer western over chinese</th>\n",
       "      <th>travelled_more_than_25mins_for_offer</th>\n",
       "      <th>...</th>\n",
       "      <th>restuarant_opposite_direction_house</th>\n",
       "      <th>has Children</th>\n",
       "      <th>visit restaurant with rating (avg)</th>\n",
       "      <th>temperature</th>\n",
       "      <th>Restaur_spend_greater_than20</th>\n",
       "      <th>Travel Time</th>\n",
       "      <th>Climate</th>\n",
       "      <th>drop location</th>\n",
       "      <th>Prefer home food</th>\n",
       "      <th>Offer Accepted</th>\n",
       "    </tr>\n",
       "  </thead>\n",
       "  <tbody>\n",
       "    <tr>\n",
       "      <th>0</th>\n",
       "      <td>2days</td>\n",
       "      <td>₹100000 or More</td>\n",
       "      <td>4~8</td>\n",
       "      <td>1</td>\n",
       "      <td>less1</td>\n",
       "      <td>Married partner</td>\n",
       "      <td>4 star restaurant</td>\n",
       "      <td>36</td>\n",
       "      <td>0</td>\n",
       "      <td>0</td>\n",
       "      <td>...</td>\n",
       "      <td>0</td>\n",
       "      <td>0</td>\n",
       "      <td>4</td>\n",
       "      <td>67</td>\n",
       "      <td>less1</td>\n",
       "      <td>22</td>\n",
       "      <td>Spring</td>\n",
       "      <td>Location B</td>\n",
       "      <td>0</td>\n",
       "      <td>No</td>\n",
       "    </tr>\n",
       "    <tr>\n",
       "      <th>1</th>\n",
       "      <td>2days</td>\n",
       "      <td>₹87500 - ₹99999</td>\n",
       "      <td>4~8</td>\n",
       "      <td>0</td>\n",
       "      <td>4~8</td>\n",
       "      <td>Married partner</td>\n",
       "      <td>Take-away restaurant</td>\n",
       "      <td>50plus</td>\n",
       "      <td>0</td>\n",
       "      <td>0</td>\n",
       "      <td>...</td>\n",
       "      <td>0</td>\n",
       "      <td>1</td>\n",
       "      <td>3</td>\n",
       "      <td>89</td>\n",
       "      <td>1~3</td>\n",
       "      <td>18</td>\n",
       "      <td>Summer</td>\n",
       "      <td>Location B</td>\n",
       "      <td>0</td>\n",
       "      <td>Yes</td>\n",
       "    </tr>\n",
       "    <tr>\n",
       "      <th>2</th>\n",
       "      <td>2days</td>\n",
       "      <td>₹87500 - ₹99999</td>\n",
       "      <td>less1</td>\n",
       "      <td>1</td>\n",
       "      <td>1~3</td>\n",
       "      <td>Single</td>\n",
       "      <td>Cold drinks</td>\n",
       "      <td>26</td>\n",
       "      <td>1</td>\n",
       "      <td>0</td>\n",
       "      <td>...</td>\n",
       "      <td>1</td>\n",
       "      <td>1</td>\n",
       "      <td>4</td>\n",
       "      <td>67</td>\n",
       "      <td>less1</td>\n",
       "      <td>7</td>\n",
       "      <td>Winter</td>\n",
       "      <td>Location A</td>\n",
       "      <td>1</td>\n",
       "      <td>Yes</td>\n",
       "    </tr>\n",
       "    <tr>\n",
       "      <th>3</th>\n",
       "      <td>10hours</td>\n",
       "      <td>₹37500 - ₹49999</td>\n",
       "      <td>less1</td>\n",
       "      <td>0</td>\n",
       "      <td>1~3</td>\n",
       "      <td>Single</td>\n",
       "      <td>Take-away restaurant</td>\n",
       "      <td>46</td>\n",
       "      <td>1</td>\n",
       "      <td>0</td>\n",
       "      <td>...</td>\n",
       "      <td>0</td>\n",
       "      <td>1</td>\n",
       "      <td>3</td>\n",
       "      <td>89</td>\n",
       "      <td>1~3</td>\n",
       "      <td>7</td>\n",
       "      <td>Summer</td>\n",
       "      <td>Location C</td>\n",
       "      <td>0</td>\n",
       "      <td>No</td>\n",
       "    </tr>\n",
       "    <tr>\n",
       "      <th>4</th>\n",
       "      <td>2days</td>\n",
       "      <td>₹100000 or More</td>\n",
       "      <td>never</td>\n",
       "      <td>1</td>\n",
       "      <td>1~3</td>\n",
       "      <td>Single</td>\n",
       "      <td>4 star restaurant</td>\n",
       "      <td>21</td>\n",
       "      <td>0</td>\n",
       "      <td>1</td>\n",
       "      <td>...</td>\n",
       "      <td>1</td>\n",
       "      <td>0</td>\n",
       "      <td>3</td>\n",
       "      <td>40</td>\n",
       "      <td>less1</td>\n",
       "      <td>7</td>\n",
       "      <td>Summer</td>\n",
       "      <td>Location C</td>\n",
       "      <td>0</td>\n",
       "      <td>No</td>\n",
       "    </tr>\n",
       "  </tbody>\n",
       "</table>\n",
       "<p>5 rows × 31 columns</p>\n",
       "</div>"
      ],
      "text/plain": [
       "  offer expiration     income_range no_visited_Cold drinks  \\\n",
       "0            2days  ₹100000 or More                    4~8   \n",
       "1            2days  ₹87500 - ₹99999                    4~8   \n",
       "2            2days  ₹87500 - ₹99999                  less1   \n",
       "3          10hours  ₹37500 - ₹49999                  less1   \n",
       "4            2days  ₹100000 or More                  never   \n",
       "\n",
       "   travelled_more_than_15mins_for_offer Restaur_spend_less_than20  \\\n",
       "0                                     1                     less1   \n",
       "1                                     0                       4~8   \n",
       "2                                     1                       1~3   \n",
       "3                                     0                       1~3   \n",
       "4                                     1                       1~3   \n",
       "\n",
       "    Marital Status       restaurant type     age  Prefer western over chinese  \\\n",
       "0  Married partner     4 star restaurant      36                            0   \n",
       "1  Married partner  Take-away restaurant  50plus                            0   \n",
       "2           Single           Cold drinks      26                            1   \n",
       "3           Single  Take-away restaurant      46                            1   \n",
       "4           Single     4 star restaurant      21                            0   \n",
       "\n",
       "   travelled_more_than_25mins_for_offer  ...  \\\n",
       "0                                     0  ...   \n",
       "1                                     0  ...   \n",
       "2                                     0  ...   \n",
       "3                                     0  ...   \n",
       "4                                     1  ...   \n",
       "\n",
       "   restuarant_opposite_direction_house has Children  \\\n",
       "0                                    0            0   \n",
       "1                                    0            1   \n",
       "2                                    1            1   \n",
       "3                                    0            1   \n",
       "4                                    1            0   \n",
       "\n",
       "  visit restaurant with rating (avg) temperature  \\\n",
       "0                                  4          67   \n",
       "1                                  3          89   \n",
       "2                                  4          67   \n",
       "3                                  3          89   \n",
       "4                                  3          40   \n",
       "\n",
       "   Restaur_spend_greater_than20  Travel Time Climate drop location  \\\n",
       "0                         less1           22  Spring    Location B   \n",
       "1                           1~3           18  Summer    Location B   \n",
       "2                         less1            7  Winter    Location A   \n",
       "3                           1~3            7  Summer    Location C   \n",
       "4                         less1            7  Summer    Location C   \n",
       "\n",
       "   Prefer home food Offer Accepted  \n",
       "0                 0             No  \n",
       "1                 0            Yes  \n",
       "2                 1            Yes  \n",
       "3                 0             No  \n",
       "4                 0             No  \n",
       "\n",
       "[5 rows x 31 columns]"
      ]
     },
     "execution_count": 3,
     "metadata": {},
     "output_type": "execute_result"
    }
   ],
   "source": [
    "# df = pd.read_csv('../input/marketing-strategy-personalised-offer/sample.csv')\n",
    "\n",
    "df_train = pd.read_csv(\"../input/marketing-strategy-personalised-offer/train_data.csv\")\n",
    "df_train.head()"
   ]
  },
  {
   "cell_type": "code",
   "execution_count": 4,
   "id": "e596b6aa",
   "metadata": {
    "execution": {
     "iopub.execute_input": "2022-12-03T05:46:30.697784Z",
     "iopub.status.busy": "2022-12-03T05:46:30.697034Z",
     "iopub.status.idle": "2022-12-03T05:46:30.730398Z",
     "shell.execute_reply": "2022-12-03T05:46:30.729048Z"
    },
    "papermill": {
     "duration": 0.04474,
     "end_time": "2022-12-03T05:46:30.733220",
     "exception": false,
     "start_time": "2022-12-03T05:46:30.688480",
     "status": "completed"
    },
    "tags": []
   },
   "outputs": [
    {
     "data": {
      "text/html": [
       "<div>\n",
       "<style scoped>\n",
       "    .dataframe tbody tr th:only-of-type {\n",
       "        vertical-align: middle;\n",
       "    }\n",
       "\n",
       "    .dataframe tbody tr th {\n",
       "        vertical-align: top;\n",
       "    }\n",
       "\n",
       "    .dataframe thead th {\n",
       "        text-align: right;\n",
       "    }\n",
       "</style>\n",
       "<table border=\"1\" class=\"dataframe\">\n",
       "  <thead>\n",
       "    <tr style=\"text-align: right;\">\n",
       "      <th></th>\n",
       "      <th>offer expiration</th>\n",
       "      <th>income_range</th>\n",
       "      <th>no_visited_Cold drinks</th>\n",
       "      <th>travelled_more_than_15mins_for_offer</th>\n",
       "      <th>Restaur_spend_less_than20</th>\n",
       "      <th>Marital Status</th>\n",
       "      <th>restaurant type</th>\n",
       "      <th>age</th>\n",
       "      <th>Prefer western over chinese</th>\n",
       "      <th>travelled_more_than_25mins_for_offer</th>\n",
       "      <th>...</th>\n",
       "      <th>Job/Job Industry</th>\n",
       "      <th>restuarant_opposite_direction_house</th>\n",
       "      <th>has Children</th>\n",
       "      <th>visit restaurant with rating (avg)</th>\n",
       "      <th>temperature</th>\n",
       "      <th>Restaur_spend_greater_than20</th>\n",
       "      <th>Travel Time</th>\n",
       "      <th>Climate</th>\n",
       "      <th>drop location</th>\n",
       "      <th>Prefer home food</th>\n",
       "    </tr>\n",
       "  </thead>\n",
       "  <tbody>\n",
       "    <tr>\n",
       "      <th>0</th>\n",
       "      <td>2days</td>\n",
       "      <td>₹100000 or More</td>\n",
       "      <td>4~8</td>\n",
       "      <td>1</td>\n",
       "      <td>less1</td>\n",
       "      <td>Married partner</td>\n",
       "      <td>4 star restaurant</td>\n",
       "      <td>36</td>\n",
       "      <td>0</td>\n",
       "      <td>0</td>\n",
       "      <td>...</td>\n",
       "      <td>Unemployed</td>\n",
       "      <td>0</td>\n",
       "      <td>0</td>\n",
       "      <td>4</td>\n",
       "      <td>67</td>\n",
       "      <td>less1</td>\n",
       "      <td>22</td>\n",
       "      <td>Spring</td>\n",
       "      <td>Location B</td>\n",
       "      <td>0</td>\n",
       "    </tr>\n",
       "    <tr>\n",
       "      <th>1</th>\n",
       "      <td>2days</td>\n",
       "      <td>₹87500 - ₹99999</td>\n",
       "      <td>4~8</td>\n",
       "      <td>0</td>\n",
       "      <td>4~8</td>\n",
       "      <td>Married partner</td>\n",
       "      <td>Take-away restaurant</td>\n",
       "      <td>50plus</td>\n",
       "      <td>0</td>\n",
       "      <td>0</td>\n",
       "      <td>...</td>\n",
       "      <td>Unemployed</td>\n",
       "      <td>0</td>\n",
       "      <td>1</td>\n",
       "      <td>3</td>\n",
       "      <td>89</td>\n",
       "      <td>1~3</td>\n",
       "      <td>18</td>\n",
       "      <td>Summer</td>\n",
       "      <td>Location B</td>\n",
       "      <td>0</td>\n",
       "    </tr>\n",
       "    <tr>\n",
       "      <th>2</th>\n",
       "      <td>2days</td>\n",
       "      <td>₹87500 - ₹99999</td>\n",
       "      <td>less1</td>\n",
       "      <td>1</td>\n",
       "      <td>1~3</td>\n",
       "      <td>Single</td>\n",
       "      <td>Cold drinks</td>\n",
       "      <td>26</td>\n",
       "      <td>1</td>\n",
       "      <td>0</td>\n",
       "      <td>...</td>\n",
       "      <td>Arts Design Entertainment Sports &amp; Media</td>\n",
       "      <td>1</td>\n",
       "      <td>1</td>\n",
       "      <td>4</td>\n",
       "      <td>67</td>\n",
       "      <td>less1</td>\n",
       "      <td>7</td>\n",
       "      <td>Winter</td>\n",
       "      <td>Location A</td>\n",
       "      <td>1</td>\n",
       "    </tr>\n",
       "    <tr>\n",
       "      <th>3</th>\n",
       "      <td>10hours</td>\n",
       "      <td>₹37500 - ₹49999</td>\n",
       "      <td>less1</td>\n",
       "      <td>0</td>\n",
       "      <td>1~3</td>\n",
       "      <td>Single</td>\n",
       "      <td>Take-away restaurant</td>\n",
       "      <td>46</td>\n",
       "      <td>1</td>\n",
       "      <td>0</td>\n",
       "      <td>...</td>\n",
       "      <td>Sales &amp; Related</td>\n",
       "      <td>0</td>\n",
       "      <td>1</td>\n",
       "      <td>3</td>\n",
       "      <td>89</td>\n",
       "      <td>1~3</td>\n",
       "      <td>7</td>\n",
       "      <td>Summer</td>\n",
       "      <td>Location C</td>\n",
       "      <td>0</td>\n",
       "    </tr>\n",
       "    <tr>\n",
       "      <th>4</th>\n",
       "      <td>2days</td>\n",
       "      <td>₹100000 or More</td>\n",
       "      <td>never</td>\n",
       "      <td>1</td>\n",
       "      <td>1~3</td>\n",
       "      <td>Single</td>\n",
       "      <td>4 star restaurant</td>\n",
       "      <td>21</td>\n",
       "      <td>0</td>\n",
       "      <td>1</td>\n",
       "      <td>...</td>\n",
       "      <td>Sales &amp; Related</td>\n",
       "      <td>1</td>\n",
       "      <td>0</td>\n",
       "      <td>3</td>\n",
       "      <td>40</td>\n",
       "      <td>less1</td>\n",
       "      <td>7</td>\n",
       "      <td>Summer</td>\n",
       "      <td>Location C</td>\n",
       "      <td>0</td>\n",
       "    </tr>\n",
       "  </tbody>\n",
       "</table>\n",
       "<p>5 rows × 30 columns</p>\n",
       "</div>"
      ],
      "text/plain": [
       "  offer expiration     income_range no_visited_Cold drinks  \\\n",
       "0            2days  ₹100000 or More                    4~8   \n",
       "1            2days  ₹87500 - ₹99999                    4~8   \n",
       "2            2days  ₹87500 - ₹99999                  less1   \n",
       "3          10hours  ₹37500 - ₹49999                  less1   \n",
       "4            2days  ₹100000 or More                  never   \n",
       "\n",
       "   travelled_more_than_15mins_for_offer Restaur_spend_less_than20  \\\n",
       "0                                     1                     less1   \n",
       "1                                     0                       4~8   \n",
       "2                                     1                       1~3   \n",
       "3                                     0                       1~3   \n",
       "4                                     1                       1~3   \n",
       "\n",
       "    Marital Status       restaurant type     age  Prefer western over chinese  \\\n",
       "0  Married partner     4 star restaurant      36                            0   \n",
       "1  Married partner  Take-away restaurant  50plus                            0   \n",
       "2           Single           Cold drinks      26                            1   \n",
       "3           Single  Take-away restaurant      46                            1   \n",
       "4           Single     4 star restaurant      21                            0   \n",
       "\n",
       "   travelled_more_than_25mins_for_offer  ...  \\\n",
       "0                                     0  ...   \n",
       "1                                     0  ...   \n",
       "2                                     0  ...   \n",
       "3                                     0  ...   \n",
       "4                                     1  ...   \n",
       "\n",
       "                           Job/Job Industry  \\\n",
       "0                                Unemployed   \n",
       "1                                Unemployed   \n",
       "2  Arts Design Entertainment Sports & Media   \n",
       "3                           Sales & Related   \n",
       "4                           Sales & Related   \n",
       "\n",
       "  restuarant_opposite_direction_house has Children  \\\n",
       "0                                   0            0   \n",
       "1                                   0            1   \n",
       "2                                   1            1   \n",
       "3                                   0            1   \n",
       "4                                   1            0   \n",
       "\n",
       "  visit restaurant with rating (avg)  temperature  \\\n",
       "0                                  4           67   \n",
       "1                                  3           89   \n",
       "2                                  4           67   \n",
       "3                                  3           89   \n",
       "4                                  3           40   \n",
       "\n",
       "   Restaur_spend_greater_than20 Travel Time Climate  drop location  \\\n",
       "0                         less1          22  Spring     Location B   \n",
       "1                           1~3          18  Summer     Location B   \n",
       "2                         less1           7  Winter     Location A   \n",
       "3                           1~3           7  Summer     Location C   \n",
       "4                         less1           7  Summer     Location C   \n",
       "\n",
       "  Prefer home food  \n",
       "0                0  \n",
       "1                0  \n",
       "2                1  \n",
       "3                0  \n",
       "4                0  \n",
       "\n",
       "[5 rows x 30 columns]"
      ]
     },
     "execution_count": 4,
     "metadata": {},
     "output_type": "execute_result"
    }
   ],
   "source": [
    "X = df_train.drop(\"Offer Accepted\", axis = 1)\n",
    "X.head()"
   ]
  },
  {
   "cell_type": "code",
   "execution_count": 5,
   "id": "0fdc5cb0",
   "metadata": {
    "execution": {
     "iopub.execute_input": "2022-12-03T05:46:30.750650Z",
     "iopub.status.busy": "2022-12-03T05:46:30.749801Z",
     "iopub.status.idle": "2022-12-03T05:46:30.760914Z",
     "shell.execute_reply": "2022-12-03T05:46:30.759590Z"
    },
    "papermill": {
     "duration": 0.022259,
     "end_time": "2022-12-03T05:46:30.763527",
     "exception": false,
     "start_time": "2022-12-03T05:46:30.741268",
     "status": "completed"
    },
    "tags": []
   },
   "outputs": [
    {
     "data": {
      "text/plain": [
       "0     No\n",
       "1    Yes\n",
       "2    Yes\n",
       "3     No\n",
       "4     No\n",
       "Name: Offer Accepted, dtype: object"
      ]
     },
     "execution_count": 5,
     "metadata": {},
     "output_type": "execute_result"
    }
   ],
   "source": [
    "y = df_train[\"Offer Accepted\"]\n",
    "y.head()"
   ]
  },
  {
   "cell_type": "code",
   "execution_count": 6,
   "id": "e3bf0fe3",
   "metadata": {
    "execution": {
     "iopub.execute_input": "2022-12-03T05:46:30.780127Z",
     "iopub.status.busy": "2022-12-03T05:46:30.779733Z",
     "iopub.status.idle": "2022-12-03T05:46:30.787157Z",
     "shell.execute_reply": "2022-12-03T05:46:30.785988Z"
    },
    "papermill": {
     "duration": 0.018361,
     "end_time": "2022-12-03T05:46:30.789403",
     "exception": false,
     "start_time": "2022-12-03T05:46:30.771042",
     "status": "completed"
    },
    "tags": []
   },
   "outputs": [
    {
     "data": {
      "text/plain": [
       "((12379, 30), (12379,))"
      ]
     },
     "execution_count": 6,
     "metadata": {},
     "output_type": "execute_result"
    }
   ],
   "source": [
    "X.shape, y.shape"
   ]
  },
  {
   "cell_type": "code",
   "execution_count": 7,
   "id": "2be95b80",
   "metadata": {
    "execution": {
     "iopub.execute_input": "2022-12-03T05:46:30.807665Z",
     "iopub.status.busy": "2022-12-03T05:46:30.807220Z",
     "iopub.status.idle": "2022-12-03T05:46:30.826681Z",
     "shell.execute_reply": "2022-12-03T05:46:30.825605Z"
    },
    "papermill": {
     "duration": 0.030883,
     "end_time": "2022-12-03T05:46:30.829082",
     "exception": false,
     "start_time": "2022-12-03T05:46:30.798199",
     "status": "completed"
    },
    "tags": []
   },
   "outputs": [
    {
     "data": {
      "text/plain": [
       "offer expiration                            0\n",
       "income_range                                0\n",
       "no_visited_Cold drinks                    198\n",
       "travelled_more_than_15mins_for_offer        0\n",
       "Restaur_spend_less_than20                 121\n",
       "Marital Status                              0\n",
       "restaurant type                             0\n",
       "age                                         0\n",
       "Prefer western over chinese                 0\n",
       "travelled_more_than_25mins_for_offer        0\n",
       "travelled_more_than_5mins_for_offer         0\n",
       "no_visited_bars                            93\n",
       "gender                                      0\n",
       "car                                     12268\n",
       "restuarant_same_direction_house             0\n",
       "Cooks regularly                             0\n",
       "Customer type                               0\n",
       "Qualification                               0\n",
       "is foodie                                   0\n",
       "no_Take-aways                             144\n",
       "Job/Job Industry                            0\n",
       "restuarant_opposite_direction_house         0\n",
       "has Children                                0\n",
       "visit restaurant with rating (avg)          0\n",
       "temperature                                 0\n",
       "Restaur_spend_greater_than20              160\n",
       "Travel Time                                 0\n",
       "Climate                                     0\n",
       "drop location                               0\n",
       "Prefer home food                            0\n",
       "dtype: int64"
      ]
     },
     "execution_count": 7,
     "metadata": {},
     "output_type": "execute_result"
    }
   ],
   "source": [
    "X.isnull().sum()"
   ]
  },
  {
   "cell_type": "code",
   "execution_count": 8,
   "id": "25c52f42",
   "metadata": {
    "execution": {
     "iopub.execute_input": "2022-12-03T05:46:30.846405Z",
     "iopub.status.busy": "2022-12-03T05:46:30.845939Z",
     "iopub.status.idle": "2022-12-03T05:46:30.852924Z",
     "shell.execute_reply": "2022-12-03T05:46:30.851769Z"
    },
    "papermill": {
     "duration": 0.018394,
     "end_time": "2022-12-03T05:46:30.855256",
     "exception": false,
     "start_time": "2022-12-03T05:46:30.836862",
     "status": "completed"
    },
    "tags": []
   },
   "outputs": [
    {
     "data": {
      "text/plain": [
       "30"
      ]
     },
     "execution_count": 8,
     "metadata": {},
     "output_type": "execute_result"
    }
   ],
   "source": [
    "names = list(X.columns)\n",
    "len(names)"
   ]
  },
  {
   "cell_type": "markdown",
   "id": "8a5da059",
   "metadata": {
    "papermill": {
     "duration": 0.008557,
     "end_time": "2022-12-03T05:46:30.871641",
     "exception": false,
     "start_time": "2022-12-03T05:46:30.863084",
     "status": "completed"
    },
    "tags": []
   },
   "source": [
    "### Data Preprocessing"
   ]
  },
  {
   "cell_type": "code",
   "execution_count": 9,
   "id": "a948329f",
   "metadata": {
    "execution": {
     "iopub.execute_input": "2022-12-03T05:46:30.889314Z",
     "iopub.status.busy": "2022-12-03T05:46:30.888895Z",
     "iopub.status.idle": "2022-12-03T05:46:30.899786Z",
     "shell.execute_reply": "2022-12-03T05:46:30.898579Z"
    },
    "papermill": {
     "duration": 0.022733,
     "end_time": "2022-12-03T05:46:30.902210",
     "exception": false,
     "start_time": "2022-12-03T05:46:30.879477",
     "status": "completed"
    },
    "tags": []
   },
   "outputs": [
    {
     "data": {
      "text/plain": [
       "Pipeline(steps=[('imputer', SimpleImputer(strategy='most_frequent')),\n",
       "                ('encoder', OrdinalEncoder())])"
      ]
     },
     "execution_count": 9,
     "metadata": {},
     "output_type": "execute_result"
    }
   ],
   "source": [
    "pipe = Pipeline([\n",
    "    ('imputer', SimpleImputer(strategy = \"most_frequent\")),\n",
    "    ('encoder', OrdinalEncoder())\n",
    "])\n",
    "pipe"
   ]
  },
  {
   "cell_type": "code",
   "execution_count": 10,
   "id": "ba21cc6e",
   "metadata": {
    "execution": {
     "iopub.execute_input": "2022-12-03T05:46:30.920175Z",
     "iopub.status.busy": "2022-12-03T05:46:30.919790Z",
     "iopub.status.idle": "2022-12-03T05:46:31.159162Z",
     "shell.execute_reply": "2022-12-03T05:46:31.158026Z"
    },
    "papermill": {
     "duration": 0.251774,
     "end_time": "2022-12-03T05:46:31.161954",
     "exception": false,
     "start_time": "2022-12-03T05:46:30.910180",
     "status": "completed"
    },
    "tags": []
   },
   "outputs": [
    {
     "data": {
      "text/html": [
       "<div>\n",
       "<style scoped>\n",
       "    .dataframe tbody tr th:only-of-type {\n",
       "        vertical-align: middle;\n",
       "    }\n",
       "\n",
       "    .dataframe tbody tr th {\n",
       "        vertical-align: top;\n",
       "    }\n",
       "\n",
       "    .dataframe thead th {\n",
       "        text-align: right;\n",
       "    }\n",
       "</style>\n",
       "<table border=\"1\" class=\"dataframe\">\n",
       "  <thead>\n",
       "    <tr style=\"text-align: right;\">\n",
       "      <th></th>\n",
       "      <th>offer expiration</th>\n",
       "      <th>income_range</th>\n",
       "      <th>no_visited_Cold drinks</th>\n",
       "      <th>travelled_more_than_15mins_for_offer</th>\n",
       "      <th>Restaur_spend_less_than20</th>\n",
       "      <th>Marital Status</th>\n",
       "      <th>restaurant type</th>\n",
       "      <th>age</th>\n",
       "      <th>Prefer western over chinese</th>\n",
       "      <th>travelled_more_than_25mins_for_offer</th>\n",
       "      <th>...</th>\n",
       "      <th>Job/Job Industry</th>\n",
       "      <th>restuarant_opposite_direction_house</th>\n",
       "      <th>has Children</th>\n",
       "      <th>visit restaurant with rating (avg)</th>\n",
       "      <th>temperature</th>\n",
       "      <th>Restaur_spend_greater_than20</th>\n",
       "      <th>Travel Time</th>\n",
       "      <th>Climate</th>\n",
       "      <th>drop location</th>\n",
       "      <th>Prefer home food</th>\n",
       "    </tr>\n",
       "  </thead>\n",
       "  <tbody>\n",
       "    <tr>\n",
       "      <th>0</th>\n",
       "      <td>1.0</td>\n",
       "      <td>1.0</td>\n",
       "      <td>1.0</td>\n",
       "      <td>1.0</td>\n",
       "      <td>3.0</td>\n",
       "      <td>1.0</td>\n",
       "      <td>1.0</td>\n",
       "      <td>3.0</td>\n",
       "      <td>0.0</td>\n",
       "      <td>0.0</td>\n",
       "      <td>...</td>\n",
       "      <td>24.0</td>\n",
       "      <td>0.0</td>\n",
       "      <td>0.0</td>\n",
       "      <td>4.0</td>\n",
       "      <td>1.0</td>\n",
       "      <td>3.0</td>\n",
       "      <td>4.0</td>\n",
       "      <td>0.0</td>\n",
       "      <td>1.0</td>\n",
       "      <td>0.0</td>\n",
       "    </tr>\n",
       "    <tr>\n",
       "      <th>1</th>\n",
       "      <td>1.0</td>\n",
       "      <td>8.0</td>\n",
       "      <td>1.0</td>\n",
       "      <td>0.0</td>\n",
       "      <td>1.0</td>\n",
       "      <td>1.0</td>\n",
       "      <td>4.0</td>\n",
       "      <td>6.0</td>\n",
       "      <td>0.0</td>\n",
       "      <td>0.0</td>\n",
       "      <td>...</td>\n",
       "      <td>24.0</td>\n",
       "      <td>0.0</td>\n",
       "      <td>1.0</td>\n",
       "      <td>3.0</td>\n",
       "      <td>2.0</td>\n",
       "      <td>0.0</td>\n",
       "      <td>3.0</td>\n",
       "      <td>1.0</td>\n",
       "      <td>1.0</td>\n",
       "      <td>0.0</td>\n",
       "    </tr>\n",
       "    <tr>\n",
       "      <th>2</th>\n",
       "      <td>1.0</td>\n",
       "      <td>8.0</td>\n",
       "      <td>3.0</td>\n",
       "      <td>1.0</td>\n",
       "      <td>0.0</td>\n",
       "      <td>2.0</td>\n",
       "      <td>2.0</td>\n",
       "      <td>1.0</td>\n",
       "      <td>1.0</td>\n",
       "      <td>0.0</td>\n",
       "      <td>...</td>\n",
       "      <td>1.0</td>\n",
       "      <td>1.0</td>\n",
       "      <td>1.0</td>\n",
       "      <td>4.0</td>\n",
       "      <td>1.0</td>\n",
       "      <td>3.0</td>\n",
       "      <td>0.0</td>\n",
       "      <td>2.0</td>\n",
       "      <td>0.0</td>\n",
       "      <td>1.0</td>\n",
       "    </tr>\n",
       "    <tr>\n",
       "      <th>3</th>\n",
       "      <td>0.0</td>\n",
       "      <td>4.0</td>\n",
       "      <td>3.0</td>\n",
       "      <td>0.0</td>\n",
       "      <td>0.0</td>\n",
       "      <td>2.0</td>\n",
       "      <td>4.0</td>\n",
       "      <td>5.0</td>\n",
       "      <td>1.0</td>\n",
       "      <td>0.0</td>\n",
       "      <td>...</td>\n",
       "      <td>21.0</td>\n",
       "      <td>0.0</td>\n",
       "      <td>1.0</td>\n",
       "      <td>3.0</td>\n",
       "      <td>2.0</td>\n",
       "      <td>0.0</td>\n",
       "      <td>0.0</td>\n",
       "      <td>1.0</td>\n",
       "      <td>2.0</td>\n",
       "      <td>0.0</td>\n",
       "    </tr>\n",
       "    <tr>\n",
       "      <th>4</th>\n",
       "      <td>1.0</td>\n",
       "      <td>1.0</td>\n",
       "      <td>4.0</td>\n",
       "      <td>1.0</td>\n",
       "      <td>0.0</td>\n",
       "      <td>2.0</td>\n",
       "      <td>1.0</td>\n",
       "      <td>0.0</td>\n",
       "      <td>0.0</td>\n",
       "      <td>1.0</td>\n",
       "      <td>...</td>\n",
       "      <td>21.0</td>\n",
       "      <td>1.0</td>\n",
       "      <td>0.0</td>\n",
       "      <td>3.0</td>\n",
       "      <td>0.0</td>\n",
       "      <td>3.0</td>\n",
       "      <td>0.0</td>\n",
       "      <td>1.0</td>\n",
       "      <td>2.0</td>\n",
       "      <td>0.0</td>\n",
       "    </tr>\n",
       "  </tbody>\n",
       "</table>\n",
       "<p>5 rows × 30 columns</p>\n",
       "</div>"
      ],
      "text/plain": [
       "   offer expiration  income_range  no_visited_Cold drinks  \\\n",
       "0               1.0           1.0                     1.0   \n",
       "1               1.0           8.0                     1.0   \n",
       "2               1.0           8.0                     3.0   \n",
       "3               0.0           4.0                     3.0   \n",
       "4               1.0           1.0                     4.0   \n",
       "\n",
       "   travelled_more_than_15mins_for_offer  Restaur_spend_less_than20  \\\n",
       "0                                   1.0                        3.0   \n",
       "1                                   0.0                        1.0   \n",
       "2                                   1.0                        0.0   \n",
       "3                                   0.0                        0.0   \n",
       "4                                   1.0                        0.0   \n",
       "\n",
       "   Marital Status  restaurant type  age  Prefer western over chinese  \\\n",
       "0             1.0              1.0  3.0                          0.0   \n",
       "1             1.0              4.0  6.0                          0.0   \n",
       "2             2.0              2.0  1.0                          1.0   \n",
       "3             2.0              4.0  5.0                          1.0   \n",
       "4             2.0              1.0  0.0                          0.0   \n",
       "\n",
       "   travelled_more_than_25mins_for_offer  ...  Job/Job Industry  \\\n",
       "0                                   0.0  ...              24.0   \n",
       "1                                   0.0  ...              24.0   \n",
       "2                                   0.0  ...               1.0   \n",
       "3                                   0.0  ...              21.0   \n",
       "4                                   1.0  ...              21.0   \n",
       "\n",
       "   restuarant_opposite_direction_house  has Children  \\\n",
       "0                                  0.0           0.0   \n",
       "1                                  0.0           1.0   \n",
       "2                                  1.0           1.0   \n",
       "3                                  0.0           1.0   \n",
       "4                                  1.0           0.0   \n",
       "\n",
       "   visit restaurant with rating (avg)  temperature  \\\n",
       "0                                 4.0          1.0   \n",
       "1                                 3.0          2.0   \n",
       "2                                 4.0          1.0   \n",
       "3                                 3.0          2.0   \n",
       "4                                 3.0          0.0   \n",
       "\n",
       "   Restaur_spend_greater_than20  Travel Time  Climate  drop location  \\\n",
       "0                           3.0          4.0      0.0            1.0   \n",
       "1                           0.0          3.0      1.0            1.0   \n",
       "2                           3.0          0.0      2.0            0.0   \n",
       "3                           0.0          0.0      1.0            2.0   \n",
       "4                           3.0          0.0      1.0            2.0   \n",
       "\n",
       "   Prefer home food  \n",
       "0               0.0  \n",
       "1               0.0  \n",
       "2               1.0  \n",
       "3               0.0  \n",
       "4               0.0  \n",
       "\n",
       "[5 rows x 30 columns]"
      ]
     },
     "execution_count": 10,
     "metadata": {},
     "output_type": "execute_result"
    }
   ],
   "source": [
    "X_new = pipe.fit_transform(X)\n",
    "\n",
    "X = pd.DataFrame(X_new, columns = names)\n",
    "X.head()"
   ]
  },
  {
   "cell_type": "code",
   "execution_count": 11,
   "id": "428b4130",
   "metadata": {
    "execution": {
     "iopub.execute_input": "2022-12-03T05:46:31.182964Z",
     "iopub.status.busy": "2022-12-03T05:46:31.180527Z",
     "iopub.status.idle": "2022-12-03T05:46:31.197841Z",
     "shell.execute_reply": "2022-12-03T05:46:31.196671Z"
    },
    "papermill": {
     "duration": 0.029627,
     "end_time": "2022-12-03T05:46:31.200379",
     "exception": false,
     "start_time": "2022-12-03T05:46:31.170752",
     "status": "completed"
    },
    "tags": []
   },
   "outputs": [
    {
     "data": {
      "text/plain": [
       "0        0\n",
       "1        1\n",
       "2        1\n",
       "3        0\n",
       "4        0\n",
       "        ..\n",
       "12374    1\n",
       "12375    1\n",
       "12376    0\n",
       "12377    1\n",
       "12378    1\n",
       "Name: Offer Accepted, Length: 12379, dtype: int64"
      ]
     },
     "execution_count": 11,
     "metadata": {},
     "output_type": "execute_result"
    }
   ],
   "source": [
    "y.replace(\"Yes\", 1, inplace = True)\n",
    "y.replace(\"No\", 0, inplace = True)\n",
    "\n",
    "y"
   ]
  },
  {
   "cell_type": "markdown",
   "id": "e3717080",
   "metadata": {
    "papermill": {
     "duration": 0.008277,
     "end_time": "2022-12-03T05:46:31.217378",
     "exception": false,
     "start_time": "2022-12-03T05:46:31.209101",
     "status": "completed"
    },
    "tags": []
   },
   "source": [
    "### Data splitting"
   ]
  },
  {
   "cell_type": "code",
   "execution_count": 12,
   "id": "5cb93f33",
   "metadata": {
    "execution": {
     "iopub.execute_input": "2022-12-03T05:46:31.236377Z",
     "iopub.status.busy": "2022-12-03T05:46:31.235983Z",
     "iopub.status.idle": "2022-12-03T05:46:31.248828Z",
     "shell.execute_reply": "2022-12-03T05:46:31.247537Z"
    },
    "papermill": {
     "duration": 0.02538,
     "end_time": "2022-12-03T05:46:31.251313",
     "exception": false,
     "start_time": "2022-12-03T05:46:31.225933",
     "status": "completed"
    },
    "tags": []
   },
   "outputs": [
    {
     "data": {
      "text/plain": [
       "((8665, 30), (3714, 30), (8665,), (3714,))"
      ]
     },
     "execution_count": 12,
     "metadata": {},
     "output_type": "execute_result"
    }
   ],
   "source": [
    "X_train, X_test, y_train, y_test = train_test_split(X, y, test_size=0.30, random_state=42)\n",
    "\n",
    "\n",
    "X_train.shape, X_test.shape, y_train.shape, y_test.shape"
   ]
  },
  {
   "cell_type": "markdown",
   "id": "c1122209",
   "metadata": {
    "papermill": {
     "duration": 0.008363,
     "end_time": "2022-12-03T05:46:31.268418",
     "exception": false,
     "start_time": "2022-12-03T05:46:31.260055",
     "status": "completed"
    },
    "tags": []
   },
   "source": [
    "### Baseline model"
   ]
  },
  {
   "cell_type": "code",
   "execution_count": 13,
   "id": "0a03b6c0",
   "metadata": {
    "execution": {
     "iopub.execute_input": "2022-12-03T05:46:31.287871Z",
     "iopub.status.busy": "2022-12-03T05:46:31.286961Z",
     "iopub.status.idle": "2022-12-03T05:46:31.292236Z",
     "shell.execute_reply": "2022-12-03T05:46:31.291351Z"
    },
    "papermill": {
     "duration": 0.017608,
     "end_time": "2022-12-03T05:46:31.294656",
     "exception": false,
     "start_time": "2022-12-03T05:46:31.277048",
     "status": "completed"
    },
    "tags": []
   },
   "outputs": [],
   "source": [
    "base_clf = DummyClassifier(strategy = \"most_frequent\") # there are other strategies"
   ]
  },
  {
   "cell_type": "code",
   "execution_count": 14,
   "id": "0b2cc222",
   "metadata": {
    "execution": {
     "iopub.execute_input": "2022-12-03T05:46:31.314318Z",
     "iopub.status.busy": "2022-12-03T05:46:31.313475Z",
     "iopub.status.idle": "2022-12-03T05:46:31.321962Z",
     "shell.execute_reply": "2022-12-03T05:46:31.320687Z"
    },
    "papermill": {
     "duration": 0.021238,
     "end_time": "2022-12-03T05:46:31.324430",
     "exception": false,
     "start_time": "2022-12-03T05:46:31.303192",
     "status": "completed"
    },
    "tags": []
   },
   "outputs": [
    {
     "data": {
      "text/plain": [
       "DummyClassifier(strategy='most_frequent')"
      ]
     },
     "execution_count": 14,
     "metadata": {},
     "output_type": "execute_result"
    }
   ],
   "source": [
    "base_clf.fit(X_train, y_train)"
   ]
  },
  {
   "cell_type": "code",
   "execution_count": 15,
   "id": "0ac643c7",
   "metadata": {
    "execution": {
     "iopub.execute_input": "2022-12-03T05:46:31.344034Z",
     "iopub.status.busy": "2022-12-03T05:46:31.343334Z",
     "iopub.status.idle": "2022-12-03T05:46:31.350386Z",
     "shell.execute_reply": "2022-12-03T05:46:31.348876Z"
    },
    "papermill": {
     "duration": 0.019936,
     "end_time": "2022-12-03T05:46:31.353105",
     "exception": false,
     "start_time": "2022-12-03T05:46:31.333169",
     "status": "completed"
    },
    "tags": []
   },
   "outputs": [
    {
     "name": "stdout",
     "output_type": "stream",
     "text": [
      "[1]\n",
      "(3714,)\n"
     ]
    }
   ],
   "source": [
    "y_pred = base_clf.predict(X_test)\n",
    "print(np.unique(y_pred))\n",
    "print(y_pred.shape)"
   ]
  },
  {
   "cell_type": "code",
   "execution_count": 16,
   "id": "5a5f98da",
   "metadata": {
    "execution": {
     "iopub.execute_input": "2022-12-03T05:46:31.373024Z",
     "iopub.status.busy": "2022-12-03T05:46:31.372316Z",
     "iopub.status.idle": "2022-12-03T05:46:31.384522Z",
     "shell.execute_reply": "2022-12-03T05:46:31.383380Z"
    },
    "papermill": {
     "duration": 0.024574,
     "end_time": "2022-12-03T05:46:31.386903",
     "exception": false,
     "start_time": "2022-12-03T05:46:31.362329",
     "status": "completed"
    },
    "tags": []
   },
   "outputs": [
    {
     "data": {
      "text/plain": [
       "0.7146565149679875"
      ]
     },
     "execution_count": 16,
     "metadata": {},
     "output_type": "execute_result"
    }
   ],
   "source": [
    "score = f1_score(y_test, y_pred)\n",
    "score"
   ]
  },
  {
   "cell_type": "markdown",
   "id": "3b6614f1",
   "metadata": {
    "papermill": {
     "duration": 0.008669,
     "end_time": "2022-12-03T05:46:31.404359",
     "exception": false,
     "start_time": "2022-12-03T05:46:31.395690",
     "status": "completed"
    },
    "tags": []
   },
   "source": [
    "### On test data"
   ]
  },
  {
   "cell_type": "code",
   "execution_count": 17,
   "id": "39efdd5e",
   "metadata": {
    "execution": {
     "iopub.execute_input": "2022-12-03T05:46:31.424168Z",
     "iopub.status.busy": "2022-12-03T05:46:31.423316Z",
     "iopub.status.idle": "2022-12-03T05:46:31.587290Z",
     "shell.execute_reply": "2022-12-03T05:46:31.586074Z"
    },
    "papermill": {
     "duration": 0.176875,
     "end_time": "2022-12-03T05:46:31.589964",
     "exception": false,
     "start_time": "2022-12-03T05:46:31.413089",
     "status": "completed"
    },
    "tags": []
   },
   "outputs": [
    {
     "name": "stdout",
     "output_type": "stream",
     "text": [
      "(5305, 30)\n"
     ]
    },
    {
     "data": {
      "text/html": [
       "<div>\n",
       "<style scoped>\n",
       "    .dataframe tbody tr th:only-of-type {\n",
       "        vertical-align: middle;\n",
       "    }\n",
       "\n",
       "    .dataframe tbody tr th {\n",
       "        vertical-align: top;\n",
       "    }\n",
       "\n",
       "    .dataframe thead th {\n",
       "        text-align: right;\n",
       "    }\n",
       "</style>\n",
       "<table border=\"1\" class=\"dataframe\">\n",
       "  <thead>\n",
       "    <tr style=\"text-align: right;\">\n",
       "      <th></th>\n",
       "      <th>offer expiration</th>\n",
       "      <th>income_range</th>\n",
       "      <th>no_visited_Cold drinks</th>\n",
       "      <th>travelled_more_than_15mins_for_offer</th>\n",
       "      <th>Restaur_spend_less_than20</th>\n",
       "      <th>Marital Status</th>\n",
       "      <th>restaurant type</th>\n",
       "      <th>age</th>\n",
       "      <th>Prefer western over chinese</th>\n",
       "      <th>travelled_more_than_25mins_for_offer</th>\n",
       "      <th>...</th>\n",
       "      <th>Job/Job Industry</th>\n",
       "      <th>restuarant_opposite_direction_house</th>\n",
       "      <th>has Children</th>\n",
       "      <th>visit restaurant with rating (avg)</th>\n",
       "      <th>temperature</th>\n",
       "      <th>Restaur_spend_greater_than20</th>\n",
       "      <th>Travel Time</th>\n",
       "      <th>Climate</th>\n",
       "      <th>drop location</th>\n",
       "      <th>Prefer home food</th>\n",
       "    </tr>\n",
       "  </thead>\n",
       "  <tbody>\n",
       "    <tr>\n",
       "      <th>0</th>\n",
       "      <td>1.0</td>\n",
       "      <td>4.0</td>\n",
       "      <td>0.0</td>\n",
       "      <td>1.0</td>\n",
       "      <td>0.0</td>\n",
       "      <td>0.0</td>\n",
       "      <td>4.0</td>\n",
       "      <td>6.0</td>\n",
       "      <td>0.0</td>\n",
       "      <td>1.0</td>\n",
       "      <td>...</td>\n",
       "      <td>21.0</td>\n",
       "      <td>1.0</td>\n",
       "      <td>1.0</td>\n",
       "      <td>4.0</td>\n",
       "      <td>2.0</td>\n",
       "      <td>3.0</td>\n",
       "      <td>0.0</td>\n",
       "      <td>1.0</td>\n",
       "      <td>2.0</td>\n",
       "      <td>0.0</td>\n",
       "    </tr>\n",
       "    <tr>\n",
       "      <th>1</th>\n",
       "      <td>0.0</td>\n",
       "      <td>3.0</td>\n",
       "      <td>1.0</td>\n",
       "      <td>0.0</td>\n",
       "      <td>0.0</td>\n",
       "      <td>3.0</td>\n",
       "      <td>2.0</td>\n",
       "      <td>0.0</td>\n",
       "      <td>1.0</td>\n",
       "      <td>0.0</td>\n",
       "      <td>...</td>\n",
       "      <td>5.0</td>\n",
       "      <td>1.0</td>\n",
       "      <td>1.0</td>\n",
       "      <td>0.0</td>\n",
       "      <td>1.0</td>\n",
       "      <td>3.0</td>\n",
       "      <td>3.0</td>\n",
       "      <td>1.0</td>\n",
       "      <td>0.0</td>\n",
       "      <td>1.0</td>\n",
       "    </tr>\n",
       "    <tr>\n",
       "      <th>2</th>\n",
       "      <td>1.0</td>\n",
       "      <td>1.0</td>\n",
       "      <td>4.0</td>\n",
       "      <td>1.0</td>\n",
       "      <td>4.0</td>\n",
       "      <td>2.0</td>\n",
       "      <td>2.0</td>\n",
       "      <td>0.0</td>\n",
       "      <td>1.0</td>\n",
       "      <td>0.0</td>\n",
       "      <td>...</td>\n",
       "      <td>24.0</td>\n",
       "      <td>1.0</td>\n",
       "      <td>0.0</td>\n",
       "      <td>4.0</td>\n",
       "      <td>1.0</td>\n",
       "      <td>4.0</td>\n",
       "      <td>0.0</td>\n",
       "      <td>1.0</td>\n",
       "      <td>2.0</td>\n",
       "      <td>0.0</td>\n",
       "    </tr>\n",
       "    <tr>\n",
       "      <th>3</th>\n",
       "      <td>1.0</td>\n",
       "      <td>3.0</td>\n",
       "      <td>4.0</td>\n",
       "      <td>1.0</td>\n",
       "      <td>0.0</td>\n",
       "      <td>1.0</td>\n",
       "      <td>3.0</td>\n",
       "      <td>4.0</td>\n",
       "      <td>0.0</td>\n",
       "      <td>0.0</td>\n",
       "      <td>...</td>\n",
       "      <td>24.0</td>\n",
       "      <td>1.0</td>\n",
       "      <td>1.0</td>\n",
       "      <td>0.0</td>\n",
       "      <td>0.0</td>\n",
       "      <td>3.0</td>\n",
       "      <td>3.0</td>\n",
       "      <td>0.0</td>\n",
       "      <td>2.0</td>\n",
       "      <td>1.0</td>\n",
       "    </tr>\n",
       "    <tr>\n",
       "      <th>4</th>\n",
       "      <td>0.0</td>\n",
       "      <td>2.0</td>\n",
       "      <td>4.0</td>\n",
       "      <td>0.0</td>\n",
       "      <td>0.0</td>\n",
       "      <td>2.0</td>\n",
       "      <td>0.0</td>\n",
       "      <td>2.0</td>\n",
       "      <td>1.0</td>\n",
       "      <td>0.0</td>\n",
       "      <td>...</td>\n",
       "      <td>24.0</td>\n",
       "      <td>0.0</td>\n",
       "      <td>0.0</td>\n",
       "      <td>0.0</td>\n",
       "      <td>2.0</td>\n",
       "      <td>0.0</td>\n",
       "      <td>3.0</td>\n",
       "      <td>1.0</td>\n",
       "      <td>1.0</td>\n",
       "      <td>1.0</td>\n",
       "    </tr>\n",
       "  </tbody>\n",
       "</table>\n",
       "<p>5 rows × 30 columns</p>\n",
       "</div>"
      ],
      "text/plain": [
       "   offer expiration  income_range  no_visited_Cold drinks  \\\n",
       "0               1.0           4.0                     0.0   \n",
       "1               0.0           3.0                     1.0   \n",
       "2               1.0           1.0                     4.0   \n",
       "3               1.0           3.0                     4.0   \n",
       "4               0.0           2.0                     4.0   \n",
       "\n",
       "   travelled_more_than_15mins_for_offer  Restaur_spend_less_than20  \\\n",
       "0                                   1.0                        0.0   \n",
       "1                                   0.0                        0.0   \n",
       "2                                   1.0                        4.0   \n",
       "3                                   1.0                        0.0   \n",
       "4                                   0.0                        0.0   \n",
       "\n",
       "   Marital Status  restaurant type  age  Prefer western over chinese  \\\n",
       "0             0.0              4.0  6.0                          0.0   \n",
       "1             3.0              2.0  0.0                          1.0   \n",
       "2             2.0              2.0  0.0                          1.0   \n",
       "3             1.0              3.0  4.0                          0.0   \n",
       "4             2.0              0.0  2.0                          1.0   \n",
       "\n",
       "   travelled_more_than_25mins_for_offer  ...  Job/Job Industry  \\\n",
       "0                                   1.0  ...              21.0   \n",
       "1                                   0.0  ...               5.0   \n",
       "2                                   0.0  ...              24.0   \n",
       "3                                   0.0  ...              24.0   \n",
       "4                                   0.0  ...              24.0   \n",
       "\n",
       "   restuarant_opposite_direction_house  has Children  \\\n",
       "0                                  1.0           1.0   \n",
       "1                                  1.0           1.0   \n",
       "2                                  1.0           0.0   \n",
       "3                                  1.0           1.0   \n",
       "4                                  0.0           0.0   \n",
       "\n",
       "   visit restaurant with rating (avg)  temperature  \\\n",
       "0                                 4.0          2.0   \n",
       "1                                 0.0          1.0   \n",
       "2                                 4.0          1.0   \n",
       "3                                 0.0          0.0   \n",
       "4                                 0.0          2.0   \n",
       "\n",
       "   Restaur_spend_greater_than20  Travel Time  Climate  drop location  \\\n",
       "0                           3.0          0.0      1.0            2.0   \n",
       "1                           3.0          3.0      1.0            0.0   \n",
       "2                           4.0          0.0      1.0            2.0   \n",
       "3                           3.0          3.0      0.0            2.0   \n",
       "4                           0.0          3.0      1.0            1.0   \n",
       "\n",
       "   Prefer home food  \n",
       "0               0.0  \n",
       "1               1.0  \n",
       "2               0.0  \n",
       "3               1.0  \n",
       "4               1.0  \n",
       "\n",
       "[5 rows x 30 columns]"
      ]
     },
     "execution_count": 17,
     "metadata": {},
     "output_type": "execute_result"
    }
   ],
   "source": [
    "df_public_test = pd.read_csv(\"../input/marketing-strategy-personalised-offer/test_data.csv\")\n",
    "\n",
    "X_test_public = pipe.fit_transform(df_public_test)\n",
    "\n",
    "X_test_public = pd.DataFrame(X_test_public, columns = names)\n",
    "print(X_test_public.shape)\n",
    "X_test_public.head()"
   ]
  },
  {
   "cell_type": "code",
   "execution_count": 18,
   "id": "f781ff30",
   "metadata": {
    "execution": {
     "iopub.execute_input": "2022-12-03T05:46:31.610601Z",
     "iopub.status.busy": "2022-12-03T05:46:31.610208Z",
     "iopub.status.idle": "2022-12-03T05:46:31.618295Z",
     "shell.execute_reply": "2022-12-03T05:46:31.616629Z"
    },
    "papermill": {
     "duration": 0.021665,
     "end_time": "2022-12-03T05:46:31.621089",
     "exception": false,
     "start_time": "2022-12-03T05:46:31.599424",
     "status": "completed"
    },
    "tags": []
   },
   "outputs": [
    {
     "name": "stdout",
     "output_type": "stream",
     "text": [
      "[1]\n",
      "(5305,)\n"
     ]
    }
   ],
   "source": [
    "y_pred_public = base_clf.predict(X_test_public)\n",
    "print(np.unique(y_pred_public))\n",
    "print(y_pred_public.shape)"
   ]
  },
  {
   "cell_type": "markdown",
   "id": "026d9ff0",
   "metadata": {
    "papermill": {
     "duration": 0.009074,
     "end_time": "2022-12-03T05:46:31.639641",
     "exception": false,
     "start_time": "2022-12-03T05:46:31.630567",
     "status": "completed"
    },
    "tags": []
   },
   "source": [
    "### Output"
   ]
  },
  {
   "cell_type": "code",
   "execution_count": 19,
   "id": "7481928c",
   "metadata": {
    "execution": {
     "iopub.execute_input": "2022-12-03T05:46:31.660742Z",
     "iopub.status.busy": "2022-12-03T05:46:31.659534Z",
     "iopub.status.idle": "2022-12-03T05:46:31.670995Z",
     "shell.execute_reply": "2022-12-03T05:46:31.670007Z"
    },
    "papermill": {
     "duration": 0.024451,
     "end_time": "2022-12-03T05:46:31.673402",
     "exception": false,
     "start_time": "2022-12-03T05:46:31.648951",
     "status": "completed"
    },
    "tags": []
   },
   "outputs": [],
   "source": [
    "sub = pd.DataFrame(y_pred_public, columns = [\"Offer Accepted\"])\n",
    "sub.insert(0, 'id', range(0, len(sub)))\n",
    "sub['Offer Accepted'].replace(1, \"Yes\", inplace = True)\n",
    "sub['Offer Accepted'].replace(0, \"No\", inplace = True)"
   ]
  },
  {
   "cell_type": "code",
   "execution_count": 20,
   "id": "7c30982d",
   "metadata": {
    "execution": {
     "iopub.execute_input": "2022-12-03T05:46:31.696827Z",
     "iopub.status.busy": "2022-12-03T05:46:31.696372Z",
     "iopub.status.idle": "2022-12-03T05:46:31.704182Z",
     "shell.execute_reply": "2022-12-03T05:46:31.702892Z"
    },
    "papermill": {
     "duration": 0.02186,
     "end_time": "2022-12-03T05:46:31.706669",
     "exception": false,
     "start_time": "2022-12-03T05:46:31.684809",
     "status": "completed"
    },
    "tags": []
   },
   "outputs": [
    {
     "data": {
      "text/plain": [
       "Index(['id', 'Offer Accepted'], dtype='object')"
      ]
     },
     "execution_count": 20,
     "metadata": {},
     "output_type": "execute_result"
    }
   ],
   "source": [
    "sub.columns"
   ]
  },
  {
   "cell_type": "code",
   "execution_count": 21,
   "id": "2803fbc5",
   "metadata": {
    "execution": {
     "iopub.execute_input": "2022-12-03T05:46:31.728602Z",
     "iopub.status.busy": "2022-12-03T05:46:31.727965Z",
     "iopub.status.idle": "2022-12-03T05:46:31.740585Z",
     "shell.execute_reply": "2022-12-03T05:46:31.739728Z"
    },
    "papermill": {
     "duration": 0.026988,
     "end_time": "2022-12-03T05:46:31.743295",
     "exception": false,
     "start_time": "2022-12-03T05:46:31.716307",
     "status": "completed"
    },
    "tags": []
   },
   "outputs": [],
   "source": [
    "sub.to_csv('submission.csv', index = False)"
   ]
  }
 ],
 "metadata": {
  "kernelspec": {
   "display_name": "Python 3",
   "language": "python",
   "name": "python3"
  },
  "language_info": {
   "codemirror_mode": {
    "name": "ipython",
    "version": 3
   },
   "file_extension": ".py",
   "mimetype": "text/x-python",
   "name": "python",
   "nbconvert_exporter": "python",
   "pygments_lexer": "ipython3",
   "version": "3.7.12"
  },
  "papermill": {
   "default_parameters": {},
   "duration": 13.568556,
   "end_time": "2022-12-03T05:46:32.575372",
   "environment_variables": {},
   "exception": null,
   "input_path": "__notebook__.ipynb",
   "output_path": "__notebook__.ipynb",
   "parameters": {},
   "start_time": "2022-12-03T05:46:19.006816",
   "version": "2.3.4"
  }
 },
 "nbformat": 4,
 "nbformat_minor": 5
}
