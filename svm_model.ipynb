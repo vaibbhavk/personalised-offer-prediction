{
 "cells": [
  {
   "cell_type": "code",
   "execution_count": 1,
   "id": "8906a2e8",
   "metadata": {
    "_cell_guid": "b1076dfc-b9ad-4769-8c92-a6c4dae69d19",
    "_uuid": "8f2839f25d086af736a60e9eeb907d3b93b6e0e5",
    "execution": {
     "iopub.execute_input": "2022-12-03T10:59:58.947610Z",
     "iopub.status.busy": "2022-12-03T10:59:58.947136Z",
     "iopub.status.idle": "2022-12-03T10:59:58.961328Z",
     "shell.execute_reply": "2022-12-03T10:59:58.960417Z"
    },
    "papermill": {
     "duration": 0.026827,
     "end_time": "2022-12-03T10:59:58.964318",
     "exception": false,
     "start_time": "2022-12-03T10:59:58.937491",
     "status": "completed"
    },
    "tags": []
   },
   "outputs": [
    {
     "name": "stdout",
     "output_type": "stream",
     "text": [
      "/kaggle/input/marketing-strategy-personalised-offer/sample.csv\n",
      "/kaggle/input/marketing-strategy-personalised-offer/train_data.csv\n",
      "/kaggle/input/marketing-strategy-personalised-offer/test_data.csv\n"
     ]
    }
   ],
   "source": [
    "# This Python 3 environment comes with many helpful analytics libraries installed\n",
    "# It is defined by the kaggle/python Docker image: https://github.com/kaggle/docker-python\n",
    "# For example, here's several helpful packages to load\n",
    "\n",
    "import numpy as np # linear algebra\n",
    "import pandas as pd # data processing, CSV file I/O (e.g. pd.read_csv)\n",
    "\n",
    "# Input data files are available in the read-only \"../input/\" directory\n",
    "# For example, running this (by clicking run or pressing Shift+Enter) will list all files under the input directory\n",
    "\n",
    "import os\n",
    "for dirname, _, filenames in os.walk('/kaggle/input'):\n",
    "    for filename in filenames:\n",
    "        print(os.path.join(dirname, filename))\n",
    "\n",
    "# You can write up to 20GB to the current directory (/kaggle/working/) that gets preserved as output when you create a version using \"Save & Run All\" \n",
    "# You can also write temporary files to /kaggle/temp/, but they won't be saved outside of the current session"
   ]
  },
  {
   "cell_type": "code",
   "execution_count": 2,
   "id": "ab8d553d",
   "metadata": {
    "execution": {
     "iopub.execute_input": "2022-12-03T10:59:58.980149Z",
     "iopub.status.busy": "2022-12-03T10:59:58.979421Z",
     "iopub.status.idle": "2022-12-03T11:00:00.656306Z",
     "shell.execute_reply": "2022-12-03T11:00:00.654716Z"
    },
    "papermill": {
     "duration": 1.687941,
     "end_time": "2022-12-03T11:00:00.659142",
     "exception": false,
     "start_time": "2022-12-03T10:59:58.971201",
     "status": "completed"
    },
    "tags": []
   },
   "outputs": [],
   "source": [
    "# common imports\n",
    "import numpy as np\n",
    "import pandas as pd\n",
    "import os\n",
    "import io\n",
    "import warnings\n",
    "\n",
    "# sklearn specific imports\n",
    "from sklearn.datasets import fetch_openml\n",
    "from sklearn.preprocessing import MinMaxScaler\n",
    "from sklearn.preprocessing import OrdinalEncoder\n",
    "from sklearn.impute import SimpleImputer\n",
    "from sklearn.pipeline import Pipeline, make_pipeline\n",
    "from sklearn.dummy import DummyClassifier\n",
    "from sklearn.preprocessing import LabelEncoder\n",
    "from sklearn.linear_model import Perceptron\n",
    "from sklearn.svm import SVC\n",
    "from sklearn.neighbors import KNeighborsClassifier\n",
    "from sklearn.decomposition import PCA\n",
    "from sklearn.metrics import hinge_loss\n",
    "from sklearn.metrics import f1_score\n",
    "from sklearn.metrics import ConfusionMatrixDisplay, confusion_matrix, precision_recall_curve\n",
    "from sklearn.metrics import precision_score, recall_score, classification_report\n",
    "from sklearn.metrics import make_scorer\n",
    "from sklearn.model_selection import cross_validate, cross_val_predict, GridSearchCV, train_test_split\n",
    "from pprint import pprint\n",
    "\n",
    "import matplotlib.pyplot as plt\n",
    "import seaborn as sns"
   ]
  },
  {
   "cell_type": "markdown",
   "id": "a47936ac",
   "metadata": {
    "papermill": {
     "duration": 0.006175,
     "end_time": "2022-12-03T11:00:00.672362",
     "exception": false,
     "start_time": "2022-12-03T11:00:00.666187",
     "status": "completed"
    },
    "tags": []
   },
   "source": [
    "### Data loading"
   ]
  },
  {
   "cell_type": "code",
   "execution_count": 3,
   "id": "314efd84",
   "metadata": {
    "execution": {
     "iopub.execute_input": "2022-12-03T11:00:00.687437Z",
     "iopub.status.busy": "2022-12-03T11:00:00.687028Z",
     "iopub.status.idle": "2022-12-03T11:00:00.860537Z",
     "shell.execute_reply": "2022-12-03T11:00:00.859214Z"
    },
    "papermill": {
     "duration": 0.184429,
     "end_time": "2022-12-03T11:00:00.863331",
     "exception": false,
     "start_time": "2022-12-03T11:00:00.678902",
     "status": "completed"
    },
    "tags": []
   },
   "outputs": [
    {
     "data": {
      "text/html": [
       "<div>\n",
       "<style scoped>\n",
       "    .dataframe tbody tr th:only-of-type {\n",
       "        vertical-align: middle;\n",
       "    }\n",
       "\n",
       "    .dataframe tbody tr th {\n",
       "        vertical-align: top;\n",
       "    }\n",
       "\n",
       "    .dataframe thead th {\n",
       "        text-align: right;\n",
       "    }\n",
       "</style>\n",
       "<table border=\"1\" class=\"dataframe\">\n",
       "  <thead>\n",
       "    <tr style=\"text-align: right;\">\n",
       "      <th></th>\n",
       "      <th>offer expiration</th>\n",
       "      <th>income_range</th>\n",
       "      <th>no_visited_Cold drinks</th>\n",
       "      <th>travelled_more_than_15mins_for_offer</th>\n",
       "      <th>Restaur_spend_less_than20</th>\n",
       "      <th>Marital Status</th>\n",
       "      <th>restaurant type</th>\n",
       "      <th>age</th>\n",
       "      <th>Prefer western over chinese</th>\n",
       "      <th>travelled_more_than_25mins_for_offer</th>\n",
       "      <th>...</th>\n",
       "      <th>restuarant_opposite_direction_house</th>\n",
       "      <th>has Children</th>\n",
       "      <th>visit restaurant with rating (avg)</th>\n",
       "      <th>temperature</th>\n",
       "      <th>Restaur_spend_greater_than20</th>\n",
       "      <th>Travel Time</th>\n",
       "      <th>Climate</th>\n",
       "      <th>drop location</th>\n",
       "      <th>Prefer home food</th>\n",
       "      <th>Offer Accepted</th>\n",
       "    </tr>\n",
       "  </thead>\n",
       "  <tbody>\n",
       "    <tr>\n",
       "      <th>0</th>\n",
       "      <td>2days</td>\n",
       "      <td>₹100000 or More</td>\n",
       "      <td>4~8</td>\n",
       "      <td>1</td>\n",
       "      <td>less1</td>\n",
       "      <td>Married partner</td>\n",
       "      <td>4 star restaurant</td>\n",
       "      <td>36</td>\n",
       "      <td>0</td>\n",
       "      <td>0</td>\n",
       "      <td>...</td>\n",
       "      <td>0</td>\n",
       "      <td>0</td>\n",
       "      <td>4</td>\n",
       "      <td>67</td>\n",
       "      <td>less1</td>\n",
       "      <td>22</td>\n",
       "      <td>Spring</td>\n",
       "      <td>Location B</td>\n",
       "      <td>0</td>\n",
       "      <td>No</td>\n",
       "    </tr>\n",
       "    <tr>\n",
       "      <th>1</th>\n",
       "      <td>2days</td>\n",
       "      <td>₹87500 - ₹99999</td>\n",
       "      <td>4~8</td>\n",
       "      <td>0</td>\n",
       "      <td>4~8</td>\n",
       "      <td>Married partner</td>\n",
       "      <td>Take-away restaurant</td>\n",
       "      <td>50plus</td>\n",
       "      <td>0</td>\n",
       "      <td>0</td>\n",
       "      <td>...</td>\n",
       "      <td>0</td>\n",
       "      <td>1</td>\n",
       "      <td>3</td>\n",
       "      <td>89</td>\n",
       "      <td>1~3</td>\n",
       "      <td>18</td>\n",
       "      <td>Summer</td>\n",
       "      <td>Location B</td>\n",
       "      <td>0</td>\n",
       "      <td>Yes</td>\n",
       "    </tr>\n",
       "    <tr>\n",
       "      <th>2</th>\n",
       "      <td>2days</td>\n",
       "      <td>₹87500 - ₹99999</td>\n",
       "      <td>less1</td>\n",
       "      <td>1</td>\n",
       "      <td>1~3</td>\n",
       "      <td>Single</td>\n",
       "      <td>Cold drinks</td>\n",
       "      <td>26</td>\n",
       "      <td>1</td>\n",
       "      <td>0</td>\n",
       "      <td>...</td>\n",
       "      <td>1</td>\n",
       "      <td>1</td>\n",
       "      <td>4</td>\n",
       "      <td>67</td>\n",
       "      <td>less1</td>\n",
       "      <td>7</td>\n",
       "      <td>Winter</td>\n",
       "      <td>Location A</td>\n",
       "      <td>1</td>\n",
       "      <td>Yes</td>\n",
       "    </tr>\n",
       "    <tr>\n",
       "      <th>3</th>\n",
       "      <td>10hours</td>\n",
       "      <td>₹37500 - ₹49999</td>\n",
       "      <td>less1</td>\n",
       "      <td>0</td>\n",
       "      <td>1~3</td>\n",
       "      <td>Single</td>\n",
       "      <td>Take-away restaurant</td>\n",
       "      <td>46</td>\n",
       "      <td>1</td>\n",
       "      <td>0</td>\n",
       "      <td>...</td>\n",
       "      <td>0</td>\n",
       "      <td>1</td>\n",
       "      <td>3</td>\n",
       "      <td>89</td>\n",
       "      <td>1~3</td>\n",
       "      <td>7</td>\n",
       "      <td>Summer</td>\n",
       "      <td>Location C</td>\n",
       "      <td>0</td>\n",
       "      <td>No</td>\n",
       "    </tr>\n",
       "    <tr>\n",
       "      <th>4</th>\n",
       "      <td>2days</td>\n",
       "      <td>₹100000 or More</td>\n",
       "      <td>never</td>\n",
       "      <td>1</td>\n",
       "      <td>1~3</td>\n",
       "      <td>Single</td>\n",
       "      <td>4 star restaurant</td>\n",
       "      <td>21</td>\n",
       "      <td>0</td>\n",
       "      <td>1</td>\n",
       "      <td>...</td>\n",
       "      <td>1</td>\n",
       "      <td>0</td>\n",
       "      <td>3</td>\n",
       "      <td>40</td>\n",
       "      <td>less1</td>\n",
       "      <td>7</td>\n",
       "      <td>Summer</td>\n",
       "      <td>Location C</td>\n",
       "      <td>0</td>\n",
       "      <td>No</td>\n",
       "    </tr>\n",
       "  </tbody>\n",
       "</table>\n",
       "<p>5 rows × 31 columns</p>\n",
       "</div>"
      ],
      "text/plain": [
       "  offer expiration     income_range no_visited_Cold drinks  \\\n",
       "0            2days  ₹100000 or More                    4~8   \n",
       "1            2days  ₹87500 - ₹99999                    4~8   \n",
       "2            2days  ₹87500 - ₹99999                  less1   \n",
       "3          10hours  ₹37500 - ₹49999                  less1   \n",
       "4            2days  ₹100000 or More                  never   \n",
       "\n",
       "   travelled_more_than_15mins_for_offer Restaur_spend_less_than20  \\\n",
       "0                                     1                     less1   \n",
       "1                                     0                       4~8   \n",
       "2                                     1                       1~3   \n",
       "3                                     0                       1~3   \n",
       "4                                     1                       1~3   \n",
       "\n",
       "    Marital Status       restaurant type     age  Prefer western over chinese  \\\n",
       "0  Married partner     4 star restaurant      36                            0   \n",
       "1  Married partner  Take-away restaurant  50plus                            0   \n",
       "2           Single           Cold drinks      26                            1   \n",
       "3           Single  Take-away restaurant      46                            1   \n",
       "4           Single     4 star restaurant      21                            0   \n",
       "\n",
       "   travelled_more_than_25mins_for_offer  ...  \\\n",
       "0                                     0  ...   \n",
       "1                                     0  ...   \n",
       "2                                     0  ...   \n",
       "3                                     0  ...   \n",
       "4                                     1  ...   \n",
       "\n",
       "   restuarant_opposite_direction_house has Children  \\\n",
       "0                                    0            0   \n",
       "1                                    0            1   \n",
       "2                                    1            1   \n",
       "3                                    0            1   \n",
       "4                                    1            0   \n",
       "\n",
       "  visit restaurant with rating (avg) temperature  \\\n",
       "0                                  4          67   \n",
       "1                                  3          89   \n",
       "2                                  4          67   \n",
       "3                                  3          89   \n",
       "4                                  3          40   \n",
       "\n",
       "   Restaur_spend_greater_than20  Travel Time Climate drop location  \\\n",
       "0                         less1           22  Spring    Location B   \n",
       "1                           1~3           18  Summer    Location B   \n",
       "2                         less1            7  Winter    Location A   \n",
       "3                           1~3            7  Summer    Location C   \n",
       "4                         less1            7  Summer    Location C   \n",
       "\n",
       "   Prefer home food Offer Accepted  \n",
       "0                 0             No  \n",
       "1                 0            Yes  \n",
       "2                 1            Yes  \n",
       "3                 0             No  \n",
       "4                 0             No  \n",
       "\n",
       "[5 rows x 31 columns]"
      ]
     },
     "execution_count": 3,
     "metadata": {},
     "output_type": "execute_result"
    }
   ],
   "source": [
    "# df = pd.read_csv('../input/marketing-strategy-personalised-offer/sample.csv')\n",
    "\n",
    "df_train = pd.read_csv(\"../input/marketing-strategy-personalised-offer/train_data.csv\")\n",
    "df_train.head()"
   ]
  },
  {
   "cell_type": "code",
   "execution_count": 4,
   "id": "1162e3d8",
   "metadata": {
    "execution": {
     "iopub.execute_input": "2022-12-03T11:00:00.879951Z",
     "iopub.status.busy": "2022-12-03T11:00:00.878907Z",
     "iopub.status.idle": "2022-12-03T11:00:00.911564Z",
     "shell.execute_reply": "2022-12-03T11:00:00.910065Z"
    },
    "papermill": {
     "duration": 0.043874,
     "end_time": "2022-12-03T11:00:00.914347",
     "exception": false,
     "start_time": "2022-12-03T11:00:00.870473",
     "status": "completed"
    },
    "tags": []
   },
   "outputs": [
    {
     "data": {
      "text/html": [
       "<div>\n",
       "<style scoped>\n",
       "    .dataframe tbody tr th:only-of-type {\n",
       "        vertical-align: middle;\n",
       "    }\n",
       "\n",
       "    .dataframe tbody tr th {\n",
       "        vertical-align: top;\n",
       "    }\n",
       "\n",
       "    .dataframe thead th {\n",
       "        text-align: right;\n",
       "    }\n",
       "</style>\n",
       "<table border=\"1\" class=\"dataframe\">\n",
       "  <thead>\n",
       "    <tr style=\"text-align: right;\">\n",
       "      <th></th>\n",
       "      <th>offer expiration</th>\n",
       "      <th>income_range</th>\n",
       "      <th>no_visited_Cold drinks</th>\n",
       "      <th>travelled_more_than_15mins_for_offer</th>\n",
       "      <th>Restaur_spend_less_than20</th>\n",
       "      <th>Marital Status</th>\n",
       "      <th>restaurant type</th>\n",
       "      <th>age</th>\n",
       "      <th>Prefer western over chinese</th>\n",
       "      <th>travelled_more_than_25mins_for_offer</th>\n",
       "      <th>...</th>\n",
       "      <th>Job/Job Industry</th>\n",
       "      <th>restuarant_opposite_direction_house</th>\n",
       "      <th>has Children</th>\n",
       "      <th>visit restaurant with rating (avg)</th>\n",
       "      <th>temperature</th>\n",
       "      <th>Restaur_spend_greater_than20</th>\n",
       "      <th>Travel Time</th>\n",
       "      <th>Climate</th>\n",
       "      <th>drop location</th>\n",
       "      <th>Prefer home food</th>\n",
       "    </tr>\n",
       "  </thead>\n",
       "  <tbody>\n",
       "    <tr>\n",
       "      <th>0</th>\n",
       "      <td>2days</td>\n",
       "      <td>₹100000 or More</td>\n",
       "      <td>4~8</td>\n",
       "      <td>1</td>\n",
       "      <td>less1</td>\n",
       "      <td>Married partner</td>\n",
       "      <td>4 star restaurant</td>\n",
       "      <td>36</td>\n",
       "      <td>0</td>\n",
       "      <td>0</td>\n",
       "      <td>...</td>\n",
       "      <td>Unemployed</td>\n",
       "      <td>0</td>\n",
       "      <td>0</td>\n",
       "      <td>4</td>\n",
       "      <td>67</td>\n",
       "      <td>less1</td>\n",
       "      <td>22</td>\n",
       "      <td>Spring</td>\n",
       "      <td>Location B</td>\n",
       "      <td>0</td>\n",
       "    </tr>\n",
       "    <tr>\n",
       "      <th>1</th>\n",
       "      <td>2days</td>\n",
       "      <td>₹87500 - ₹99999</td>\n",
       "      <td>4~8</td>\n",
       "      <td>0</td>\n",
       "      <td>4~8</td>\n",
       "      <td>Married partner</td>\n",
       "      <td>Take-away restaurant</td>\n",
       "      <td>50plus</td>\n",
       "      <td>0</td>\n",
       "      <td>0</td>\n",
       "      <td>...</td>\n",
       "      <td>Unemployed</td>\n",
       "      <td>0</td>\n",
       "      <td>1</td>\n",
       "      <td>3</td>\n",
       "      <td>89</td>\n",
       "      <td>1~3</td>\n",
       "      <td>18</td>\n",
       "      <td>Summer</td>\n",
       "      <td>Location B</td>\n",
       "      <td>0</td>\n",
       "    </tr>\n",
       "    <tr>\n",
       "      <th>2</th>\n",
       "      <td>2days</td>\n",
       "      <td>₹87500 - ₹99999</td>\n",
       "      <td>less1</td>\n",
       "      <td>1</td>\n",
       "      <td>1~3</td>\n",
       "      <td>Single</td>\n",
       "      <td>Cold drinks</td>\n",
       "      <td>26</td>\n",
       "      <td>1</td>\n",
       "      <td>0</td>\n",
       "      <td>...</td>\n",
       "      <td>Arts Design Entertainment Sports &amp; Media</td>\n",
       "      <td>1</td>\n",
       "      <td>1</td>\n",
       "      <td>4</td>\n",
       "      <td>67</td>\n",
       "      <td>less1</td>\n",
       "      <td>7</td>\n",
       "      <td>Winter</td>\n",
       "      <td>Location A</td>\n",
       "      <td>1</td>\n",
       "    </tr>\n",
       "    <tr>\n",
       "      <th>3</th>\n",
       "      <td>10hours</td>\n",
       "      <td>₹37500 - ₹49999</td>\n",
       "      <td>less1</td>\n",
       "      <td>0</td>\n",
       "      <td>1~3</td>\n",
       "      <td>Single</td>\n",
       "      <td>Take-away restaurant</td>\n",
       "      <td>46</td>\n",
       "      <td>1</td>\n",
       "      <td>0</td>\n",
       "      <td>...</td>\n",
       "      <td>Sales &amp; Related</td>\n",
       "      <td>0</td>\n",
       "      <td>1</td>\n",
       "      <td>3</td>\n",
       "      <td>89</td>\n",
       "      <td>1~3</td>\n",
       "      <td>7</td>\n",
       "      <td>Summer</td>\n",
       "      <td>Location C</td>\n",
       "      <td>0</td>\n",
       "    </tr>\n",
       "    <tr>\n",
       "      <th>4</th>\n",
       "      <td>2days</td>\n",
       "      <td>₹100000 or More</td>\n",
       "      <td>never</td>\n",
       "      <td>1</td>\n",
       "      <td>1~3</td>\n",
       "      <td>Single</td>\n",
       "      <td>4 star restaurant</td>\n",
       "      <td>21</td>\n",
       "      <td>0</td>\n",
       "      <td>1</td>\n",
       "      <td>...</td>\n",
       "      <td>Sales &amp; Related</td>\n",
       "      <td>1</td>\n",
       "      <td>0</td>\n",
       "      <td>3</td>\n",
       "      <td>40</td>\n",
       "      <td>less1</td>\n",
       "      <td>7</td>\n",
       "      <td>Summer</td>\n",
       "      <td>Location C</td>\n",
       "      <td>0</td>\n",
       "    </tr>\n",
       "  </tbody>\n",
       "</table>\n",
       "<p>5 rows × 30 columns</p>\n",
       "</div>"
      ],
      "text/plain": [
       "  offer expiration     income_range no_visited_Cold drinks  \\\n",
       "0            2days  ₹100000 or More                    4~8   \n",
       "1            2days  ₹87500 - ₹99999                    4~8   \n",
       "2            2days  ₹87500 - ₹99999                  less1   \n",
       "3          10hours  ₹37500 - ₹49999                  less1   \n",
       "4            2days  ₹100000 or More                  never   \n",
       "\n",
       "   travelled_more_than_15mins_for_offer Restaur_spend_less_than20  \\\n",
       "0                                     1                     less1   \n",
       "1                                     0                       4~8   \n",
       "2                                     1                       1~3   \n",
       "3                                     0                       1~3   \n",
       "4                                     1                       1~3   \n",
       "\n",
       "    Marital Status       restaurant type     age  Prefer western over chinese  \\\n",
       "0  Married partner     4 star restaurant      36                            0   \n",
       "1  Married partner  Take-away restaurant  50plus                            0   \n",
       "2           Single           Cold drinks      26                            1   \n",
       "3           Single  Take-away restaurant      46                            1   \n",
       "4           Single     4 star restaurant      21                            0   \n",
       "\n",
       "   travelled_more_than_25mins_for_offer  ...  \\\n",
       "0                                     0  ...   \n",
       "1                                     0  ...   \n",
       "2                                     0  ...   \n",
       "3                                     0  ...   \n",
       "4                                     1  ...   \n",
       "\n",
       "                           Job/Job Industry  \\\n",
       "0                                Unemployed   \n",
       "1                                Unemployed   \n",
       "2  Arts Design Entertainment Sports & Media   \n",
       "3                           Sales & Related   \n",
       "4                           Sales & Related   \n",
       "\n",
       "  restuarant_opposite_direction_house has Children  \\\n",
       "0                                   0            0   \n",
       "1                                   0            1   \n",
       "2                                   1            1   \n",
       "3                                   0            1   \n",
       "4                                   1            0   \n",
       "\n",
       "  visit restaurant with rating (avg)  temperature  \\\n",
       "0                                  4           67   \n",
       "1                                  3           89   \n",
       "2                                  4           67   \n",
       "3                                  3           89   \n",
       "4                                  3           40   \n",
       "\n",
       "   Restaur_spend_greater_than20 Travel Time Climate  drop location  \\\n",
       "0                         less1          22  Spring     Location B   \n",
       "1                           1~3          18  Summer     Location B   \n",
       "2                         less1           7  Winter     Location A   \n",
       "3                           1~3           7  Summer     Location C   \n",
       "4                         less1           7  Summer     Location C   \n",
       "\n",
       "  Prefer home food  \n",
       "0                0  \n",
       "1                0  \n",
       "2                1  \n",
       "3                0  \n",
       "4                0  \n",
       "\n",
       "[5 rows x 30 columns]"
      ]
     },
     "execution_count": 4,
     "metadata": {},
     "output_type": "execute_result"
    }
   ],
   "source": [
    "X = df_train.drop(\"Offer Accepted\", axis = 1)\n",
    "X.head()"
   ]
  },
  {
   "cell_type": "code",
   "execution_count": 5,
   "id": "9df15791",
   "metadata": {
    "execution": {
     "iopub.execute_input": "2022-12-03T11:00:00.930962Z",
     "iopub.status.busy": "2022-12-03T11:00:00.930546Z",
     "iopub.status.idle": "2022-12-03T11:00:00.942066Z",
     "shell.execute_reply": "2022-12-03T11:00:00.940866Z"
    },
    "papermill": {
     "duration": 0.02275,
     "end_time": "2022-12-03T11:00:00.944542",
     "exception": false,
     "start_time": "2022-12-03T11:00:00.921792",
     "status": "completed"
    },
    "tags": []
   },
   "outputs": [
    {
     "data": {
      "text/plain": [
       "0     No\n",
       "1    Yes\n",
       "2    Yes\n",
       "3     No\n",
       "4     No\n",
       "Name: Offer Accepted, dtype: object"
      ]
     },
     "execution_count": 5,
     "metadata": {},
     "output_type": "execute_result"
    }
   ],
   "source": [
    "y = df_train[\"Offer Accepted\"]\n",
    "y.head()"
   ]
  },
  {
   "cell_type": "code",
   "execution_count": 6,
   "id": "21989391",
   "metadata": {
    "execution": {
     "iopub.execute_input": "2022-12-03T11:00:00.961679Z",
     "iopub.status.busy": "2022-12-03T11:00:00.961265Z",
     "iopub.status.idle": "2022-12-03T11:00:00.968586Z",
     "shell.execute_reply": "2022-12-03T11:00:00.967664Z"
    },
    "papermill": {
     "duration": 0.018456,
     "end_time": "2022-12-03T11:00:00.970854",
     "exception": false,
     "start_time": "2022-12-03T11:00:00.952398",
     "status": "completed"
    },
    "tags": []
   },
   "outputs": [
    {
     "data": {
      "text/plain": [
       "((12379, 30), (12379,))"
      ]
     },
     "execution_count": 6,
     "metadata": {},
     "output_type": "execute_result"
    }
   ],
   "source": [
    "X.shape, y.shape"
   ]
  },
  {
   "cell_type": "code",
   "execution_count": 7,
   "id": "a6a4e9b2",
   "metadata": {
    "execution": {
     "iopub.execute_input": "2022-12-03T11:00:00.988914Z",
     "iopub.status.busy": "2022-12-03T11:00:00.988476Z",
     "iopub.status.idle": "2022-12-03T11:00:01.008130Z",
     "shell.execute_reply": "2022-12-03T11:00:01.006952Z"
    },
    "papermill": {
     "duration": 0.03204,
     "end_time": "2022-12-03T11:00:01.010597",
     "exception": false,
     "start_time": "2022-12-03T11:00:00.978557",
     "status": "completed"
    },
    "tags": []
   },
   "outputs": [
    {
     "data": {
      "text/plain": [
       "offer expiration                            0\n",
       "income_range                                0\n",
       "no_visited_Cold drinks                    198\n",
       "travelled_more_than_15mins_for_offer        0\n",
       "Restaur_spend_less_than20                 121\n",
       "Marital Status                              0\n",
       "restaurant type                             0\n",
       "age                                         0\n",
       "Prefer western over chinese                 0\n",
       "travelled_more_than_25mins_for_offer        0\n",
       "travelled_more_than_5mins_for_offer         0\n",
       "no_visited_bars                            93\n",
       "gender                                      0\n",
       "car                                     12268\n",
       "restuarant_same_direction_house             0\n",
       "Cooks regularly                             0\n",
       "Customer type                               0\n",
       "Qualification                               0\n",
       "is foodie                                   0\n",
       "no_Take-aways                             144\n",
       "Job/Job Industry                            0\n",
       "restuarant_opposite_direction_house         0\n",
       "has Children                                0\n",
       "visit restaurant with rating (avg)          0\n",
       "temperature                                 0\n",
       "Restaur_spend_greater_than20              160\n",
       "Travel Time                                 0\n",
       "Climate                                     0\n",
       "drop location                               0\n",
       "Prefer home food                            0\n",
       "dtype: int64"
      ]
     },
     "execution_count": 7,
     "metadata": {},
     "output_type": "execute_result"
    }
   ],
   "source": [
    "X.isnull().sum()"
   ]
  },
  {
   "cell_type": "code",
   "execution_count": 8,
   "id": "7d1db85b",
   "metadata": {
    "execution": {
     "iopub.execute_input": "2022-12-03T11:00:01.028149Z",
     "iopub.status.busy": "2022-12-03T11:00:01.027659Z",
     "iopub.status.idle": "2022-12-03T11:00:01.034476Z",
     "shell.execute_reply": "2022-12-03T11:00:01.033453Z"
    },
    "papermill": {
     "duration": 0.018195,
     "end_time": "2022-12-03T11:00:01.036745",
     "exception": false,
     "start_time": "2022-12-03T11:00:01.018550",
     "status": "completed"
    },
    "tags": []
   },
   "outputs": [
    {
     "data": {
      "text/plain": [
       "30"
      ]
     },
     "execution_count": 8,
     "metadata": {},
     "output_type": "execute_result"
    }
   ],
   "source": [
    "names = list(X.columns)\n",
    "len(names)"
   ]
  },
  {
   "cell_type": "markdown",
   "id": "6f9c525d",
   "metadata": {
    "papermill": {
     "duration": 0.008735,
     "end_time": "2022-12-03T11:00:01.053374",
     "exception": false,
     "start_time": "2022-12-03T11:00:01.044639",
     "status": "completed"
    },
    "tags": []
   },
   "source": [
    "### Data Preprocessing"
   ]
  },
  {
   "cell_type": "code",
   "execution_count": 9,
   "id": "ef5cafab",
   "metadata": {
    "execution": {
     "iopub.execute_input": "2022-12-03T11:00:01.071888Z",
     "iopub.status.busy": "2022-12-03T11:00:01.071450Z",
     "iopub.status.idle": "2022-12-03T11:00:01.083698Z",
     "shell.execute_reply": "2022-12-03T11:00:01.082301Z"
    },
    "papermill": {
     "duration": 0.025379,
     "end_time": "2022-12-03T11:00:01.086675",
     "exception": false,
     "start_time": "2022-12-03T11:00:01.061296",
     "status": "completed"
    },
    "tags": []
   },
   "outputs": [
    {
     "data": {
      "text/plain": [
       "Pipeline(steps=[('imputer', SimpleImputer(strategy='most_frequent')),\n",
       "                ('encoder', OrdinalEncoder())])"
      ]
     },
     "execution_count": 9,
     "metadata": {},
     "output_type": "execute_result"
    }
   ],
   "source": [
    "pipe = Pipeline([\n",
    "    ('imputer', SimpleImputer(strategy = \"most_frequent\")),\n",
    "    ('encoder', OrdinalEncoder())\n",
    "])\n",
    "pipe"
   ]
  },
  {
   "cell_type": "code",
   "execution_count": 10,
   "id": "b3b5b3c0",
   "metadata": {
    "execution": {
     "iopub.execute_input": "2022-12-03T11:00:01.104529Z",
     "iopub.status.busy": "2022-12-03T11:00:01.104131Z",
     "iopub.status.idle": "2022-12-03T11:00:01.335338Z",
     "shell.execute_reply": "2022-12-03T11:00:01.334462Z"
    },
    "papermill": {
     "duration": 0.24311,
     "end_time": "2022-12-03T11:00:01.337742",
     "exception": false,
     "start_time": "2022-12-03T11:00:01.094632",
     "status": "completed"
    },
    "tags": []
   },
   "outputs": [
    {
     "data": {
      "text/html": [
       "<div>\n",
       "<style scoped>\n",
       "    .dataframe tbody tr th:only-of-type {\n",
       "        vertical-align: middle;\n",
       "    }\n",
       "\n",
       "    .dataframe tbody tr th {\n",
       "        vertical-align: top;\n",
       "    }\n",
       "\n",
       "    .dataframe thead th {\n",
       "        text-align: right;\n",
       "    }\n",
       "</style>\n",
       "<table border=\"1\" class=\"dataframe\">\n",
       "  <thead>\n",
       "    <tr style=\"text-align: right;\">\n",
       "      <th></th>\n",
       "      <th>offer expiration</th>\n",
       "      <th>income_range</th>\n",
       "      <th>no_visited_Cold drinks</th>\n",
       "      <th>travelled_more_than_15mins_for_offer</th>\n",
       "      <th>Restaur_spend_less_than20</th>\n",
       "      <th>Marital Status</th>\n",
       "      <th>restaurant type</th>\n",
       "      <th>age</th>\n",
       "      <th>Prefer western over chinese</th>\n",
       "      <th>travelled_more_than_25mins_for_offer</th>\n",
       "      <th>...</th>\n",
       "      <th>Job/Job Industry</th>\n",
       "      <th>restuarant_opposite_direction_house</th>\n",
       "      <th>has Children</th>\n",
       "      <th>visit restaurant with rating (avg)</th>\n",
       "      <th>temperature</th>\n",
       "      <th>Restaur_spend_greater_than20</th>\n",
       "      <th>Travel Time</th>\n",
       "      <th>Climate</th>\n",
       "      <th>drop location</th>\n",
       "      <th>Prefer home food</th>\n",
       "    </tr>\n",
       "  </thead>\n",
       "  <tbody>\n",
       "    <tr>\n",
       "      <th>0</th>\n",
       "      <td>1.0</td>\n",
       "      <td>1.0</td>\n",
       "      <td>1.0</td>\n",
       "      <td>1.0</td>\n",
       "      <td>3.0</td>\n",
       "      <td>1.0</td>\n",
       "      <td>1.0</td>\n",
       "      <td>3.0</td>\n",
       "      <td>0.0</td>\n",
       "      <td>0.0</td>\n",
       "      <td>...</td>\n",
       "      <td>24.0</td>\n",
       "      <td>0.0</td>\n",
       "      <td>0.0</td>\n",
       "      <td>4.0</td>\n",
       "      <td>1.0</td>\n",
       "      <td>3.0</td>\n",
       "      <td>4.0</td>\n",
       "      <td>0.0</td>\n",
       "      <td>1.0</td>\n",
       "      <td>0.0</td>\n",
       "    </tr>\n",
       "    <tr>\n",
       "      <th>1</th>\n",
       "      <td>1.0</td>\n",
       "      <td>8.0</td>\n",
       "      <td>1.0</td>\n",
       "      <td>0.0</td>\n",
       "      <td>1.0</td>\n",
       "      <td>1.0</td>\n",
       "      <td>4.0</td>\n",
       "      <td>6.0</td>\n",
       "      <td>0.0</td>\n",
       "      <td>0.0</td>\n",
       "      <td>...</td>\n",
       "      <td>24.0</td>\n",
       "      <td>0.0</td>\n",
       "      <td>1.0</td>\n",
       "      <td>3.0</td>\n",
       "      <td>2.0</td>\n",
       "      <td>0.0</td>\n",
       "      <td>3.0</td>\n",
       "      <td>1.0</td>\n",
       "      <td>1.0</td>\n",
       "      <td>0.0</td>\n",
       "    </tr>\n",
       "    <tr>\n",
       "      <th>2</th>\n",
       "      <td>1.0</td>\n",
       "      <td>8.0</td>\n",
       "      <td>3.0</td>\n",
       "      <td>1.0</td>\n",
       "      <td>0.0</td>\n",
       "      <td>2.0</td>\n",
       "      <td>2.0</td>\n",
       "      <td>1.0</td>\n",
       "      <td>1.0</td>\n",
       "      <td>0.0</td>\n",
       "      <td>...</td>\n",
       "      <td>1.0</td>\n",
       "      <td>1.0</td>\n",
       "      <td>1.0</td>\n",
       "      <td>4.0</td>\n",
       "      <td>1.0</td>\n",
       "      <td>3.0</td>\n",
       "      <td>0.0</td>\n",
       "      <td>2.0</td>\n",
       "      <td>0.0</td>\n",
       "      <td>1.0</td>\n",
       "    </tr>\n",
       "    <tr>\n",
       "      <th>3</th>\n",
       "      <td>0.0</td>\n",
       "      <td>4.0</td>\n",
       "      <td>3.0</td>\n",
       "      <td>0.0</td>\n",
       "      <td>0.0</td>\n",
       "      <td>2.0</td>\n",
       "      <td>4.0</td>\n",
       "      <td>5.0</td>\n",
       "      <td>1.0</td>\n",
       "      <td>0.0</td>\n",
       "      <td>...</td>\n",
       "      <td>21.0</td>\n",
       "      <td>0.0</td>\n",
       "      <td>1.0</td>\n",
       "      <td>3.0</td>\n",
       "      <td>2.0</td>\n",
       "      <td>0.0</td>\n",
       "      <td>0.0</td>\n",
       "      <td>1.0</td>\n",
       "      <td>2.0</td>\n",
       "      <td>0.0</td>\n",
       "    </tr>\n",
       "    <tr>\n",
       "      <th>4</th>\n",
       "      <td>1.0</td>\n",
       "      <td>1.0</td>\n",
       "      <td>4.0</td>\n",
       "      <td>1.0</td>\n",
       "      <td>0.0</td>\n",
       "      <td>2.0</td>\n",
       "      <td>1.0</td>\n",
       "      <td>0.0</td>\n",
       "      <td>0.0</td>\n",
       "      <td>1.0</td>\n",
       "      <td>...</td>\n",
       "      <td>21.0</td>\n",
       "      <td>1.0</td>\n",
       "      <td>0.0</td>\n",
       "      <td>3.0</td>\n",
       "      <td>0.0</td>\n",
       "      <td>3.0</td>\n",
       "      <td>0.0</td>\n",
       "      <td>1.0</td>\n",
       "      <td>2.0</td>\n",
       "      <td>0.0</td>\n",
       "    </tr>\n",
       "  </tbody>\n",
       "</table>\n",
       "<p>5 rows × 30 columns</p>\n",
       "</div>"
      ],
      "text/plain": [
       "   offer expiration  income_range  no_visited_Cold drinks  \\\n",
       "0               1.0           1.0                     1.0   \n",
       "1               1.0           8.0                     1.0   \n",
       "2               1.0           8.0                     3.0   \n",
       "3               0.0           4.0                     3.0   \n",
       "4               1.0           1.0                     4.0   \n",
       "\n",
       "   travelled_more_than_15mins_for_offer  Restaur_spend_less_than20  \\\n",
       "0                                   1.0                        3.0   \n",
       "1                                   0.0                        1.0   \n",
       "2                                   1.0                        0.0   \n",
       "3                                   0.0                        0.0   \n",
       "4                                   1.0                        0.0   \n",
       "\n",
       "   Marital Status  restaurant type  age  Prefer western over chinese  \\\n",
       "0             1.0              1.0  3.0                          0.0   \n",
       "1             1.0              4.0  6.0                          0.0   \n",
       "2             2.0              2.0  1.0                          1.0   \n",
       "3             2.0              4.0  5.0                          1.0   \n",
       "4             2.0              1.0  0.0                          0.0   \n",
       "\n",
       "   travelled_more_than_25mins_for_offer  ...  Job/Job Industry  \\\n",
       "0                                   0.0  ...              24.0   \n",
       "1                                   0.0  ...              24.0   \n",
       "2                                   0.0  ...               1.0   \n",
       "3                                   0.0  ...              21.0   \n",
       "4                                   1.0  ...              21.0   \n",
       "\n",
       "   restuarant_opposite_direction_house  has Children  \\\n",
       "0                                  0.0           0.0   \n",
       "1                                  0.0           1.0   \n",
       "2                                  1.0           1.0   \n",
       "3                                  0.0           1.0   \n",
       "4                                  1.0           0.0   \n",
       "\n",
       "   visit restaurant with rating (avg)  temperature  \\\n",
       "0                                 4.0          1.0   \n",
       "1                                 3.0          2.0   \n",
       "2                                 4.0          1.0   \n",
       "3                                 3.0          2.0   \n",
       "4                                 3.0          0.0   \n",
       "\n",
       "   Restaur_spend_greater_than20  Travel Time  Climate  drop location  \\\n",
       "0                           3.0          4.0      0.0            1.0   \n",
       "1                           0.0          3.0      1.0            1.0   \n",
       "2                           3.0          0.0      2.0            0.0   \n",
       "3                           0.0          0.0      1.0            2.0   \n",
       "4                           3.0          0.0      1.0            2.0   \n",
       "\n",
       "   Prefer home food  \n",
       "0               0.0  \n",
       "1               0.0  \n",
       "2               1.0  \n",
       "3               0.0  \n",
       "4               0.0  \n",
       "\n",
       "[5 rows x 30 columns]"
      ]
     },
     "execution_count": 10,
     "metadata": {},
     "output_type": "execute_result"
    }
   ],
   "source": [
    "X_new = pipe.fit_transform(X)\n",
    "\n",
    "X = pd.DataFrame(X_new, columns = names)\n",
    "X.head()"
   ]
  },
  {
   "cell_type": "code",
   "execution_count": 11,
   "id": "a9b31050",
   "metadata": {
    "execution": {
     "iopub.execute_input": "2022-12-03T11:00:01.356795Z",
     "iopub.status.busy": "2022-12-03T11:00:01.355743Z",
     "iopub.status.idle": "2022-12-03T11:00:01.372381Z",
     "shell.execute_reply": "2022-12-03T11:00:01.371489Z"
    },
    "papermill": {
     "duration": 0.028508,
     "end_time": "2022-12-03T11:00:01.374680",
     "exception": false,
     "start_time": "2022-12-03T11:00:01.346172",
     "status": "completed"
    },
    "tags": []
   },
   "outputs": [
    {
     "data": {
      "text/plain": [
       "0        0\n",
       "1        1\n",
       "2        1\n",
       "3        0\n",
       "4        0\n",
       "        ..\n",
       "12374    1\n",
       "12375    1\n",
       "12376    0\n",
       "12377    1\n",
       "12378    1\n",
       "Name: Offer Accepted, Length: 12379, dtype: int64"
      ]
     },
     "execution_count": 11,
     "metadata": {},
     "output_type": "execute_result"
    }
   ],
   "source": [
    "y.replace(\"Yes\", 1, inplace = True)\n",
    "y.replace(\"No\", 0, inplace = True)\n",
    "\n",
    "y"
   ]
  },
  {
   "cell_type": "markdown",
   "id": "488ed0bf",
   "metadata": {
    "papermill": {
     "duration": 0.008248,
     "end_time": "2022-12-03T11:00:01.391946",
     "exception": false,
     "start_time": "2022-12-03T11:00:01.383698",
     "status": "completed"
    },
    "tags": []
   },
   "source": [
    "### Data splitting"
   ]
  },
  {
   "cell_type": "code",
   "execution_count": 12,
   "id": "a4ee8d35",
   "metadata": {
    "execution": {
     "iopub.execute_input": "2022-12-03T11:00:01.410518Z",
     "iopub.status.busy": "2022-12-03T11:00:01.410124Z",
     "iopub.status.idle": "2022-12-03T11:00:01.422349Z",
     "shell.execute_reply": "2022-12-03T11:00:01.421313Z"
    },
    "papermill": {
     "duration": 0.02455,
     "end_time": "2022-12-03T11:00:01.424786",
     "exception": false,
     "start_time": "2022-12-03T11:00:01.400236",
     "status": "completed"
    },
    "tags": []
   },
   "outputs": [
    {
     "data": {
      "text/plain": [
       "((8665, 30), (3714, 30), (8665,), (3714,))"
      ]
     },
     "execution_count": 12,
     "metadata": {},
     "output_type": "execute_result"
    }
   ],
   "source": [
    "X_train, X_test, y_train, y_test = train_test_split(X, y, test_size=0.30, random_state=42)\n",
    "\n",
    "\n",
    "X_train.shape, X_test.shape, y_train.shape, y_test.shape"
   ]
  },
  {
   "cell_type": "markdown",
   "id": "ae62df40",
   "metadata": {
    "papermill": {
     "duration": 0.008339,
     "end_time": "2022-12-03T11:00:01.441724",
     "exception": false,
     "start_time": "2022-12-03T11:00:01.433385",
     "status": "completed"
    },
    "tags": []
   },
   "source": [
    "### SVM model"
   ]
  },
  {
   "cell_type": "markdown",
   "id": "d82d4d1c",
   "metadata": {
    "papermill": {
     "duration": 0.008678,
     "end_time": "2022-12-03T11:00:01.459040",
     "exception": false,
     "start_time": "2022-12-03T11:00:01.450362",
     "status": "completed"
    },
    "tags": []
   },
   "source": [
    "#### Using Non linear kernel"
   ]
  },
  {
   "cell_type": "code",
   "execution_count": 13,
   "id": "0ba8c963",
   "metadata": {
    "execution": {
     "iopub.execute_input": "2022-12-03T11:00:01.478615Z",
     "iopub.status.busy": "2022-12-03T11:00:01.477801Z",
     "iopub.status.idle": "2022-12-03T11:00:07.742467Z",
     "shell.execute_reply": "2022-12-03T11:00:07.741330Z"
    },
    "papermill": {
     "duration": 6.277349,
     "end_time": "2022-12-03T11:00:07.745071",
     "exception": false,
     "start_time": "2022-12-03T11:00:01.467722",
     "status": "completed"
    },
    "tags": []
   },
   "outputs": [
    {
     "data": {
      "text/plain": [
       "Pipeline(steps=[('scaler', MinMaxScaler()),\n",
       "                ('classifier', SVC(C=1, gamma=0.1))])"
      ]
     },
     "execution_count": 13,
     "metadata": {},
     "output_type": "execute_result"
    }
   ],
   "source": [
    "pipe_1 = Pipeline([\n",
    "    (\"scaler\", MinMaxScaler()),\n",
    "    (\"classifier\", SVC(kernel = \"rbf\", gamma = 0.1, C = 1))\n",
    "])\n",
    "\n",
    "pipe_1.fit(X_train, y_train)"
   ]
  },
  {
   "cell_type": "code",
   "execution_count": 14,
   "id": "87507c5c",
   "metadata": {
    "execution": {
     "iopub.execute_input": "2022-12-03T11:00:07.764896Z",
     "iopub.status.busy": "2022-12-03T11:00:07.764247Z",
     "iopub.status.idle": "2022-12-03T11:00:11.482225Z",
     "shell.execute_reply": "2022-12-03T11:00:11.480713Z"
    },
    "papermill": {
     "duration": 3.731491,
     "end_time": "2022-12-03T11:00:11.485123",
     "exception": false,
     "start_time": "2022-12-03T11:00:07.753632",
     "status": "completed"
    },
    "tags": []
   },
   "outputs": [
    {
     "name": "stdout",
     "output_type": "stream",
     "text": [
      "[0 1]\n",
      "(3714,)\n"
     ]
    }
   ],
   "source": [
    "y_pred = pipe_1.predict(X_test)\n",
    "print(np.unique(y_pred))\n",
    "print(y_pred.shape)"
   ]
  },
  {
   "cell_type": "code",
   "execution_count": 15,
   "id": "c27e8789",
   "metadata": {
    "execution": {
     "iopub.execute_input": "2022-12-03T11:00:11.505745Z",
     "iopub.status.busy": "2022-12-03T11:00:11.505314Z",
     "iopub.status.idle": "2022-12-03T11:00:11.516570Z",
     "shell.execute_reply": "2022-12-03T11:00:11.515496Z"
    },
    "papermill": {
     "duration": 0.023893,
     "end_time": "2022-12-03T11:00:11.519050",
     "exception": false,
     "start_time": "2022-12-03T11:00:11.495157",
     "status": "completed"
    },
    "tags": []
   },
   "outputs": [
    {
     "data": {
      "text/plain": [
       "0.7072228659714175"
      ]
     },
     "execution_count": 15,
     "metadata": {},
     "output_type": "execute_result"
    }
   ],
   "source": [
    "score = f1_score(y_test, y_pred)\n",
    "score"
   ]
  },
  {
   "cell_type": "markdown",
   "id": "a32f5f47",
   "metadata": {
    "papermill": {
     "duration": 0.008471,
     "end_time": "2022-12-03T11:00:11.536735",
     "exception": false,
     "start_time": "2022-12-03T11:00:11.528264",
     "status": "completed"
    },
    "tags": []
   },
   "source": [
    "### On test data"
   ]
  },
  {
   "cell_type": "code",
   "execution_count": 16,
   "id": "9487b734",
   "metadata": {
    "execution": {
     "iopub.execute_input": "2022-12-03T11:00:11.556344Z",
     "iopub.status.busy": "2022-12-03T11:00:11.555902Z",
     "iopub.status.idle": "2022-12-03T11:00:11.720110Z",
     "shell.execute_reply": "2022-12-03T11:00:11.718727Z"
    },
    "papermill": {
     "duration": 0.177286,
     "end_time": "2022-12-03T11:00:11.722749",
     "exception": false,
     "start_time": "2022-12-03T11:00:11.545463",
     "status": "completed"
    },
    "tags": []
   },
   "outputs": [
    {
     "name": "stdout",
     "output_type": "stream",
     "text": [
      "(5305, 30)\n"
     ]
    },
    {
     "data": {
      "text/html": [
       "<div>\n",
       "<style scoped>\n",
       "    .dataframe tbody tr th:only-of-type {\n",
       "        vertical-align: middle;\n",
       "    }\n",
       "\n",
       "    .dataframe tbody tr th {\n",
       "        vertical-align: top;\n",
       "    }\n",
       "\n",
       "    .dataframe thead th {\n",
       "        text-align: right;\n",
       "    }\n",
       "</style>\n",
       "<table border=\"1\" class=\"dataframe\">\n",
       "  <thead>\n",
       "    <tr style=\"text-align: right;\">\n",
       "      <th></th>\n",
       "      <th>offer expiration</th>\n",
       "      <th>income_range</th>\n",
       "      <th>no_visited_Cold drinks</th>\n",
       "      <th>travelled_more_than_15mins_for_offer</th>\n",
       "      <th>Restaur_spend_less_than20</th>\n",
       "      <th>Marital Status</th>\n",
       "      <th>restaurant type</th>\n",
       "      <th>age</th>\n",
       "      <th>Prefer western over chinese</th>\n",
       "      <th>travelled_more_than_25mins_for_offer</th>\n",
       "      <th>...</th>\n",
       "      <th>Job/Job Industry</th>\n",
       "      <th>restuarant_opposite_direction_house</th>\n",
       "      <th>has Children</th>\n",
       "      <th>visit restaurant with rating (avg)</th>\n",
       "      <th>temperature</th>\n",
       "      <th>Restaur_spend_greater_than20</th>\n",
       "      <th>Travel Time</th>\n",
       "      <th>Climate</th>\n",
       "      <th>drop location</th>\n",
       "      <th>Prefer home food</th>\n",
       "    </tr>\n",
       "  </thead>\n",
       "  <tbody>\n",
       "    <tr>\n",
       "      <th>0</th>\n",
       "      <td>1.0</td>\n",
       "      <td>4.0</td>\n",
       "      <td>0.0</td>\n",
       "      <td>1.0</td>\n",
       "      <td>0.0</td>\n",
       "      <td>0.0</td>\n",
       "      <td>4.0</td>\n",
       "      <td>6.0</td>\n",
       "      <td>0.0</td>\n",
       "      <td>1.0</td>\n",
       "      <td>...</td>\n",
       "      <td>21.0</td>\n",
       "      <td>1.0</td>\n",
       "      <td>1.0</td>\n",
       "      <td>4.0</td>\n",
       "      <td>2.0</td>\n",
       "      <td>3.0</td>\n",
       "      <td>0.0</td>\n",
       "      <td>1.0</td>\n",
       "      <td>2.0</td>\n",
       "      <td>0.0</td>\n",
       "    </tr>\n",
       "    <tr>\n",
       "      <th>1</th>\n",
       "      <td>0.0</td>\n",
       "      <td>3.0</td>\n",
       "      <td>1.0</td>\n",
       "      <td>0.0</td>\n",
       "      <td>0.0</td>\n",
       "      <td>3.0</td>\n",
       "      <td>2.0</td>\n",
       "      <td>0.0</td>\n",
       "      <td>1.0</td>\n",
       "      <td>0.0</td>\n",
       "      <td>...</td>\n",
       "      <td>5.0</td>\n",
       "      <td>1.0</td>\n",
       "      <td>1.0</td>\n",
       "      <td>0.0</td>\n",
       "      <td>1.0</td>\n",
       "      <td>3.0</td>\n",
       "      <td>3.0</td>\n",
       "      <td>1.0</td>\n",
       "      <td>0.0</td>\n",
       "      <td>1.0</td>\n",
       "    </tr>\n",
       "    <tr>\n",
       "      <th>2</th>\n",
       "      <td>1.0</td>\n",
       "      <td>1.0</td>\n",
       "      <td>4.0</td>\n",
       "      <td>1.0</td>\n",
       "      <td>4.0</td>\n",
       "      <td>2.0</td>\n",
       "      <td>2.0</td>\n",
       "      <td>0.0</td>\n",
       "      <td>1.0</td>\n",
       "      <td>0.0</td>\n",
       "      <td>...</td>\n",
       "      <td>24.0</td>\n",
       "      <td>1.0</td>\n",
       "      <td>0.0</td>\n",
       "      <td>4.0</td>\n",
       "      <td>1.0</td>\n",
       "      <td>4.0</td>\n",
       "      <td>0.0</td>\n",
       "      <td>1.0</td>\n",
       "      <td>2.0</td>\n",
       "      <td>0.0</td>\n",
       "    </tr>\n",
       "    <tr>\n",
       "      <th>3</th>\n",
       "      <td>1.0</td>\n",
       "      <td>3.0</td>\n",
       "      <td>4.0</td>\n",
       "      <td>1.0</td>\n",
       "      <td>0.0</td>\n",
       "      <td>1.0</td>\n",
       "      <td>3.0</td>\n",
       "      <td>4.0</td>\n",
       "      <td>0.0</td>\n",
       "      <td>0.0</td>\n",
       "      <td>...</td>\n",
       "      <td>24.0</td>\n",
       "      <td>1.0</td>\n",
       "      <td>1.0</td>\n",
       "      <td>0.0</td>\n",
       "      <td>0.0</td>\n",
       "      <td>3.0</td>\n",
       "      <td>3.0</td>\n",
       "      <td>0.0</td>\n",
       "      <td>2.0</td>\n",
       "      <td>1.0</td>\n",
       "    </tr>\n",
       "    <tr>\n",
       "      <th>4</th>\n",
       "      <td>0.0</td>\n",
       "      <td>2.0</td>\n",
       "      <td>4.0</td>\n",
       "      <td>0.0</td>\n",
       "      <td>0.0</td>\n",
       "      <td>2.0</td>\n",
       "      <td>0.0</td>\n",
       "      <td>2.0</td>\n",
       "      <td>1.0</td>\n",
       "      <td>0.0</td>\n",
       "      <td>...</td>\n",
       "      <td>24.0</td>\n",
       "      <td>0.0</td>\n",
       "      <td>0.0</td>\n",
       "      <td>0.0</td>\n",
       "      <td>2.0</td>\n",
       "      <td>0.0</td>\n",
       "      <td>3.0</td>\n",
       "      <td>1.0</td>\n",
       "      <td>1.0</td>\n",
       "      <td>1.0</td>\n",
       "    </tr>\n",
       "  </tbody>\n",
       "</table>\n",
       "<p>5 rows × 30 columns</p>\n",
       "</div>"
      ],
      "text/plain": [
       "   offer expiration  income_range  no_visited_Cold drinks  \\\n",
       "0               1.0           4.0                     0.0   \n",
       "1               0.0           3.0                     1.0   \n",
       "2               1.0           1.0                     4.0   \n",
       "3               1.0           3.0                     4.0   \n",
       "4               0.0           2.0                     4.0   \n",
       "\n",
       "   travelled_more_than_15mins_for_offer  Restaur_spend_less_than20  \\\n",
       "0                                   1.0                        0.0   \n",
       "1                                   0.0                        0.0   \n",
       "2                                   1.0                        4.0   \n",
       "3                                   1.0                        0.0   \n",
       "4                                   0.0                        0.0   \n",
       "\n",
       "   Marital Status  restaurant type  age  Prefer western over chinese  \\\n",
       "0             0.0              4.0  6.0                          0.0   \n",
       "1             3.0              2.0  0.0                          1.0   \n",
       "2             2.0              2.0  0.0                          1.0   \n",
       "3             1.0              3.0  4.0                          0.0   \n",
       "4             2.0              0.0  2.0                          1.0   \n",
       "\n",
       "   travelled_more_than_25mins_for_offer  ...  Job/Job Industry  \\\n",
       "0                                   1.0  ...              21.0   \n",
       "1                                   0.0  ...               5.0   \n",
       "2                                   0.0  ...              24.0   \n",
       "3                                   0.0  ...              24.0   \n",
       "4                                   0.0  ...              24.0   \n",
       "\n",
       "   restuarant_opposite_direction_house  has Children  \\\n",
       "0                                  1.0           1.0   \n",
       "1                                  1.0           1.0   \n",
       "2                                  1.0           0.0   \n",
       "3                                  1.0           1.0   \n",
       "4                                  0.0           0.0   \n",
       "\n",
       "   visit restaurant with rating (avg)  temperature  \\\n",
       "0                                 4.0          2.0   \n",
       "1                                 0.0          1.0   \n",
       "2                                 4.0          1.0   \n",
       "3                                 0.0          0.0   \n",
       "4                                 0.0          2.0   \n",
       "\n",
       "   Restaur_spend_greater_than20  Travel Time  Climate  drop location  \\\n",
       "0                           3.0          0.0      1.0            2.0   \n",
       "1                           3.0          3.0      1.0            0.0   \n",
       "2                           4.0          0.0      1.0            2.0   \n",
       "3                           3.0          3.0      0.0            2.0   \n",
       "4                           0.0          3.0      1.0            1.0   \n",
       "\n",
       "   Prefer home food  \n",
       "0               0.0  \n",
       "1               1.0  \n",
       "2               0.0  \n",
       "3               1.0  \n",
       "4               1.0  \n",
       "\n",
       "[5 rows x 30 columns]"
      ]
     },
     "execution_count": 16,
     "metadata": {},
     "output_type": "execute_result"
    }
   ],
   "source": [
    "df_public_test = pd.read_csv(\"../input/marketing-strategy-personalised-offer/test_data.csv\")\n",
    "\n",
    "X_test_public = pipe.fit_transform(df_public_test)\n",
    "\n",
    "X_test_public = pd.DataFrame(X_test_public, columns = names)\n",
    "print(X_test_public.shape)\n",
    "X_test_public.head()"
   ]
  },
  {
   "cell_type": "code",
   "execution_count": 17,
   "id": "78e60358",
   "metadata": {
    "execution": {
     "iopub.execute_input": "2022-12-03T11:00:11.743656Z",
     "iopub.status.busy": "2022-12-03T11:00:11.743246Z",
     "iopub.status.idle": "2022-12-03T11:00:17.079760Z",
     "shell.execute_reply": "2022-12-03T11:00:17.078039Z"
    },
    "papermill": {
     "duration": 5.350216,
     "end_time": "2022-12-03T11:00:17.082854",
     "exception": false,
     "start_time": "2022-12-03T11:00:11.732638",
     "status": "completed"
    },
    "tags": []
   },
   "outputs": [
    {
     "name": "stdout",
     "output_type": "stream",
     "text": [
      "[0 1]\n",
      "(5305,)\n"
     ]
    }
   ],
   "source": [
    "y_pred_public = pipe_1.predict(X_test_public)\n",
    "print(np.unique(y_pred_public))\n",
    "print(y_pred_public.shape)"
   ]
  },
  {
   "cell_type": "markdown",
   "id": "3009f889",
   "metadata": {
    "papermill": {
     "duration": 0.009994,
     "end_time": "2022-12-03T11:00:17.102690",
     "exception": false,
     "start_time": "2022-12-03T11:00:17.092696",
     "status": "completed"
    },
    "tags": []
   },
   "source": [
    "### Output"
   ]
  },
  {
   "cell_type": "code",
   "execution_count": 18,
   "id": "ca2df717",
   "metadata": {
    "execution": {
     "iopub.execute_input": "2022-12-03T11:00:17.123813Z",
     "iopub.status.busy": "2022-12-03T11:00:17.123129Z",
     "iopub.status.idle": "2022-12-03T11:00:17.135831Z",
     "shell.execute_reply": "2022-12-03T11:00:17.134359Z"
    },
    "papermill": {
     "duration": 0.026515,
     "end_time": "2022-12-03T11:00:17.138674",
     "exception": false,
     "start_time": "2022-12-03T11:00:17.112159",
     "status": "completed"
    },
    "tags": []
   },
   "outputs": [],
   "source": [
    "sub = pd.DataFrame(y_pred_public, columns = [\"Offer Accepted\"])\n",
    "sub.insert(0, 'id', range(0, len(sub)))\n",
    "sub['Offer Accepted'].replace(1, \"Yes\", inplace = True)\n",
    "sub['Offer Accepted'].replace(0, \"No\", inplace = True)"
   ]
  },
  {
   "cell_type": "code",
   "execution_count": 19,
   "id": "4eda9521",
   "metadata": {
    "execution": {
     "iopub.execute_input": "2022-12-03T11:00:17.160320Z",
     "iopub.status.busy": "2022-12-03T11:00:17.159856Z",
     "iopub.status.idle": "2022-12-03T11:00:17.167989Z",
     "shell.execute_reply": "2022-12-03T11:00:17.166782Z"
    },
    "papermill": {
     "duration": 0.021581,
     "end_time": "2022-12-03T11:00:17.170381",
     "exception": false,
     "start_time": "2022-12-03T11:00:17.148800",
     "status": "completed"
    },
    "tags": []
   },
   "outputs": [
    {
     "data": {
      "text/plain": [
       "Index(['id', 'Offer Accepted'], dtype='object')"
      ]
     },
     "execution_count": 19,
     "metadata": {},
     "output_type": "execute_result"
    }
   ],
   "source": [
    "sub.columns"
   ]
  },
  {
   "cell_type": "code",
   "execution_count": 20,
   "id": "c636ed37",
   "metadata": {
    "execution": {
     "iopub.execute_input": "2022-12-03T11:00:17.191283Z",
     "iopub.status.busy": "2022-12-03T11:00:17.190835Z",
     "iopub.status.idle": "2022-12-03T11:00:17.204848Z",
     "shell.execute_reply": "2022-12-03T11:00:17.203405Z"
    },
    "papermill": {
     "duration": 0.027978,
     "end_time": "2022-12-03T11:00:17.207824",
     "exception": false,
     "start_time": "2022-12-03T11:00:17.179846",
     "status": "completed"
    },
    "tags": []
   },
   "outputs": [],
   "source": [
    "sub.to_csv('/kaggle/working/submission.csv', index = False)"
   ]
  }
 ],
 "metadata": {
  "kernelspec": {
   "display_name": "Python 3",
   "language": "python",
   "name": "python3"
  },
  "language_info": {
   "codemirror_mode": {
    "name": "ipython",
    "version": 3
   },
   "file_extension": ".py",
   "mimetype": "text/x-python",
   "name": "python",
   "nbconvert_exporter": "python",
   "pygments_lexer": "ipython3",
   "version": "3.7.12"
  },
  "papermill": {
   "default_parameters": {},
   "duration": 29.679853,
   "end_time": "2022-12-03T11:00:18.040917",
   "environment_variables": {},
   "exception": null,
   "input_path": "__notebook__.ipynb",
   "output_path": "__notebook__.ipynb",
   "parameters": {},
   "start_time": "2022-12-03T10:59:48.361064",
   "version": "2.3.4"
  }
 },
 "nbformat": 4,
 "nbformat_minor": 5
}
