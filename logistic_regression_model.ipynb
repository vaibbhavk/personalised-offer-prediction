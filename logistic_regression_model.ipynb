{
 "cells": [
  {
   "cell_type": "code",
   "execution_count": 1,
   "id": "36bc5b3c",
   "metadata": {
    "_cell_guid": "b1076dfc-b9ad-4769-8c92-a6c4dae69d19",
    "_uuid": "8f2839f25d086af736a60e9eeb907d3b93b6e0e5",
    "execution": {
     "iopub.execute_input": "2022-12-04T06:15:21.573536Z",
     "iopub.status.busy": "2022-12-04T06:15:21.572997Z",
     "iopub.status.idle": "2022-12-04T06:15:21.588555Z",
     "shell.execute_reply": "2022-12-04T06:15:21.586411Z"
    },
    "papermill": {
     "duration": 0.028708,
     "end_time": "2022-12-04T06:15:21.591488",
     "exception": false,
     "start_time": "2022-12-04T06:15:21.562780",
     "status": "completed"
    },
    "tags": []
   },
   "outputs": [
    {
     "name": "stdout",
     "output_type": "stream",
     "text": [
      "/kaggle/input/marketing-strategy-personalised-offer/sample.csv\n",
      "/kaggle/input/marketing-strategy-personalised-offer/train_data.csv\n",
      "/kaggle/input/marketing-strategy-personalised-offer/test_data.csv\n"
     ]
    }
   ],
   "source": [
    "# This Python 3 environment comes with many helpful analytics libraries installed\n",
    "# It is defined by the kaggle/python Docker image: https://github.com/kaggle/docker-python\n",
    "# For example, here's several helpful packages to load\n",
    "\n",
    "import numpy as np # linear algebra\n",
    "import pandas as pd # data processing, CSV file I/O (e.g. pd.read_csv)\n",
    "\n",
    "# Input data files are available in the read-only \"../input/\" directory\n",
    "# For example, running this (by clicking run or pressing Shift+Enter) will list all files under the input directory\n",
    "\n",
    "import os\n",
    "for dirname, _, filenames in os.walk('/kaggle/input'):\n",
    "    for filename in filenames:\n",
    "        print(os.path.join(dirname, filename))\n",
    "\n",
    "# You can write up to 20GB to the current directory (/kaggle/working/) that gets preserved as output when you create a version using \"Save & Run All\" \n",
    "# You can also write temporary files to /kaggle/temp/, but they won't be saved outside of the current session"
   ]
  },
  {
   "cell_type": "code",
   "execution_count": 2,
   "id": "eda87467",
   "metadata": {
    "execution": {
     "iopub.execute_input": "2022-12-04T06:15:21.605982Z",
     "iopub.status.busy": "2022-12-04T06:15:21.605466Z",
     "iopub.status.idle": "2022-12-04T06:15:23.302149Z",
     "shell.execute_reply": "2022-12-04T06:15:23.300537Z"
    },
    "papermill": {
     "duration": 1.707304,
     "end_time": "2022-12-04T06:15:23.305089",
     "exception": false,
     "start_time": "2022-12-04T06:15:21.597785",
     "status": "completed"
    },
    "tags": []
   },
   "outputs": [],
   "source": [
    "# common imports\n",
    "import numpy as np\n",
    "import pandas as pd\n",
    "import os\n",
    "import io\n",
    "import warnings\n",
    "\n",
    "# sklearn specific imports\n",
    "from sklearn.datasets import fetch_openml\n",
    "from sklearn.preprocessing import MinMaxScaler\n",
    "from sklearn.preprocessing import OrdinalEncoder\n",
    "from sklearn.impute import SimpleImputer\n",
    "from sklearn.pipeline import Pipeline, make_pipeline\n",
    "from sklearn.dummy import DummyClassifier\n",
    "from sklearn.preprocessing import LabelEncoder\n",
    "from sklearn.linear_model import Perceptron\n",
    "from sklearn.svm import SVC\n",
    "from sklearn.neighbors import KNeighborsClassifier\n",
    "from sklearn.decomposition import PCA\n",
    "from sklearn.metrics import hinge_loss\n",
    "from sklearn.metrics import f1_score\n",
    "from sklearn.metrics import ConfusionMatrixDisplay, confusion_matrix, precision_recall_curve\n",
    "from sklearn.metrics import precision_score, recall_score, classification_report\n",
    "from sklearn.metrics import make_scorer\n",
    "from sklearn.model_selection import cross_validate, cross_val_predict, GridSearchCV, train_test_split, cross_val_score\n",
    "from pprint import pprint\n",
    "\n",
    "import matplotlib.pyplot as plt\n",
    "import seaborn as sns"
   ]
  },
  {
   "cell_type": "markdown",
   "id": "5252c502",
   "metadata": {
    "papermill": {
     "duration": 0.005684,
     "end_time": "2022-12-04T06:15:23.317058",
     "exception": false,
     "start_time": "2022-12-04T06:15:23.311374",
     "status": "completed"
    },
    "tags": []
   },
   "source": [
    "### Data loading"
   ]
  },
  {
   "cell_type": "code",
   "execution_count": 3,
   "id": "7a030f38",
   "metadata": {
    "execution": {
     "iopub.execute_input": "2022-12-04T06:15:23.331900Z",
     "iopub.status.busy": "2022-12-04T06:15:23.331044Z",
     "iopub.status.idle": "2022-12-04T06:15:23.484288Z",
     "shell.execute_reply": "2022-12-04T06:15:23.482998Z"
    },
    "papermill": {
     "duration": 0.163901,
     "end_time": "2022-12-04T06:15:23.487154",
     "exception": false,
     "start_time": "2022-12-04T06:15:23.323253",
     "status": "completed"
    },
    "tags": []
   },
   "outputs": [
    {
     "data": {
      "text/html": [
       "<div>\n",
       "<style scoped>\n",
       "    .dataframe tbody tr th:only-of-type {\n",
       "        vertical-align: middle;\n",
       "    }\n",
       "\n",
       "    .dataframe tbody tr th {\n",
       "        vertical-align: top;\n",
       "    }\n",
       "\n",
       "    .dataframe thead th {\n",
       "        text-align: right;\n",
       "    }\n",
       "</style>\n",
       "<table border=\"1\" class=\"dataframe\">\n",
       "  <thead>\n",
       "    <tr style=\"text-align: right;\">\n",
       "      <th></th>\n",
       "      <th>offer expiration</th>\n",
       "      <th>income_range</th>\n",
       "      <th>no_visited_Cold drinks</th>\n",
       "      <th>travelled_more_than_15mins_for_offer</th>\n",
       "      <th>Restaur_spend_less_than20</th>\n",
       "      <th>Marital Status</th>\n",
       "      <th>restaurant type</th>\n",
       "      <th>age</th>\n",
       "      <th>Prefer western over chinese</th>\n",
       "      <th>travelled_more_than_25mins_for_offer</th>\n",
       "      <th>...</th>\n",
       "      <th>restuarant_opposite_direction_house</th>\n",
       "      <th>has Children</th>\n",
       "      <th>visit restaurant with rating (avg)</th>\n",
       "      <th>temperature</th>\n",
       "      <th>Restaur_spend_greater_than20</th>\n",
       "      <th>Travel Time</th>\n",
       "      <th>Climate</th>\n",
       "      <th>drop location</th>\n",
       "      <th>Prefer home food</th>\n",
       "      <th>Offer Accepted</th>\n",
       "    </tr>\n",
       "  </thead>\n",
       "  <tbody>\n",
       "    <tr>\n",
       "      <th>0</th>\n",
       "      <td>2days</td>\n",
       "      <td>₹100000 or More</td>\n",
       "      <td>4~8</td>\n",
       "      <td>1</td>\n",
       "      <td>less1</td>\n",
       "      <td>Married partner</td>\n",
       "      <td>4 star restaurant</td>\n",
       "      <td>36</td>\n",
       "      <td>0</td>\n",
       "      <td>0</td>\n",
       "      <td>...</td>\n",
       "      <td>0</td>\n",
       "      <td>0</td>\n",
       "      <td>4</td>\n",
       "      <td>67</td>\n",
       "      <td>less1</td>\n",
       "      <td>22</td>\n",
       "      <td>Spring</td>\n",
       "      <td>Location B</td>\n",
       "      <td>0</td>\n",
       "      <td>No</td>\n",
       "    </tr>\n",
       "    <tr>\n",
       "      <th>1</th>\n",
       "      <td>2days</td>\n",
       "      <td>₹87500 - ₹99999</td>\n",
       "      <td>4~8</td>\n",
       "      <td>0</td>\n",
       "      <td>4~8</td>\n",
       "      <td>Married partner</td>\n",
       "      <td>Take-away restaurant</td>\n",
       "      <td>50plus</td>\n",
       "      <td>0</td>\n",
       "      <td>0</td>\n",
       "      <td>...</td>\n",
       "      <td>0</td>\n",
       "      <td>1</td>\n",
       "      <td>3</td>\n",
       "      <td>89</td>\n",
       "      <td>1~3</td>\n",
       "      <td>18</td>\n",
       "      <td>Summer</td>\n",
       "      <td>Location B</td>\n",
       "      <td>0</td>\n",
       "      <td>Yes</td>\n",
       "    </tr>\n",
       "    <tr>\n",
       "      <th>2</th>\n",
       "      <td>2days</td>\n",
       "      <td>₹87500 - ₹99999</td>\n",
       "      <td>less1</td>\n",
       "      <td>1</td>\n",
       "      <td>1~3</td>\n",
       "      <td>Single</td>\n",
       "      <td>Cold drinks</td>\n",
       "      <td>26</td>\n",
       "      <td>1</td>\n",
       "      <td>0</td>\n",
       "      <td>...</td>\n",
       "      <td>1</td>\n",
       "      <td>1</td>\n",
       "      <td>4</td>\n",
       "      <td>67</td>\n",
       "      <td>less1</td>\n",
       "      <td>7</td>\n",
       "      <td>Winter</td>\n",
       "      <td>Location A</td>\n",
       "      <td>1</td>\n",
       "      <td>Yes</td>\n",
       "    </tr>\n",
       "    <tr>\n",
       "      <th>3</th>\n",
       "      <td>10hours</td>\n",
       "      <td>₹37500 - ₹49999</td>\n",
       "      <td>less1</td>\n",
       "      <td>0</td>\n",
       "      <td>1~3</td>\n",
       "      <td>Single</td>\n",
       "      <td>Take-away restaurant</td>\n",
       "      <td>46</td>\n",
       "      <td>1</td>\n",
       "      <td>0</td>\n",
       "      <td>...</td>\n",
       "      <td>0</td>\n",
       "      <td>1</td>\n",
       "      <td>3</td>\n",
       "      <td>89</td>\n",
       "      <td>1~3</td>\n",
       "      <td>7</td>\n",
       "      <td>Summer</td>\n",
       "      <td>Location C</td>\n",
       "      <td>0</td>\n",
       "      <td>No</td>\n",
       "    </tr>\n",
       "    <tr>\n",
       "      <th>4</th>\n",
       "      <td>2days</td>\n",
       "      <td>₹100000 or More</td>\n",
       "      <td>never</td>\n",
       "      <td>1</td>\n",
       "      <td>1~3</td>\n",
       "      <td>Single</td>\n",
       "      <td>4 star restaurant</td>\n",
       "      <td>21</td>\n",
       "      <td>0</td>\n",
       "      <td>1</td>\n",
       "      <td>...</td>\n",
       "      <td>1</td>\n",
       "      <td>0</td>\n",
       "      <td>3</td>\n",
       "      <td>40</td>\n",
       "      <td>less1</td>\n",
       "      <td>7</td>\n",
       "      <td>Summer</td>\n",
       "      <td>Location C</td>\n",
       "      <td>0</td>\n",
       "      <td>No</td>\n",
       "    </tr>\n",
       "  </tbody>\n",
       "</table>\n",
       "<p>5 rows × 31 columns</p>\n",
       "</div>"
      ],
      "text/plain": [
       "  offer expiration     income_range no_visited_Cold drinks  \\\n",
       "0            2days  ₹100000 or More                    4~8   \n",
       "1            2days  ₹87500 - ₹99999                    4~8   \n",
       "2            2days  ₹87500 - ₹99999                  less1   \n",
       "3          10hours  ₹37500 - ₹49999                  less1   \n",
       "4            2days  ₹100000 or More                  never   \n",
       "\n",
       "   travelled_more_than_15mins_for_offer Restaur_spend_less_than20  \\\n",
       "0                                     1                     less1   \n",
       "1                                     0                       4~8   \n",
       "2                                     1                       1~3   \n",
       "3                                     0                       1~3   \n",
       "4                                     1                       1~3   \n",
       "\n",
       "    Marital Status       restaurant type     age  Prefer western over chinese  \\\n",
       "0  Married partner     4 star restaurant      36                            0   \n",
       "1  Married partner  Take-away restaurant  50plus                            0   \n",
       "2           Single           Cold drinks      26                            1   \n",
       "3           Single  Take-away restaurant      46                            1   \n",
       "4           Single     4 star restaurant      21                            0   \n",
       "\n",
       "   travelled_more_than_25mins_for_offer  ...  \\\n",
       "0                                     0  ...   \n",
       "1                                     0  ...   \n",
       "2                                     0  ...   \n",
       "3                                     0  ...   \n",
       "4                                     1  ...   \n",
       "\n",
       "   restuarant_opposite_direction_house has Children  \\\n",
       "0                                    0            0   \n",
       "1                                    0            1   \n",
       "2                                    1            1   \n",
       "3                                    0            1   \n",
       "4                                    1            0   \n",
       "\n",
       "  visit restaurant with rating (avg) temperature  \\\n",
       "0                                  4          67   \n",
       "1                                  3          89   \n",
       "2                                  4          67   \n",
       "3                                  3          89   \n",
       "4                                  3          40   \n",
       "\n",
       "   Restaur_spend_greater_than20  Travel Time Climate drop location  \\\n",
       "0                         less1           22  Spring    Location B   \n",
       "1                           1~3           18  Summer    Location B   \n",
       "2                         less1            7  Winter    Location A   \n",
       "3                           1~3            7  Summer    Location C   \n",
       "4                         less1            7  Summer    Location C   \n",
       "\n",
       "   Prefer home food Offer Accepted  \n",
       "0                 0             No  \n",
       "1                 0            Yes  \n",
       "2                 1            Yes  \n",
       "3                 0             No  \n",
       "4                 0             No  \n",
       "\n",
       "[5 rows x 31 columns]"
      ]
     },
     "execution_count": 3,
     "metadata": {},
     "output_type": "execute_result"
    }
   ],
   "source": [
    "# df = pd.read_csv('../input/marketing-strategy-personalised-offer/sample.csv')\n",
    "\n",
    "df_train = pd.read_csv(\"../input/marketing-strategy-personalised-offer/train_data.csv\")\n",
    "df_train.head()"
   ]
  },
  {
   "cell_type": "code",
   "execution_count": 4,
   "id": "5dc22413",
   "metadata": {
    "execution": {
     "iopub.execute_input": "2022-12-04T06:15:23.503592Z",
     "iopub.status.busy": "2022-12-04T06:15:23.502669Z",
     "iopub.status.idle": "2022-12-04T06:15:23.542285Z",
     "shell.execute_reply": "2022-12-04T06:15:23.540502Z"
    },
    "papermill": {
     "duration": 0.050955,
     "end_time": "2022-12-04T06:15:23.545510",
     "exception": false,
     "start_time": "2022-12-04T06:15:23.494555",
     "status": "completed"
    },
    "tags": []
   },
   "outputs": [
    {
     "data": {
      "text/html": [
       "<div>\n",
       "<style scoped>\n",
       "    .dataframe tbody tr th:only-of-type {\n",
       "        vertical-align: middle;\n",
       "    }\n",
       "\n",
       "    .dataframe tbody tr th {\n",
       "        vertical-align: top;\n",
       "    }\n",
       "\n",
       "    .dataframe thead th {\n",
       "        text-align: right;\n",
       "    }\n",
       "</style>\n",
       "<table border=\"1\" class=\"dataframe\">\n",
       "  <thead>\n",
       "    <tr style=\"text-align: right;\">\n",
       "      <th></th>\n",
       "      <th>offer expiration</th>\n",
       "      <th>income_range</th>\n",
       "      <th>no_visited_Cold drinks</th>\n",
       "      <th>travelled_more_than_15mins_for_offer</th>\n",
       "      <th>Restaur_spend_less_than20</th>\n",
       "      <th>Marital Status</th>\n",
       "      <th>restaurant type</th>\n",
       "      <th>age</th>\n",
       "      <th>Prefer western over chinese</th>\n",
       "      <th>travelled_more_than_25mins_for_offer</th>\n",
       "      <th>...</th>\n",
       "      <th>Job/Job Industry</th>\n",
       "      <th>restuarant_opposite_direction_house</th>\n",
       "      <th>has Children</th>\n",
       "      <th>visit restaurant with rating (avg)</th>\n",
       "      <th>temperature</th>\n",
       "      <th>Restaur_spend_greater_than20</th>\n",
       "      <th>Travel Time</th>\n",
       "      <th>Climate</th>\n",
       "      <th>drop location</th>\n",
       "      <th>Prefer home food</th>\n",
       "    </tr>\n",
       "  </thead>\n",
       "  <tbody>\n",
       "    <tr>\n",
       "      <th>0</th>\n",
       "      <td>2days</td>\n",
       "      <td>₹100000 or More</td>\n",
       "      <td>4~8</td>\n",
       "      <td>1</td>\n",
       "      <td>less1</td>\n",
       "      <td>Married partner</td>\n",
       "      <td>4 star restaurant</td>\n",
       "      <td>36</td>\n",
       "      <td>0</td>\n",
       "      <td>0</td>\n",
       "      <td>...</td>\n",
       "      <td>Unemployed</td>\n",
       "      <td>0</td>\n",
       "      <td>0</td>\n",
       "      <td>4</td>\n",
       "      <td>67</td>\n",
       "      <td>less1</td>\n",
       "      <td>22</td>\n",
       "      <td>Spring</td>\n",
       "      <td>Location B</td>\n",
       "      <td>0</td>\n",
       "    </tr>\n",
       "    <tr>\n",
       "      <th>1</th>\n",
       "      <td>2days</td>\n",
       "      <td>₹87500 - ₹99999</td>\n",
       "      <td>4~8</td>\n",
       "      <td>0</td>\n",
       "      <td>4~8</td>\n",
       "      <td>Married partner</td>\n",
       "      <td>Take-away restaurant</td>\n",
       "      <td>50plus</td>\n",
       "      <td>0</td>\n",
       "      <td>0</td>\n",
       "      <td>...</td>\n",
       "      <td>Unemployed</td>\n",
       "      <td>0</td>\n",
       "      <td>1</td>\n",
       "      <td>3</td>\n",
       "      <td>89</td>\n",
       "      <td>1~3</td>\n",
       "      <td>18</td>\n",
       "      <td>Summer</td>\n",
       "      <td>Location B</td>\n",
       "      <td>0</td>\n",
       "    </tr>\n",
       "    <tr>\n",
       "      <th>2</th>\n",
       "      <td>2days</td>\n",
       "      <td>₹87500 - ₹99999</td>\n",
       "      <td>less1</td>\n",
       "      <td>1</td>\n",
       "      <td>1~3</td>\n",
       "      <td>Single</td>\n",
       "      <td>Cold drinks</td>\n",
       "      <td>26</td>\n",
       "      <td>1</td>\n",
       "      <td>0</td>\n",
       "      <td>...</td>\n",
       "      <td>Arts Design Entertainment Sports &amp; Media</td>\n",
       "      <td>1</td>\n",
       "      <td>1</td>\n",
       "      <td>4</td>\n",
       "      <td>67</td>\n",
       "      <td>less1</td>\n",
       "      <td>7</td>\n",
       "      <td>Winter</td>\n",
       "      <td>Location A</td>\n",
       "      <td>1</td>\n",
       "    </tr>\n",
       "    <tr>\n",
       "      <th>3</th>\n",
       "      <td>10hours</td>\n",
       "      <td>₹37500 - ₹49999</td>\n",
       "      <td>less1</td>\n",
       "      <td>0</td>\n",
       "      <td>1~3</td>\n",
       "      <td>Single</td>\n",
       "      <td>Take-away restaurant</td>\n",
       "      <td>46</td>\n",
       "      <td>1</td>\n",
       "      <td>0</td>\n",
       "      <td>...</td>\n",
       "      <td>Sales &amp; Related</td>\n",
       "      <td>0</td>\n",
       "      <td>1</td>\n",
       "      <td>3</td>\n",
       "      <td>89</td>\n",
       "      <td>1~3</td>\n",
       "      <td>7</td>\n",
       "      <td>Summer</td>\n",
       "      <td>Location C</td>\n",
       "      <td>0</td>\n",
       "    </tr>\n",
       "    <tr>\n",
       "      <th>4</th>\n",
       "      <td>2days</td>\n",
       "      <td>₹100000 or More</td>\n",
       "      <td>never</td>\n",
       "      <td>1</td>\n",
       "      <td>1~3</td>\n",
       "      <td>Single</td>\n",
       "      <td>4 star restaurant</td>\n",
       "      <td>21</td>\n",
       "      <td>0</td>\n",
       "      <td>1</td>\n",
       "      <td>...</td>\n",
       "      <td>Sales &amp; Related</td>\n",
       "      <td>1</td>\n",
       "      <td>0</td>\n",
       "      <td>3</td>\n",
       "      <td>40</td>\n",
       "      <td>less1</td>\n",
       "      <td>7</td>\n",
       "      <td>Summer</td>\n",
       "      <td>Location C</td>\n",
       "      <td>0</td>\n",
       "    </tr>\n",
       "  </tbody>\n",
       "</table>\n",
       "<p>5 rows × 30 columns</p>\n",
       "</div>"
      ],
      "text/plain": [
       "  offer expiration     income_range no_visited_Cold drinks  \\\n",
       "0            2days  ₹100000 or More                    4~8   \n",
       "1            2days  ₹87500 - ₹99999                    4~8   \n",
       "2            2days  ₹87500 - ₹99999                  less1   \n",
       "3          10hours  ₹37500 - ₹49999                  less1   \n",
       "4            2days  ₹100000 or More                  never   \n",
       "\n",
       "   travelled_more_than_15mins_for_offer Restaur_spend_less_than20  \\\n",
       "0                                     1                     less1   \n",
       "1                                     0                       4~8   \n",
       "2                                     1                       1~3   \n",
       "3                                     0                       1~3   \n",
       "4                                     1                       1~3   \n",
       "\n",
       "    Marital Status       restaurant type     age  Prefer western over chinese  \\\n",
       "0  Married partner     4 star restaurant      36                            0   \n",
       "1  Married partner  Take-away restaurant  50plus                            0   \n",
       "2           Single           Cold drinks      26                            1   \n",
       "3           Single  Take-away restaurant      46                            1   \n",
       "4           Single     4 star restaurant      21                            0   \n",
       "\n",
       "   travelled_more_than_25mins_for_offer  ...  \\\n",
       "0                                     0  ...   \n",
       "1                                     0  ...   \n",
       "2                                     0  ...   \n",
       "3                                     0  ...   \n",
       "4                                     1  ...   \n",
       "\n",
       "                           Job/Job Industry  \\\n",
       "0                                Unemployed   \n",
       "1                                Unemployed   \n",
       "2  Arts Design Entertainment Sports & Media   \n",
       "3                           Sales & Related   \n",
       "4                           Sales & Related   \n",
       "\n",
       "  restuarant_opposite_direction_house has Children  \\\n",
       "0                                   0            0   \n",
       "1                                   0            1   \n",
       "2                                   1            1   \n",
       "3                                   0            1   \n",
       "4                                   1            0   \n",
       "\n",
       "  visit restaurant with rating (avg)  temperature  \\\n",
       "0                                  4           67   \n",
       "1                                  3           89   \n",
       "2                                  4           67   \n",
       "3                                  3           89   \n",
       "4                                  3           40   \n",
       "\n",
       "   Restaur_spend_greater_than20 Travel Time Climate  drop location  \\\n",
       "0                         less1          22  Spring     Location B   \n",
       "1                           1~3          18  Summer     Location B   \n",
       "2                         less1           7  Winter     Location A   \n",
       "3                           1~3           7  Summer     Location C   \n",
       "4                         less1           7  Summer     Location C   \n",
       "\n",
       "  Prefer home food  \n",
       "0                0  \n",
       "1                0  \n",
       "2                1  \n",
       "3                0  \n",
       "4                0  \n",
       "\n",
       "[5 rows x 30 columns]"
      ]
     },
     "execution_count": 4,
     "metadata": {},
     "output_type": "execute_result"
    }
   ],
   "source": [
    "X = df_train.drop(\"Offer Accepted\", axis = 1)\n",
    "X.head()"
   ]
  },
  {
   "cell_type": "code",
   "execution_count": 5,
   "id": "6041d6c5",
   "metadata": {
    "execution": {
     "iopub.execute_input": "2022-12-04T06:15:23.562110Z",
     "iopub.status.busy": "2022-12-04T06:15:23.561623Z",
     "iopub.status.idle": "2022-12-04T06:15:23.574718Z",
     "shell.execute_reply": "2022-12-04T06:15:23.573211Z"
    },
    "papermill": {
     "duration": 0.024407,
     "end_time": "2022-12-04T06:15:23.577532",
     "exception": false,
     "start_time": "2022-12-04T06:15:23.553125",
     "status": "completed"
    },
    "tags": []
   },
   "outputs": [
    {
     "data": {
      "text/plain": [
       "0     No\n",
       "1    Yes\n",
       "2    Yes\n",
       "3     No\n",
       "4     No\n",
       "Name: Offer Accepted, dtype: object"
      ]
     },
     "execution_count": 5,
     "metadata": {},
     "output_type": "execute_result"
    }
   ],
   "source": [
    "y = df_train[\"Offer Accepted\"]\n",
    "y.head()"
   ]
  },
  {
   "cell_type": "code",
   "execution_count": 6,
   "id": "77d576f9",
   "metadata": {
    "execution": {
     "iopub.execute_input": "2022-12-04T06:15:23.594835Z",
     "iopub.status.busy": "2022-12-04T06:15:23.593724Z",
     "iopub.status.idle": "2022-12-04T06:15:23.601935Z",
     "shell.execute_reply": "2022-12-04T06:15:23.600672Z"
    },
    "papermill": {
     "duration": 0.019409,
     "end_time": "2022-12-04T06:15:23.604337",
     "exception": false,
     "start_time": "2022-12-04T06:15:23.584928",
     "status": "completed"
    },
    "tags": []
   },
   "outputs": [
    {
     "data": {
      "text/plain": [
       "((12379, 30), (12379,))"
      ]
     },
     "execution_count": 6,
     "metadata": {},
     "output_type": "execute_result"
    }
   ],
   "source": [
    "X.shape, y.shape"
   ]
  },
  {
   "cell_type": "code",
   "execution_count": 7,
   "id": "a7688cca",
   "metadata": {
    "execution": {
     "iopub.execute_input": "2022-12-04T06:15:23.620883Z",
     "iopub.status.busy": "2022-12-04T06:15:23.620413Z",
     "iopub.status.idle": "2022-12-04T06:15:23.641358Z",
     "shell.execute_reply": "2022-12-04T06:15:23.639970Z"
    },
    "papermill": {
     "duration": 0.032332,
     "end_time": "2022-12-04T06:15:23.643971",
     "exception": false,
     "start_time": "2022-12-04T06:15:23.611639",
     "status": "completed"
    },
    "tags": []
   },
   "outputs": [
    {
     "data": {
      "text/plain": [
       "offer expiration                            0\n",
       "income_range                                0\n",
       "no_visited_Cold drinks                    198\n",
       "travelled_more_than_15mins_for_offer        0\n",
       "Restaur_spend_less_than20                 121\n",
       "Marital Status                              0\n",
       "restaurant type                             0\n",
       "age                                         0\n",
       "Prefer western over chinese                 0\n",
       "travelled_more_than_25mins_for_offer        0\n",
       "travelled_more_than_5mins_for_offer         0\n",
       "no_visited_bars                            93\n",
       "gender                                      0\n",
       "car                                     12268\n",
       "restuarant_same_direction_house             0\n",
       "Cooks regularly                             0\n",
       "Customer type                               0\n",
       "Qualification                               0\n",
       "is foodie                                   0\n",
       "no_Take-aways                             144\n",
       "Job/Job Industry                            0\n",
       "restuarant_opposite_direction_house         0\n",
       "has Children                                0\n",
       "visit restaurant with rating (avg)          0\n",
       "temperature                                 0\n",
       "Restaur_spend_greater_than20              160\n",
       "Travel Time                                 0\n",
       "Climate                                     0\n",
       "drop location                               0\n",
       "Prefer home food                            0\n",
       "dtype: int64"
      ]
     },
     "execution_count": 7,
     "metadata": {},
     "output_type": "execute_result"
    }
   ],
   "source": [
    "X.isnull().sum()"
   ]
  },
  {
   "cell_type": "code",
   "execution_count": 8,
   "id": "d0ef8eba",
   "metadata": {
    "execution": {
     "iopub.execute_input": "2022-12-04T06:15:23.660550Z",
     "iopub.status.busy": "2022-12-04T06:15:23.659664Z",
     "iopub.status.idle": "2022-12-04T06:15:23.666799Z",
     "shell.execute_reply": "2022-12-04T06:15:23.665894Z"
    },
    "papermill": {
     "duration": 0.017931,
     "end_time": "2022-12-04T06:15:23.668963",
     "exception": false,
     "start_time": "2022-12-04T06:15:23.651032",
     "status": "completed"
    },
    "tags": []
   },
   "outputs": [
    {
     "data": {
      "text/plain": [
       "30"
      ]
     },
     "execution_count": 8,
     "metadata": {},
     "output_type": "execute_result"
    }
   ],
   "source": [
    "names = list(X.columns)\n",
    "len(names)"
   ]
  },
  {
   "cell_type": "markdown",
   "id": "4d9ea0d7",
   "metadata": {
    "papermill": {
     "duration": 0.007085,
     "end_time": "2022-12-04T06:15:23.683957",
     "exception": false,
     "start_time": "2022-12-04T06:15:23.676872",
     "status": "completed"
    },
    "tags": []
   },
   "source": [
    "### Data Preprocessing"
   ]
  },
  {
   "cell_type": "code",
   "execution_count": 9,
   "id": "971103d7",
   "metadata": {
    "execution": {
     "iopub.execute_input": "2022-12-04T06:15:23.702648Z",
     "iopub.status.busy": "2022-12-04T06:15:23.702187Z",
     "iopub.status.idle": "2022-12-04T06:15:23.714220Z",
     "shell.execute_reply": "2022-12-04T06:15:23.712760Z"
    },
    "papermill": {
     "duration": 0.024246,
     "end_time": "2022-12-04T06:15:23.717010",
     "exception": false,
     "start_time": "2022-12-04T06:15:23.692764",
     "status": "completed"
    },
    "tags": []
   },
   "outputs": [
    {
     "data": {
      "text/plain": [
       "Pipeline(steps=[('imputer', SimpleImputer(strategy='most_frequent')),\n",
       "                ('encoder', OrdinalEncoder())])"
      ]
     },
     "execution_count": 9,
     "metadata": {},
     "output_type": "execute_result"
    }
   ],
   "source": [
    "pipe = Pipeline([\n",
    "    ('imputer', SimpleImputer(strategy = \"most_frequent\")),\n",
    "    ('encoder', OrdinalEncoder())\n",
    "])\n",
    "pipe"
   ]
  },
  {
   "cell_type": "code",
   "execution_count": 10,
   "id": "9087c7ba",
   "metadata": {
    "execution": {
     "iopub.execute_input": "2022-12-04T06:15:23.735784Z",
     "iopub.status.busy": "2022-12-04T06:15:23.735012Z",
     "iopub.status.idle": "2022-12-04T06:15:23.974648Z",
     "shell.execute_reply": "2022-12-04T06:15:23.973275Z"
    },
    "papermill": {
     "duration": 0.251666,
     "end_time": "2022-12-04T06:15:23.977597",
     "exception": false,
     "start_time": "2022-12-04T06:15:23.725931",
     "status": "completed"
    },
    "tags": []
   },
   "outputs": [
    {
     "data": {
      "text/html": [
       "<div>\n",
       "<style scoped>\n",
       "    .dataframe tbody tr th:only-of-type {\n",
       "        vertical-align: middle;\n",
       "    }\n",
       "\n",
       "    .dataframe tbody tr th {\n",
       "        vertical-align: top;\n",
       "    }\n",
       "\n",
       "    .dataframe thead th {\n",
       "        text-align: right;\n",
       "    }\n",
       "</style>\n",
       "<table border=\"1\" class=\"dataframe\">\n",
       "  <thead>\n",
       "    <tr style=\"text-align: right;\">\n",
       "      <th></th>\n",
       "      <th>offer expiration</th>\n",
       "      <th>income_range</th>\n",
       "      <th>no_visited_Cold drinks</th>\n",
       "      <th>travelled_more_than_15mins_for_offer</th>\n",
       "      <th>Restaur_spend_less_than20</th>\n",
       "      <th>Marital Status</th>\n",
       "      <th>restaurant type</th>\n",
       "      <th>age</th>\n",
       "      <th>Prefer western over chinese</th>\n",
       "      <th>travelled_more_than_25mins_for_offer</th>\n",
       "      <th>...</th>\n",
       "      <th>Job/Job Industry</th>\n",
       "      <th>restuarant_opposite_direction_house</th>\n",
       "      <th>has Children</th>\n",
       "      <th>visit restaurant with rating (avg)</th>\n",
       "      <th>temperature</th>\n",
       "      <th>Restaur_spend_greater_than20</th>\n",
       "      <th>Travel Time</th>\n",
       "      <th>Climate</th>\n",
       "      <th>drop location</th>\n",
       "      <th>Prefer home food</th>\n",
       "    </tr>\n",
       "  </thead>\n",
       "  <tbody>\n",
       "    <tr>\n",
       "      <th>0</th>\n",
       "      <td>1.0</td>\n",
       "      <td>1.0</td>\n",
       "      <td>1.0</td>\n",
       "      <td>1.0</td>\n",
       "      <td>3.0</td>\n",
       "      <td>1.0</td>\n",
       "      <td>1.0</td>\n",
       "      <td>3.0</td>\n",
       "      <td>0.0</td>\n",
       "      <td>0.0</td>\n",
       "      <td>...</td>\n",
       "      <td>24.0</td>\n",
       "      <td>0.0</td>\n",
       "      <td>0.0</td>\n",
       "      <td>4.0</td>\n",
       "      <td>1.0</td>\n",
       "      <td>3.0</td>\n",
       "      <td>4.0</td>\n",
       "      <td>0.0</td>\n",
       "      <td>1.0</td>\n",
       "      <td>0.0</td>\n",
       "    </tr>\n",
       "    <tr>\n",
       "      <th>1</th>\n",
       "      <td>1.0</td>\n",
       "      <td>8.0</td>\n",
       "      <td>1.0</td>\n",
       "      <td>0.0</td>\n",
       "      <td>1.0</td>\n",
       "      <td>1.0</td>\n",
       "      <td>4.0</td>\n",
       "      <td>6.0</td>\n",
       "      <td>0.0</td>\n",
       "      <td>0.0</td>\n",
       "      <td>...</td>\n",
       "      <td>24.0</td>\n",
       "      <td>0.0</td>\n",
       "      <td>1.0</td>\n",
       "      <td>3.0</td>\n",
       "      <td>2.0</td>\n",
       "      <td>0.0</td>\n",
       "      <td>3.0</td>\n",
       "      <td>1.0</td>\n",
       "      <td>1.0</td>\n",
       "      <td>0.0</td>\n",
       "    </tr>\n",
       "    <tr>\n",
       "      <th>2</th>\n",
       "      <td>1.0</td>\n",
       "      <td>8.0</td>\n",
       "      <td>3.0</td>\n",
       "      <td>1.0</td>\n",
       "      <td>0.0</td>\n",
       "      <td>2.0</td>\n",
       "      <td>2.0</td>\n",
       "      <td>1.0</td>\n",
       "      <td>1.0</td>\n",
       "      <td>0.0</td>\n",
       "      <td>...</td>\n",
       "      <td>1.0</td>\n",
       "      <td>1.0</td>\n",
       "      <td>1.0</td>\n",
       "      <td>4.0</td>\n",
       "      <td>1.0</td>\n",
       "      <td>3.0</td>\n",
       "      <td>0.0</td>\n",
       "      <td>2.0</td>\n",
       "      <td>0.0</td>\n",
       "      <td>1.0</td>\n",
       "    </tr>\n",
       "    <tr>\n",
       "      <th>3</th>\n",
       "      <td>0.0</td>\n",
       "      <td>4.0</td>\n",
       "      <td>3.0</td>\n",
       "      <td>0.0</td>\n",
       "      <td>0.0</td>\n",
       "      <td>2.0</td>\n",
       "      <td>4.0</td>\n",
       "      <td>5.0</td>\n",
       "      <td>1.0</td>\n",
       "      <td>0.0</td>\n",
       "      <td>...</td>\n",
       "      <td>21.0</td>\n",
       "      <td>0.0</td>\n",
       "      <td>1.0</td>\n",
       "      <td>3.0</td>\n",
       "      <td>2.0</td>\n",
       "      <td>0.0</td>\n",
       "      <td>0.0</td>\n",
       "      <td>1.0</td>\n",
       "      <td>2.0</td>\n",
       "      <td>0.0</td>\n",
       "    </tr>\n",
       "    <tr>\n",
       "      <th>4</th>\n",
       "      <td>1.0</td>\n",
       "      <td>1.0</td>\n",
       "      <td>4.0</td>\n",
       "      <td>1.0</td>\n",
       "      <td>0.0</td>\n",
       "      <td>2.0</td>\n",
       "      <td>1.0</td>\n",
       "      <td>0.0</td>\n",
       "      <td>0.0</td>\n",
       "      <td>1.0</td>\n",
       "      <td>...</td>\n",
       "      <td>21.0</td>\n",
       "      <td>1.0</td>\n",
       "      <td>0.0</td>\n",
       "      <td>3.0</td>\n",
       "      <td>0.0</td>\n",
       "      <td>3.0</td>\n",
       "      <td>0.0</td>\n",
       "      <td>1.0</td>\n",
       "      <td>2.0</td>\n",
       "      <td>0.0</td>\n",
       "    </tr>\n",
       "  </tbody>\n",
       "</table>\n",
       "<p>5 rows × 30 columns</p>\n",
       "</div>"
      ],
      "text/plain": [
       "   offer expiration  income_range  no_visited_Cold drinks  \\\n",
       "0               1.0           1.0                     1.0   \n",
       "1               1.0           8.0                     1.0   \n",
       "2               1.0           8.0                     3.0   \n",
       "3               0.0           4.0                     3.0   \n",
       "4               1.0           1.0                     4.0   \n",
       "\n",
       "   travelled_more_than_15mins_for_offer  Restaur_spend_less_than20  \\\n",
       "0                                   1.0                        3.0   \n",
       "1                                   0.0                        1.0   \n",
       "2                                   1.0                        0.0   \n",
       "3                                   0.0                        0.0   \n",
       "4                                   1.0                        0.0   \n",
       "\n",
       "   Marital Status  restaurant type  age  Prefer western over chinese  \\\n",
       "0             1.0              1.0  3.0                          0.0   \n",
       "1             1.0              4.0  6.0                          0.0   \n",
       "2             2.0              2.0  1.0                          1.0   \n",
       "3             2.0              4.0  5.0                          1.0   \n",
       "4             2.0              1.0  0.0                          0.0   \n",
       "\n",
       "   travelled_more_than_25mins_for_offer  ...  Job/Job Industry  \\\n",
       "0                                   0.0  ...              24.0   \n",
       "1                                   0.0  ...              24.0   \n",
       "2                                   0.0  ...               1.0   \n",
       "3                                   0.0  ...              21.0   \n",
       "4                                   1.0  ...              21.0   \n",
       "\n",
       "   restuarant_opposite_direction_house  has Children  \\\n",
       "0                                  0.0           0.0   \n",
       "1                                  0.0           1.0   \n",
       "2                                  1.0           1.0   \n",
       "3                                  0.0           1.0   \n",
       "4                                  1.0           0.0   \n",
       "\n",
       "   visit restaurant with rating (avg)  temperature  \\\n",
       "0                                 4.0          1.0   \n",
       "1                                 3.0          2.0   \n",
       "2                                 4.0          1.0   \n",
       "3                                 3.0          2.0   \n",
       "4                                 3.0          0.0   \n",
       "\n",
       "   Restaur_spend_greater_than20  Travel Time  Climate  drop location  \\\n",
       "0                           3.0          4.0      0.0            1.0   \n",
       "1                           0.0          3.0      1.0            1.0   \n",
       "2                           3.0          0.0      2.0            0.0   \n",
       "3                           0.0          0.0      1.0            2.0   \n",
       "4                           3.0          0.0      1.0            2.0   \n",
       "\n",
       "   Prefer home food  \n",
       "0               0.0  \n",
       "1               0.0  \n",
       "2               1.0  \n",
       "3               0.0  \n",
       "4               0.0  \n",
       "\n",
       "[5 rows x 30 columns]"
      ]
     },
     "execution_count": 10,
     "metadata": {},
     "output_type": "execute_result"
    }
   ],
   "source": [
    "X_new = pipe.fit_transform(X)\n",
    "\n",
    "X = pd.DataFrame(X_new, columns = names)\n",
    "X.head()"
   ]
  },
  {
   "cell_type": "code",
   "execution_count": 11,
   "id": "7ab32647",
   "metadata": {
    "execution": {
     "iopub.execute_input": "2022-12-04T06:15:23.995646Z",
     "iopub.status.busy": "2022-12-04T06:15:23.995142Z",
     "iopub.status.idle": "2022-12-04T06:15:24.012884Z",
     "shell.execute_reply": "2022-12-04T06:15:24.011622Z"
    },
    "papermill": {
     "duration": 0.030193,
     "end_time": "2022-12-04T06:15:24.015856",
     "exception": false,
     "start_time": "2022-12-04T06:15:23.985663",
     "status": "completed"
    },
    "tags": []
   },
   "outputs": [
    {
     "data": {
      "text/plain": [
       "0        0\n",
       "1        1\n",
       "2        1\n",
       "3        0\n",
       "4        0\n",
       "        ..\n",
       "12374    1\n",
       "12375    1\n",
       "12376    0\n",
       "12377    1\n",
       "12378    1\n",
       "Name: Offer Accepted, Length: 12379, dtype: int64"
      ]
     },
     "execution_count": 11,
     "metadata": {},
     "output_type": "execute_result"
    }
   ],
   "source": [
    "y.replace(\"Yes\", 1, inplace = True)\n",
    "y.replace(\"No\", 0, inplace = True)\n",
    "\n",
    "y"
   ]
  },
  {
   "cell_type": "code",
   "execution_count": 12,
   "id": "40ffe379",
   "metadata": {
    "execution": {
     "iopub.execute_input": "2022-12-04T06:15:24.034766Z",
     "iopub.status.busy": "2022-12-04T06:15:24.034050Z",
     "iopub.status.idle": "2022-12-04T06:15:24.038985Z",
     "shell.execute_reply": "2022-12-04T06:15:24.037888Z"
    },
    "papermill": {
     "duration": 0.01726,
     "end_time": "2022-12-04T06:15:24.041418",
     "exception": false,
     "start_time": "2022-12-04T06:15:24.024158",
     "status": "completed"
    },
    "tags": []
   },
   "outputs": [],
   "source": [
    "X_train = X\n",
    "y_train = y"
   ]
  },
  {
   "cell_type": "markdown",
   "id": "4952c6e2",
   "metadata": {
    "papermill": {
     "duration": 0.007523,
     "end_time": "2022-12-04T06:15:24.057050",
     "exception": false,
     "start_time": "2022-12-04T06:15:24.049527",
     "status": "completed"
    },
    "tags": []
   },
   "source": [
    "### Logistic Regression Classifier model"
   ]
  },
  {
   "cell_type": "markdown",
   "id": "f4f5f7bb",
   "metadata": {
    "papermill": {
     "duration": 0.007546,
     "end_time": "2022-12-04T06:15:24.072797",
     "exception": false,
     "start_time": "2022-12-04T06:15:24.065251",
     "status": "completed"
    },
    "tags": []
   },
   "source": [
    "#### Hyperparamter search"
   ]
  },
  {
   "cell_type": "code",
   "execution_count": 13,
   "id": "fc1d22b7",
   "metadata": {
    "execution": {
     "iopub.execute_input": "2022-12-04T06:15:24.091412Z",
     "iopub.status.busy": "2022-12-04T06:15:24.090696Z",
     "iopub.status.idle": "2022-12-04T06:15:28.113345Z",
     "shell.execute_reply": "2022-12-04T06:15:28.111533Z"
    },
    "papermill": {
     "duration": 4.037103,
     "end_time": "2022-12-04T06:15:28.117973",
     "exception": false,
     "start_time": "2022-12-04T06:15:24.080870",
     "status": "completed"
    },
    "tags": []
   },
   "outputs": [
    {
     "data": {
      "text/plain": [
       "GridSearchCV(estimator=Pipeline(steps=[('scaler', MinMaxScaler()),\n",
       "                                       ('logistic',\n",
       "                                        LogisticRegression(random_state=1729))]),\n",
       "             param_grid={'logistic__C': [0.0001, 0.001, 0.01, 0.1, 1.0, 10.0,\n",
       "                                         100.0]},\n",
       "             scoring='f1')"
      ]
     },
     "execution_count": 13,
     "metadata": {},
     "output_type": "execute_result"
    }
   ],
   "source": [
    "from sklearn.linear_model import LogisticRegression\n",
    "\n",
    "grid_Cs = [1e-4, 1e-3, 1e-2, 1e-1, 1.0, 10.0, 100.0]\n",
    "\n",
    "scaler = MinMaxScaler()\n",
    "\n",
    "log_reg = LogisticRegression(random_state = 1729, C = 1.0)\n",
    "\n",
    "pipe = Pipeline([\n",
    "    (\"scaler\", scaler),\n",
    "    (\"logistic\", log_reg)\n",
    "])\n",
    "\n",
    "pipe_log_cv = GridSearchCV(\n",
    "    pipe, \n",
    "    param_grid = {\"logistic__C\": grid_Cs},\n",
    "    scoring = 'f1'\n",
    ")\n",
    "\n",
    "pipe_log_cv.fit(X_train, y_train)"
   ]
  },
  {
   "cell_type": "markdown",
   "id": "0bdad620",
   "metadata": {
    "papermill": {
     "duration": 0.020729,
     "end_time": "2022-12-04T06:15:28.159244",
     "exception": false,
     "start_time": "2022-12-04T06:15:28.138515",
     "status": "completed"
    },
    "tags": []
   },
   "source": [
    "### On test data"
   ]
  },
  {
   "cell_type": "code",
   "execution_count": 14,
   "id": "de70e814",
   "metadata": {
    "execution": {
     "iopub.execute_input": "2022-12-04T06:15:28.206440Z",
     "iopub.status.busy": "2022-12-04T06:15:28.205613Z",
     "iopub.status.idle": "2022-12-04T06:15:28.369122Z",
     "shell.execute_reply": "2022-12-04T06:15:28.367124Z"
    },
    "papermill": {
     "duration": 0.189755,
     "end_time": "2022-12-04T06:15:28.372012",
     "exception": false,
     "start_time": "2022-12-04T06:15:28.182257",
     "status": "completed"
    },
    "tags": []
   },
   "outputs": [
    {
     "name": "stdout",
     "output_type": "stream",
     "text": [
      "(5305, 30)\n"
     ]
    },
    {
     "data": {
      "text/html": [
       "<div>\n",
       "<style scoped>\n",
       "    .dataframe tbody tr th:only-of-type {\n",
       "        vertical-align: middle;\n",
       "    }\n",
       "\n",
       "    .dataframe tbody tr th {\n",
       "        vertical-align: top;\n",
       "    }\n",
       "\n",
       "    .dataframe thead th {\n",
       "        text-align: right;\n",
       "    }\n",
       "</style>\n",
       "<table border=\"1\" class=\"dataframe\">\n",
       "  <thead>\n",
       "    <tr style=\"text-align: right;\">\n",
       "      <th></th>\n",
       "      <th>offer expiration</th>\n",
       "      <th>income_range</th>\n",
       "      <th>no_visited_Cold drinks</th>\n",
       "      <th>travelled_more_than_15mins_for_offer</th>\n",
       "      <th>Restaur_spend_less_than20</th>\n",
       "      <th>Marital Status</th>\n",
       "      <th>restaurant type</th>\n",
       "      <th>age</th>\n",
       "      <th>Prefer western over chinese</th>\n",
       "      <th>travelled_more_than_25mins_for_offer</th>\n",
       "      <th>...</th>\n",
       "      <th>Job/Job Industry</th>\n",
       "      <th>restuarant_opposite_direction_house</th>\n",
       "      <th>has Children</th>\n",
       "      <th>visit restaurant with rating (avg)</th>\n",
       "      <th>temperature</th>\n",
       "      <th>Restaur_spend_greater_than20</th>\n",
       "      <th>Travel Time</th>\n",
       "      <th>Climate</th>\n",
       "      <th>drop location</th>\n",
       "      <th>Prefer home food</th>\n",
       "    </tr>\n",
       "  </thead>\n",
       "  <tbody>\n",
       "    <tr>\n",
       "      <th>0</th>\n",
       "      <td>1.0</td>\n",
       "      <td>4.0</td>\n",
       "      <td>0.0</td>\n",
       "      <td>1.0</td>\n",
       "      <td>0.0</td>\n",
       "      <td>0.0</td>\n",
       "      <td>4.0</td>\n",
       "      <td>6.0</td>\n",
       "      <td>0.0</td>\n",
       "      <td>1.0</td>\n",
       "      <td>...</td>\n",
       "      <td>21.0</td>\n",
       "      <td>1.0</td>\n",
       "      <td>1.0</td>\n",
       "      <td>4.0</td>\n",
       "      <td>2.0</td>\n",
       "      <td>3.0</td>\n",
       "      <td>0.0</td>\n",
       "      <td>1.0</td>\n",
       "      <td>2.0</td>\n",
       "      <td>0.0</td>\n",
       "    </tr>\n",
       "    <tr>\n",
       "      <th>1</th>\n",
       "      <td>0.0</td>\n",
       "      <td>3.0</td>\n",
       "      <td>1.0</td>\n",
       "      <td>0.0</td>\n",
       "      <td>0.0</td>\n",
       "      <td>3.0</td>\n",
       "      <td>2.0</td>\n",
       "      <td>0.0</td>\n",
       "      <td>1.0</td>\n",
       "      <td>0.0</td>\n",
       "      <td>...</td>\n",
       "      <td>5.0</td>\n",
       "      <td>1.0</td>\n",
       "      <td>1.0</td>\n",
       "      <td>0.0</td>\n",
       "      <td>1.0</td>\n",
       "      <td>3.0</td>\n",
       "      <td>3.0</td>\n",
       "      <td>1.0</td>\n",
       "      <td>0.0</td>\n",
       "      <td>1.0</td>\n",
       "    </tr>\n",
       "    <tr>\n",
       "      <th>2</th>\n",
       "      <td>1.0</td>\n",
       "      <td>1.0</td>\n",
       "      <td>4.0</td>\n",
       "      <td>1.0</td>\n",
       "      <td>4.0</td>\n",
       "      <td>2.0</td>\n",
       "      <td>2.0</td>\n",
       "      <td>0.0</td>\n",
       "      <td>1.0</td>\n",
       "      <td>0.0</td>\n",
       "      <td>...</td>\n",
       "      <td>24.0</td>\n",
       "      <td>1.0</td>\n",
       "      <td>0.0</td>\n",
       "      <td>4.0</td>\n",
       "      <td>1.0</td>\n",
       "      <td>4.0</td>\n",
       "      <td>0.0</td>\n",
       "      <td>1.0</td>\n",
       "      <td>2.0</td>\n",
       "      <td>0.0</td>\n",
       "    </tr>\n",
       "    <tr>\n",
       "      <th>3</th>\n",
       "      <td>1.0</td>\n",
       "      <td>3.0</td>\n",
       "      <td>4.0</td>\n",
       "      <td>1.0</td>\n",
       "      <td>0.0</td>\n",
       "      <td>1.0</td>\n",
       "      <td>3.0</td>\n",
       "      <td>4.0</td>\n",
       "      <td>0.0</td>\n",
       "      <td>0.0</td>\n",
       "      <td>...</td>\n",
       "      <td>24.0</td>\n",
       "      <td>1.0</td>\n",
       "      <td>1.0</td>\n",
       "      <td>0.0</td>\n",
       "      <td>0.0</td>\n",
       "      <td>3.0</td>\n",
       "      <td>3.0</td>\n",
       "      <td>0.0</td>\n",
       "      <td>2.0</td>\n",
       "      <td>1.0</td>\n",
       "    </tr>\n",
       "    <tr>\n",
       "      <th>4</th>\n",
       "      <td>0.0</td>\n",
       "      <td>2.0</td>\n",
       "      <td>4.0</td>\n",
       "      <td>0.0</td>\n",
       "      <td>0.0</td>\n",
       "      <td>2.0</td>\n",
       "      <td>0.0</td>\n",
       "      <td>2.0</td>\n",
       "      <td>1.0</td>\n",
       "      <td>0.0</td>\n",
       "      <td>...</td>\n",
       "      <td>24.0</td>\n",
       "      <td>0.0</td>\n",
       "      <td>0.0</td>\n",
       "      <td>0.0</td>\n",
       "      <td>2.0</td>\n",
       "      <td>0.0</td>\n",
       "      <td>3.0</td>\n",
       "      <td>1.0</td>\n",
       "      <td>1.0</td>\n",
       "      <td>1.0</td>\n",
       "    </tr>\n",
       "  </tbody>\n",
       "</table>\n",
       "<p>5 rows × 30 columns</p>\n",
       "</div>"
      ],
      "text/plain": [
       "   offer expiration  income_range  no_visited_Cold drinks  \\\n",
       "0               1.0           4.0                     0.0   \n",
       "1               0.0           3.0                     1.0   \n",
       "2               1.0           1.0                     4.0   \n",
       "3               1.0           3.0                     4.0   \n",
       "4               0.0           2.0                     4.0   \n",
       "\n",
       "   travelled_more_than_15mins_for_offer  Restaur_spend_less_than20  \\\n",
       "0                                   1.0                        0.0   \n",
       "1                                   0.0                        0.0   \n",
       "2                                   1.0                        4.0   \n",
       "3                                   1.0                        0.0   \n",
       "4                                   0.0                        0.0   \n",
       "\n",
       "   Marital Status  restaurant type  age  Prefer western over chinese  \\\n",
       "0             0.0              4.0  6.0                          0.0   \n",
       "1             3.0              2.0  0.0                          1.0   \n",
       "2             2.0              2.0  0.0                          1.0   \n",
       "3             1.0              3.0  4.0                          0.0   \n",
       "4             2.0              0.0  2.0                          1.0   \n",
       "\n",
       "   travelled_more_than_25mins_for_offer  ...  Job/Job Industry  \\\n",
       "0                                   1.0  ...              21.0   \n",
       "1                                   0.0  ...               5.0   \n",
       "2                                   0.0  ...              24.0   \n",
       "3                                   0.0  ...              24.0   \n",
       "4                                   0.0  ...              24.0   \n",
       "\n",
       "   restuarant_opposite_direction_house  has Children  \\\n",
       "0                                  1.0           1.0   \n",
       "1                                  1.0           1.0   \n",
       "2                                  1.0           0.0   \n",
       "3                                  1.0           1.0   \n",
       "4                                  0.0           0.0   \n",
       "\n",
       "   visit restaurant with rating (avg)  temperature  \\\n",
       "0                                 4.0          2.0   \n",
       "1                                 0.0          1.0   \n",
       "2                                 4.0          1.0   \n",
       "3                                 0.0          0.0   \n",
       "4                                 0.0          2.0   \n",
       "\n",
       "   Restaur_spend_greater_than20  Travel Time  Climate  drop location  \\\n",
       "0                           3.0          0.0      1.0            2.0   \n",
       "1                           3.0          3.0      1.0            0.0   \n",
       "2                           4.0          0.0      1.0            2.0   \n",
       "3                           3.0          3.0      0.0            2.0   \n",
       "4                           0.0          3.0      1.0            1.0   \n",
       "\n",
       "   Prefer home food  \n",
       "0               0.0  \n",
       "1               1.0  \n",
       "2               0.0  \n",
       "3               1.0  \n",
       "4               1.0  \n",
       "\n",
       "[5 rows x 30 columns]"
      ]
     },
     "execution_count": 14,
     "metadata": {},
     "output_type": "execute_result"
    }
   ],
   "source": [
    "df_public_test = pd.read_csv(\"../input/marketing-strategy-personalised-offer/test_data.csv\")\n",
    "\n",
    "\n",
    "# X_test_public = pipe.fit_transform(df_public_test)\n",
    "\n",
    "X_test_public = SimpleImputer(strategy = \"most_frequent\").fit_transform(df_public_test)\n",
    "X_test_public = OrdinalEncoder().fit_transform(X_test_public)\n",
    "\n",
    "X_test_public = pd.DataFrame(X_test_public, columns = names)\n",
    "print(X_test_public.shape)\n",
    "X_test_public.head()"
   ]
  },
  {
   "cell_type": "code",
   "execution_count": 15,
   "id": "708e6657",
   "metadata": {
    "execution": {
     "iopub.execute_input": "2022-12-04T06:15:28.390993Z",
     "iopub.status.busy": "2022-12-04T06:15:28.390565Z",
     "iopub.status.idle": "2022-12-04T06:15:28.407204Z",
     "shell.execute_reply": "2022-12-04T06:15:28.405314Z"
    },
    "papermill": {
     "duration": 0.030868,
     "end_time": "2022-12-04T06:15:28.411474",
     "exception": false,
     "start_time": "2022-12-04T06:15:28.380606",
     "status": "completed"
    },
    "tags": []
   },
   "outputs": [
    {
     "name": "stdout",
     "output_type": "stream",
     "text": [
      "[0 1]\n",
      "(5305,)\n"
     ]
    }
   ],
   "source": [
    "y_pred_public = pipe_log_cv.predict(X_test_public)\n",
    "print(np.unique(y_pred_public))\n",
    "print(y_pred_public.shape)"
   ]
  },
  {
   "cell_type": "markdown",
   "id": "29d3eaa6",
   "metadata": {
    "papermill": {
     "duration": 0.021482,
     "end_time": "2022-12-04T06:15:28.453836",
     "exception": false,
     "start_time": "2022-12-04T06:15:28.432354",
     "status": "completed"
    },
    "tags": []
   },
   "source": [
    "### Output"
   ]
  },
  {
   "cell_type": "code",
   "execution_count": 16,
   "id": "98a85c3c",
   "metadata": {
    "execution": {
     "iopub.execute_input": "2022-12-04T06:15:28.504198Z",
     "iopub.status.busy": "2022-12-04T06:15:28.503372Z",
     "iopub.status.idle": "2022-12-04T06:15:28.522519Z",
     "shell.execute_reply": "2022-12-04T06:15:28.521462Z"
    },
    "papermill": {
     "duration": 0.047637,
     "end_time": "2022-12-04T06:15:28.525474",
     "exception": false,
     "start_time": "2022-12-04T06:15:28.477837",
     "status": "completed"
    },
    "tags": []
   },
   "outputs": [],
   "source": [
    "sub = pd.DataFrame(y_pred_public, columns = [\"Offer Accepted\"])\n",
    "sub.insert(0, 'id', range(0, len(sub)))\n",
    "sub['Offer Accepted'].replace(1, \"Yes\", inplace = True)\n",
    "sub['Offer Accepted'].replace(0, \"No\", inplace = True)"
   ]
  },
  {
   "cell_type": "code",
   "execution_count": 17,
   "id": "b95e6503",
   "metadata": {
    "execution": {
     "iopub.execute_input": "2022-12-04T06:15:28.545864Z",
     "iopub.status.busy": "2022-12-04T06:15:28.544997Z",
     "iopub.status.idle": "2022-12-04T06:15:28.552393Z",
     "shell.execute_reply": "2022-12-04T06:15:28.551395Z"
    },
    "papermill": {
     "duration": 0.020321,
     "end_time": "2022-12-04T06:15:28.554832",
     "exception": false,
     "start_time": "2022-12-04T06:15:28.534511",
     "status": "completed"
    },
    "tags": []
   },
   "outputs": [
    {
     "data": {
      "text/plain": [
       "Index(['id', 'Offer Accepted'], dtype='object')"
      ]
     },
     "execution_count": 17,
     "metadata": {},
     "output_type": "execute_result"
    }
   ],
   "source": [
    "sub.columns"
   ]
  },
  {
   "cell_type": "code",
   "execution_count": 18,
   "id": "aef444ac",
   "metadata": {
    "execution": {
     "iopub.execute_input": "2022-12-04T06:15:28.575468Z",
     "iopub.status.busy": "2022-12-04T06:15:28.574642Z",
     "iopub.status.idle": "2022-12-04T06:15:28.588931Z",
     "shell.execute_reply": "2022-12-04T06:15:28.587752Z"
    },
    "papermill": {
     "duration": 0.027559,
     "end_time": "2022-12-04T06:15:28.591678",
     "exception": false,
     "start_time": "2022-12-04T06:15:28.564119",
     "status": "completed"
    },
    "tags": []
   },
   "outputs": [],
   "source": [
    "sub.to_csv('/kaggle/working/submission.csv', index = False)"
   ]
  }
 ],
 "metadata": {
  "kernelspec": {
   "display_name": "Python 3",
   "language": "python",
   "name": "python3"
  },
  "language_info": {
   "codemirror_mode": {
    "name": "ipython",
    "version": 3
   },
   "file_extension": ".py",
   "mimetype": "text/x-python",
   "name": "python",
   "nbconvert_exporter": "python",
   "pygments_lexer": "ipython3",
   "version": "3.7.12"
  },
  "papermill": {
   "default_parameters": {},
   "duration": 19.274613,
   "end_time": "2022-12-04T06:15:29.426089",
   "environment_variables": {},
   "exception": null,
   "input_path": "__notebook__.ipynb",
   "output_path": "__notebook__.ipynb",
   "parameters": {},
   "start_time": "2022-12-04T06:15:10.151476",
   "version": "2.3.4"
  }
 },
 "nbformat": 4,
 "nbformat_minor": 5
}
