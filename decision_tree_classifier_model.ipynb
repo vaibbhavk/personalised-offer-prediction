{
 "cells": [
  {
   "cell_type": "code",
   "execution_count": 1,
   "id": "619c97ed",
   "metadata": {
    "_cell_guid": "b1076dfc-b9ad-4769-8c92-a6c4dae69d19",
    "_uuid": "8f2839f25d086af736a60e9eeb907d3b93b6e0e5",
    "execution": {
     "iopub.execute_input": "2022-12-03T12:30:08.740829Z",
     "iopub.status.busy": "2022-12-03T12:30:08.739889Z",
     "iopub.status.idle": "2022-12-03T12:30:08.759575Z",
     "shell.execute_reply": "2022-12-03T12:30:08.757703Z"
    },
    "papermill": {
     "duration": 0.034136,
     "end_time": "2022-12-03T12:30:08.762784",
     "exception": false,
     "start_time": "2022-12-03T12:30:08.728648",
     "status": "completed"
    },
    "tags": []
   },
   "outputs": [
    {
     "name": "stdout",
     "output_type": "stream",
     "text": [
      "/kaggle/input/marketing-strategy-personalised-offer/sample.csv\n",
      "/kaggle/input/marketing-strategy-personalised-offer/train_data.csv\n",
      "/kaggle/input/marketing-strategy-personalised-offer/test_data.csv\n"
     ]
    }
   ],
   "source": [
    "# This Python 3 environment comes with many helpful analytics libraries installed\n",
    "# It is defined by the kaggle/python Docker image: https://github.com/kaggle/docker-python\n",
    "# For example, here's several helpful packages to load\n",
    "\n",
    "import numpy as np # linear algebra\n",
    "import pandas as pd # data processing, CSV file I/O (e.g. pd.read_csv)\n",
    "\n",
    "# Input data files are available in the read-only \"../input/\" directory\n",
    "# For example, running this (by clicking run or pressing Shift+Enter) will list all files under the input directory\n",
    "\n",
    "import os\n",
    "for dirname, _, filenames in os.walk('/kaggle/input'):\n",
    "    for filename in filenames:\n",
    "        print(os.path.join(dirname, filename))\n",
    "\n",
    "# You can write up to 20GB to the current directory (/kaggle/working/) that gets preserved as output when you create a version using \"Save & Run All\" \n",
    "# You can also write temporary files to /kaggle/temp/, but they won't be saved outside of the current session"
   ]
  },
  {
   "cell_type": "code",
   "execution_count": 2,
   "id": "c81657cc",
   "metadata": {
    "execution": {
     "iopub.execute_input": "2022-12-03T12:30:08.781040Z",
     "iopub.status.busy": "2022-12-03T12:30:08.779917Z",
     "iopub.status.idle": "2022-12-03T12:30:10.325731Z",
     "shell.execute_reply": "2022-12-03T12:30:10.324476Z"
    },
    "papermill": {
     "duration": 1.558767,
     "end_time": "2022-12-03T12:30:10.329615",
     "exception": false,
     "start_time": "2022-12-03T12:30:08.770848",
     "status": "completed"
    },
    "tags": []
   },
   "outputs": [],
   "source": [
    "# common imports\n",
    "import numpy as np\n",
    "import pandas as pd\n",
    "import os\n",
    "import io\n",
    "import warnings\n",
    "\n",
    "# sklearn specific imports\n",
    "from sklearn.datasets import fetch_openml\n",
    "from sklearn.preprocessing import MinMaxScaler\n",
    "from sklearn.preprocessing import OrdinalEncoder\n",
    "from sklearn.impute import SimpleImputer\n",
    "from sklearn.pipeline import Pipeline, make_pipeline\n",
    "from sklearn.dummy import DummyClassifier\n",
    "from sklearn.preprocessing import LabelEncoder\n",
    "from sklearn.linear_model import Perceptron\n",
    "from sklearn.svm import SVC\n",
    "from sklearn.neighbors import KNeighborsClassifier\n",
    "from sklearn.decomposition import PCA\n",
    "from sklearn.metrics import hinge_loss\n",
    "from sklearn.metrics import f1_score\n",
    "from sklearn.metrics import ConfusionMatrixDisplay, confusion_matrix, precision_recall_curve\n",
    "from sklearn.metrics import precision_score, recall_score, classification_report\n",
    "from sklearn.metrics import make_scorer\n",
    "from sklearn.model_selection import cross_validate, cross_val_predict, GridSearchCV, train_test_split\n",
    "from pprint import pprint\n",
    "\n",
    "import matplotlib.pyplot as plt\n",
    "import seaborn as sns"
   ]
  },
  {
   "cell_type": "markdown",
   "id": "f391bfed",
   "metadata": {
    "papermill": {
     "duration": 0.006307,
     "end_time": "2022-12-03T12:30:10.343221",
     "exception": false,
     "start_time": "2022-12-03T12:30:10.336914",
     "status": "completed"
    },
    "tags": []
   },
   "source": [
    "### Data loading"
   ]
  },
  {
   "cell_type": "code",
   "execution_count": 3,
   "id": "cd69dc4f",
   "metadata": {
    "execution": {
     "iopub.execute_input": "2022-12-03T12:30:10.359775Z",
     "iopub.status.busy": "2022-12-03T12:30:10.359287Z",
     "iopub.status.idle": "2022-12-03T12:30:10.517050Z",
     "shell.execute_reply": "2022-12-03T12:30:10.515771Z"
    },
    "papermill": {
     "duration": 0.170257,
     "end_time": "2022-12-03T12:30:10.520963",
     "exception": false,
     "start_time": "2022-12-03T12:30:10.350706",
     "status": "completed"
    },
    "tags": []
   },
   "outputs": [
    {
     "data": {
      "text/html": [
       "<div>\n",
       "<style scoped>\n",
       "    .dataframe tbody tr th:only-of-type {\n",
       "        vertical-align: middle;\n",
       "    }\n",
       "\n",
       "    .dataframe tbody tr th {\n",
       "        vertical-align: top;\n",
       "    }\n",
       "\n",
       "    .dataframe thead th {\n",
       "        text-align: right;\n",
       "    }\n",
       "</style>\n",
       "<table border=\"1\" class=\"dataframe\">\n",
       "  <thead>\n",
       "    <tr style=\"text-align: right;\">\n",
       "      <th></th>\n",
       "      <th>offer expiration</th>\n",
       "      <th>income_range</th>\n",
       "      <th>no_visited_Cold drinks</th>\n",
       "      <th>travelled_more_than_15mins_for_offer</th>\n",
       "      <th>Restaur_spend_less_than20</th>\n",
       "      <th>Marital Status</th>\n",
       "      <th>restaurant type</th>\n",
       "      <th>age</th>\n",
       "      <th>Prefer western over chinese</th>\n",
       "      <th>travelled_more_than_25mins_for_offer</th>\n",
       "      <th>...</th>\n",
       "      <th>restuarant_opposite_direction_house</th>\n",
       "      <th>has Children</th>\n",
       "      <th>visit restaurant with rating (avg)</th>\n",
       "      <th>temperature</th>\n",
       "      <th>Restaur_spend_greater_than20</th>\n",
       "      <th>Travel Time</th>\n",
       "      <th>Climate</th>\n",
       "      <th>drop location</th>\n",
       "      <th>Prefer home food</th>\n",
       "      <th>Offer Accepted</th>\n",
       "    </tr>\n",
       "  </thead>\n",
       "  <tbody>\n",
       "    <tr>\n",
       "      <th>0</th>\n",
       "      <td>2days</td>\n",
       "      <td>₹100000 or More</td>\n",
       "      <td>4~8</td>\n",
       "      <td>1</td>\n",
       "      <td>less1</td>\n",
       "      <td>Married partner</td>\n",
       "      <td>4 star restaurant</td>\n",
       "      <td>36</td>\n",
       "      <td>0</td>\n",
       "      <td>0</td>\n",
       "      <td>...</td>\n",
       "      <td>0</td>\n",
       "      <td>0</td>\n",
       "      <td>4</td>\n",
       "      <td>67</td>\n",
       "      <td>less1</td>\n",
       "      <td>22</td>\n",
       "      <td>Spring</td>\n",
       "      <td>Location B</td>\n",
       "      <td>0</td>\n",
       "      <td>No</td>\n",
       "    </tr>\n",
       "    <tr>\n",
       "      <th>1</th>\n",
       "      <td>2days</td>\n",
       "      <td>₹87500 - ₹99999</td>\n",
       "      <td>4~8</td>\n",
       "      <td>0</td>\n",
       "      <td>4~8</td>\n",
       "      <td>Married partner</td>\n",
       "      <td>Take-away restaurant</td>\n",
       "      <td>50plus</td>\n",
       "      <td>0</td>\n",
       "      <td>0</td>\n",
       "      <td>...</td>\n",
       "      <td>0</td>\n",
       "      <td>1</td>\n",
       "      <td>3</td>\n",
       "      <td>89</td>\n",
       "      <td>1~3</td>\n",
       "      <td>18</td>\n",
       "      <td>Summer</td>\n",
       "      <td>Location B</td>\n",
       "      <td>0</td>\n",
       "      <td>Yes</td>\n",
       "    </tr>\n",
       "    <tr>\n",
       "      <th>2</th>\n",
       "      <td>2days</td>\n",
       "      <td>₹87500 - ₹99999</td>\n",
       "      <td>less1</td>\n",
       "      <td>1</td>\n",
       "      <td>1~3</td>\n",
       "      <td>Single</td>\n",
       "      <td>Cold drinks</td>\n",
       "      <td>26</td>\n",
       "      <td>1</td>\n",
       "      <td>0</td>\n",
       "      <td>...</td>\n",
       "      <td>1</td>\n",
       "      <td>1</td>\n",
       "      <td>4</td>\n",
       "      <td>67</td>\n",
       "      <td>less1</td>\n",
       "      <td>7</td>\n",
       "      <td>Winter</td>\n",
       "      <td>Location A</td>\n",
       "      <td>1</td>\n",
       "      <td>Yes</td>\n",
       "    </tr>\n",
       "    <tr>\n",
       "      <th>3</th>\n",
       "      <td>10hours</td>\n",
       "      <td>₹37500 - ₹49999</td>\n",
       "      <td>less1</td>\n",
       "      <td>0</td>\n",
       "      <td>1~3</td>\n",
       "      <td>Single</td>\n",
       "      <td>Take-away restaurant</td>\n",
       "      <td>46</td>\n",
       "      <td>1</td>\n",
       "      <td>0</td>\n",
       "      <td>...</td>\n",
       "      <td>0</td>\n",
       "      <td>1</td>\n",
       "      <td>3</td>\n",
       "      <td>89</td>\n",
       "      <td>1~3</td>\n",
       "      <td>7</td>\n",
       "      <td>Summer</td>\n",
       "      <td>Location C</td>\n",
       "      <td>0</td>\n",
       "      <td>No</td>\n",
       "    </tr>\n",
       "    <tr>\n",
       "      <th>4</th>\n",
       "      <td>2days</td>\n",
       "      <td>₹100000 or More</td>\n",
       "      <td>never</td>\n",
       "      <td>1</td>\n",
       "      <td>1~3</td>\n",
       "      <td>Single</td>\n",
       "      <td>4 star restaurant</td>\n",
       "      <td>21</td>\n",
       "      <td>0</td>\n",
       "      <td>1</td>\n",
       "      <td>...</td>\n",
       "      <td>1</td>\n",
       "      <td>0</td>\n",
       "      <td>3</td>\n",
       "      <td>40</td>\n",
       "      <td>less1</td>\n",
       "      <td>7</td>\n",
       "      <td>Summer</td>\n",
       "      <td>Location C</td>\n",
       "      <td>0</td>\n",
       "      <td>No</td>\n",
       "    </tr>\n",
       "  </tbody>\n",
       "</table>\n",
       "<p>5 rows × 31 columns</p>\n",
       "</div>"
      ],
      "text/plain": [
       "  offer expiration     income_range no_visited_Cold drinks  \\\n",
       "0            2days  ₹100000 or More                    4~8   \n",
       "1            2days  ₹87500 - ₹99999                    4~8   \n",
       "2            2days  ₹87500 - ₹99999                  less1   \n",
       "3          10hours  ₹37500 - ₹49999                  less1   \n",
       "4            2days  ₹100000 or More                  never   \n",
       "\n",
       "   travelled_more_than_15mins_for_offer Restaur_spend_less_than20  \\\n",
       "0                                     1                     less1   \n",
       "1                                     0                       4~8   \n",
       "2                                     1                       1~3   \n",
       "3                                     0                       1~3   \n",
       "4                                     1                       1~3   \n",
       "\n",
       "    Marital Status       restaurant type     age  Prefer western over chinese  \\\n",
       "0  Married partner     4 star restaurant      36                            0   \n",
       "1  Married partner  Take-away restaurant  50plus                            0   \n",
       "2           Single           Cold drinks      26                            1   \n",
       "3           Single  Take-away restaurant      46                            1   \n",
       "4           Single     4 star restaurant      21                            0   \n",
       "\n",
       "   travelled_more_than_25mins_for_offer  ...  \\\n",
       "0                                     0  ...   \n",
       "1                                     0  ...   \n",
       "2                                     0  ...   \n",
       "3                                     0  ...   \n",
       "4                                     1  ...   \n",
       "\n",
       "   restuarant_opposite_direction_house has Children  \\\n",
       "0                                    0            0   \n",
       "1                                    0            1   \n",
       "2                                    1            1   \n",
       "3                                    0            1   \n",
       "4                                    1            0   \n",
       "\n",
       "  visit restaurant with rating (avg) temperature  \\\n",
       "0                                  4          67   \n",
       "1                                  3          89   \n",
       "2                                  4          67   \n",
       "3                                  3          89   \n",
       "4                                  3          40   \n",
       "\n",
       "   Restaur_spend_greater_than20  Travel Time Climate drop location  \\\n",
       "0                         less1           22  Spring    Location B   \n",
       "1                           1~3           18  Summer    Location B   \n",
       "2                         less1            7  Winter    Location A   \n",
       "3                           1~3            7  Summer    Location C   \n",
       "4                         less1            7  Summer    Location C   \n",
       "\n",
       "   Prefer home food Offer Accepted  \n",
       "0                 0             No  \n",
       "1                 0            Yes  \n",
       "2                 1            Yes  \n",
       "3                 0             No  \n",
       "4                 0             No  \n",
       "\n",
       "[5 rows x 31 columns]"
      ]
     },
     "execution_count": 3,
     "metadata": {},
     "output_type": "execute_result"
    }
   ],
   "source": [
    "# df = pd.read_csv('../input/marketing-strategy-personalised-offer/sample.csv')\n",
    "\n",
    "df_train = pd.read_csv(\"../input/marketing-strategy-personalised-offer/train_data.csv\")\n",
    "df_train.head()"
   ]
  },
  {
   "cell_type": "code",
   "execution_count": 4,
   "id": "ea0d6be5",
   "metadata": {
    "execution": {
     "iopub.execute_input": "2022-12-03T12:30:10.541188Z",
     "iopub.status.busy": "2022-12-03T12:30:10.540717Z",
     "iopub.status.idle": "2022-12-03T12:30:10.575954Z",
     "shell.execute_reply": "2022-12-03T12:30:10.574742Z"
    },
    "papermill": {
     "duration": 0.049432,
     "end_time": "2022-12-03T12:30:10.578549",
     "exception": false,
     "start_time": "2022-12-03T12:30:10.529117",
     "status": "completed"
    },
    "tags": []
   },
   "outputs": [
    {
     "data": {
      "text/html": [
       "<div>\n",
       "<style scoped>\n",
       "    .dataframe tbody tr th:only-of-type {\n",
       "        vertical-align: middle;\n",
       "    }\n",
       "\n",
       "    .dataframe tbody tr th {\n",
       "        vertical-align: top;\n",
       "    }\n",
       "\n",
       "    .dataframe thead th {\n",
       "        text-align: right;\n",
       "    }\n",
       "</style>\n",
       "<table border=\"1\" class=\"dataframe\">\n",
       "  <thead>\n",
       "    <tr style=\"text-align: right;\">\n",
       "      <th></th>\n",
       "      <th>offer expiration</th>\n",
       "      <th>income_range</th>\n",
       "      <th>no_visited_Cold drinks</th>\n",
       "      <th>travelled_more_than_15mins_for_offer</th>\n",
       "      <th>Restaur_spend_less_than20</th>\n",
       "      <th>Marital Status</th>\n",
       "      <th>restaurant type</th>\n",
       "      <th>age</th>\n",
       "      <th>Prefer western over chinese</th>\n",
       "      <th>travelled_more_than_25mins_for_offer</th>\n",
       "      <th>...</th>\n",
       "      <th>Job/Job Industry</th>\n",
       "      <th>restuarant_opposite_direction_house</th>\n",
       "      <th>has Children</th>\n",
       "      <th>visit restaurant with rating (avg)</th>\n",
       "      <th>temperature</th>\n",
       "      <th>Restaur_spend_greater_than20</th>\n",
       "      <th>Travel Time</th>\n",
       "      <th>Climate</th>\n",
       "      <th>drop location</th>\n",
       "      <th>Prefer home food</th>\n",
       "    </tr>\n",
       "  </thead>\n",
       "  <tbody>\n",
       "    <tr>\n",
       "      <th>0</th>\n",
       "      <td>2days</td>\n",
       "      <td>₹100000 or More</td>\n",
       "      <td>4~8</td>\n",
       "      <td>1</td>\n",
       "      <td>less1</td>\n",
       "      <td>Married partner</td>\n",
       "      <td>4 star restaurant</td>\n",
       "      <td>36</td>\n",
       "      <td>0</td>\n",
       "      <td>0</td>\n",
       "      <td>...</td>\n",
       "      <td>Unemployed</td>\n",
       "      <td>0</td>\n",
       "      <td>0</td>\n",
       "      <td>4</td>\n",
       "      <td>67</td>\n",
       "      <td>less1</td>\n",
       "      <td>22</td>\n",
       "      <td>Spring</td>\n",
       "      <td>Location B</td>\n",
       "      <td>0</td>\n",
       "    </tr>\n",
       "    <tr>\n",
       "      <th>1</th>\n",
       "      <td>2days</td>\n",
       "      <td>₹87500 - ₹99999</td>\n",
       "      <td>4~8</td>\n",
       "      <td>0</td>\n",
       "      <td>4~8</td>\n",
       "      <td>Married partner</td>\n",
       "      <td>Take-away restaurant</td>\n",
       "      <td>50plus</td>\n",
       "      <td>0</td>\n",
       "      <td>0</td>\n",
       "      <td>...</td>\n",
       "      <td>Unemployed</td>\n",
       "      <td>0</td>\n",
       "      <td>1</td>\n",
       "      <td>3</td>\n",
       "      <td>89</td>\n",
       "      <td>1~3</td>\n",
       "      <td>18</td>\n",
       "      <td>Summer</td>\n",
       "      <td>Location B</td>\n",
       "      <td>0</td>\n",
       "    </tr>\n",
       "    <tr>\n",
       "      <th>2</th>\n",
       "      <td>2days</td>\n",
       "      <td>₹87500 - ₹99999</td>\n",
       "      <td>less1</td>\n",
       "      <td>1</td>\n",
       "      <td>1~3</td>\n",
       "      <td>Single</td>\n",
       "      <td>Cold drinks</td>\n",
       "      <td>26</td>\n",
       "      <td>1</td>\n",
       "      <td>0</td>\n",
       "      <td>...</td>\n",
       "      <td>Arts Design Entertainment Sports &amp; Media</td>\n",
       "      <td>1</td>\n",
       "      <td>1</td>\n",
       "      <td>4</td>\n",
       "      <td>67</td>\n",
       "      <td>less1</td>\n",
       "      <td>7</td>\n",
       "      <td>Winter</td>\n",
       "      <td>Location A</td>\n",
       "      <td>1</td>\n",
       "    </tr>\n",
       "    <tr>\n",
       "      <th>3</th>\n",
       "      <td>10hours</td>\n",
       "      <td>₹37500 - ₹49999</td>\n",
       "      <td>less1</td>\n",
       "      <td>0</td>\n",
       "      <td>1~3</td>\n",
       "      <td>Single</td>\n",
       "      <td>Take-away restaurant</td>\n",
       "      <td>46</td>\n",
       "      <td>1</td>\n",
       "      <td>0</td>\n",
       "      <td>...</td>\n",
       "      <td>Sales &amp; Related</td>\n",
       "      <td>0</td>\n",
       "      <td>1</td>\n",
       "      <td>3</td>\n",
       "      <td>89</td>\n",
       "      <td>1~3</td>\n",
       "      <td>7</td>\n",
       "      <td>Summer</td>\n",
       "      <td>Location C</td>\n",
       "      <td>0</td>\n",
       "    </tr>\n",
       "    <tr>\n",
       "      <th>4</th>\n",
       "      <td>2days</td>\n",
       "      <td>₹100000 or More</td>\n",
       "      <td>never</td>\n",
       "      <td>1</td>\n",
       "      <td>1~3</td>\n",
       "      <td>Single</td>\n",
       "      <td>4 star restaurant</td>\n",
       "      <td>21</td>\n",
       "      <td>0</td>\n",
       "      <td>1</td>\n",
       "      <td>...</td>\n",
       "      <td>Sales &amp; Related</td>\n",
       "      <td>1</td>\n",
       "      <td>0</td>\n",
       "      <td>3</td>\n",
       "      <td>40</td>\n",
       "      <td>less1</td>\n",
       "      <td>7</td>\n",
       "      <td>Summer</td>\n",
       "      <td>Location C</td>\n",
       "      <td>0</td>\n",
       "    </tr>\n",
       "  </tbody>\n",
       "</table>\n",
       "<p>5 rows × 30 columns</p>\n",
       "</div>"
      ],
      "text/plain": [
       "  offer expiration     income_range no_visited_Cold drinks  \\\n",
       "0            2days  ₹100000 or More                    4~8   \n",
       "1            2days  ₹87500 - ₹99999                    4~8   \n",
       "2            2days  ₹87500 - ₹99999                  less1   \n",
       "3          10hours  ₹37500 - ₹49999                  less1   \n",
       "4            2days  ₹100000 or More                  never   \n",
       "\n",
       "   travelled_more_than_15mins_for_offer Restaur_spend_less_than20  \\\n",
       "0                                     1                     less1   \n",
       "1                                     0                       4~8   \n",
       "2                                     1                       1~3   \n",
       "3                                     0                       1~3   \n",
       "4                                     1                       1~3   \n",
       "\n",
       "    Marital Status       restaurant type     age  Prefer western over chinese  \\\n",
       "0  Married partner     4 star restaurant      36                            0   \n",
       "1  Married partner  Take-away restaurant  50plus                            0   \n",
       "2           Single           Cold drinks      26                            1   \n",
       "3           Single  Take-away restaurant      46                            1   \n",
       "4           Single     4 star restaurant      21                            0   \n",
       "\n",
       "   travelled_more_than_25mins_for_offer  ...  \\\n",
       "0                                     0  ...   \n",
       "1                                     0  ...   \n",
       "2                                     0  ...   \n",
       "3                                     0  ...   \n",
       "4                                     1  ...   \n",
       "\n",
       "                           Job/Job Industry  \\\n",
       "0                                Unemployed   \n",
       "1                                Unemployed   \n",
       "2  Arts Design Entertainment Sports & Media   \n",
       "3                           Sales & Related   \n",
       "4                           Sales & Related   \n",
       "\n",
       "  restuarant_opposite_direction_house has Children  \\\n",
       "0                                   0            0   \n",
       "1                                   0            1   \n",
       "2                                   1            1   \n",
       "3                                   0            1   \n",
       "4                                   1            0   \n",
       "\n",
       "  visit restaurant with rating (avg)  temperature  \\\n",
       "0                                  4           67   \n",
       "1                                  3           89   \n",
       "2                                  4           67   \n",
       "3                                  3           89   \n",
       "4                                  3           40   \n",
       "\n",
       "   Restaur_spend_greater_than20 Travel Time Climate  drop location  \\\n",
       "0                         less1          22  Spring     Location B   \n",
       "1                           1~3          18  Summer     Location B   \n",
       "2                         less1           7  Winter     Location A   \n",
       "3                           1~3           7  Summer     Location C   \n",
       "4                         less1           7  Summer     Location C   \n",
       "\n",
       "  Prefer home food  \n",
       "0                0  \n",
       "1                0  \n",
       "2                1  \n",
       "3                0  \n",
       "4                0  \n",
       "\n",
       "[5 rows x 30 columns]"
      ]
     },
     "execution_count": 4,
     "metadata": {},
     "output_type": "execute_result"
    }
   ],
   "source": [
    "X = df_train.drop(\"Offer Accepted\", axis = 1)\n",
    "X.head()"
   ]
  },
  {
   "cell_type": "code",
   "execution_count": 5,
   "id": "d91b6f57",
   "metadata": {
    "execution": {
     "iopub.execute_input": "2022-12-03T12:30:10.596680Z",
     "iopub.status.busy": "2022-12-03T12:30:10.596272Z",
     "iopub.status.idle": "2022-12-03T12:30:10.608068Z",
     "shell.execute_reply": "2022-12-03T12:30:10.606500Z"
    },
    "papermill": {
     "duration": 0.024844,
     "end_time": "2022-12-03T12:30:10.611295",
     "exception": false,
     "start_time": "2022-12-03T12:30:10.586451",
     "status": "completed"
    },
    "tags": []
   },
   "outputs": [
    {
     "data": {
      "text/plain": [
       "0     No\n",
       "1    Yes\n",
       "2    Yes\n",
       "3     No\n",
       "4     No\n",
       "Name: Offer Accepted, dtype: object"
      ]
     },
     "execution_count": 5,
     "metadata": {},
     "output_type": "execute_result"
    }
   ],
   "source": [
    "y = df_train[\"Offer Accepted\"]\n",
    "y.head()"
   ]
  },
  {
   "cell_type": "code",
   "execution_count": 6,
   "id": "43691296",
   "metadata": {
    "execution": {
     "iopub.execute_input": "2022-12-03T12:30:10.630230Z",
     "iopub.status.busy": "2022-12-03T12:30:10.629042Z",
     "iopub.status.idle": "2022-12-03T12:30:10.636790Z",
     "shell.execute_reply": "2022-12-03T12:30:10.635493Z"
    },
    "papermill": {
     "duration": 0.020093,
     "end_time": "2022-12-03T12:30:10.639652",
     "exception": false,
     "start_time": "2022-12-03T12:30:10.619559",
     "status": "completed"
    },
    "tags": []
   },
   "outputs": [
    {
     "data": {
      "text/plain": [
       "((12379, 30), (12379,))"
      ]
     },
     "execution_count": 6,
     "metadata": {},
     "output_type": "execute_result"
    }
   ],
   "source": [
    "X.shape, y.shape"
   ]
  },
  {
   "cell_type": "code",
   "execution_count": 7,
   "id": "82f05b37",
   "metadata": {
    "execution": {
     "iopub.execute_input": "2022-12-03T12:30:10.657402Z",
     "iopub.status.busy": "2022-12-03T12:30:10.656987Z",
     "iopub.status.idle": "2022-12-03T12:30:10.677333Z",
     "shell.execute_reply": "2022-12-03T12:30:10.675756Z"
    },
    "papermill": {
     "duration": 0.033572,
     "end_time": "2022-12-03T12:30:10.681023",
     "exception": false,
     "start_time": "2022-12-03T12:30:10.647451",
     "status": "completed"
    },
    "tags": []
   },
   "outputs": [
    {
     "data": {
      "text/plain": [
       "offer expiration                            0\n",
       "income_range                                0\n",
       "no_visited_Cold drinks                    198\n",
       "travelled_more_than_15mins_for_offer        0\n",
       "Restaur_spend_less_than20                 121\n",
       "Marital Status                              0\n",
       "restaurant type                             0\n",
       "age                                         0\n",
       "Prefer western over chinese                 0\n",
       "travelled_more_than_25mins_for_offer        0\n",
       "travelled_more_than_5mins_for_offer         0\n",
       "no_visited_bars                            93\n",
       "gender                                      0\n",
       "car                                     12268\n",
       "restuarant_same_direction_house             0\n",
       "Cooks regularly                             0\n",
       "Customer type                               0\n",
       "Qualification                               0\n",
       "is foodie                                   0\n",
       "no_Take-aways                             144\n",
       "Job/Job Industry                            0\n",
       "restuarant_opposite_direction_house         0\n",
       "has Children                                0\n",
       "visit restaurant with rating (avg)          0\n",
       "temperature                                 0\n",
       "Restaur_spend_greater_than20              160\n",
       "Travel Time                                 0\n",
       "Climate                                     0\n",
       "drop location                               0\n",
       "Prefer home food                            0\n",
       "dtype: int64"
      ]
     },
     "execution_count": 7,
     "metadata": {},
     "output_type": "execute_result"
    }
   ],
   "source": [
    "X.isnull().sum()"
   ]
  },
  {
   "cell_type": "code",
   "execution_count": 8,
   "id": "cac1ccca",
   "metadata": {
    "execution": {
     "iopub.execute_input": "2022-12-03T12:30:10.700543Z",
     "iopub.status.busy": "2022-12-03T12:30:10.699824Z",
     "iopub.status.idle": "2022-12-03T12:30:10.709334Z",
     "shell.execute_reply": "2022-12-03T12:30:10.707531Z"
    },
    "papermill": {
     "duration": 0.023429,
     "end_time": "2022-12-03T12:30:10.712973",
     "exception": false,
     "start_time": "2022-12-03T12:30:10.689544",
     "status": "completed"
    },
    "tags": []
   },
   "outputs": [
    {
     "data": {
      "text/plain": [
       "30"
      ]
     },
     "execution_count": 8,
     "metadata": {},
     "output_type": "execute_result"
    }
   ],
   "source": [
    "names = list(X.columns)\n",
    "len(names)"
   ]
  },
  {
   "cell_type": "markdown",
   "id": "396b2446",
   "metadata": {
    "papermill": {
     "duration": 0.010587,
     "end_time": "2022-12-03T12:30:10.732772",
     "exception": false,
     "start_time": "2022-12-03T12:30:10.722185",
     "status": "completed"
    },
    "tags": []
   },
   "source": [
    "### Data Preprocessing"
   ]
  },
  {
   "cell_type": "code",
   "execution_count": 9,
   "id": "7354eefe",
   "metadata": {
    "execution": {
     "iopub.execute_input": "2022-12-03T12:30:10.752709Z",
     "iopub.status.busy": "2022-12-03T12:30:10.752293Z",
     "iopub.status.idle": "2022-12-03T12:30:10.763492Z",
     "shell.execute_reply": "2022-12-03T12:30:10.762294Z"
    },
    "papermill": {
     "duration": 0.02448,
     "end_time": "2022-12-03T12:30:10.766018",
     "exception": false,
     "start_time": "2022-12-03T12:30:10.741538",
     "status": "completed"
    },
    "tags": []
   },
   "outputs": [
    {
     "data": {
      "text/plain": [
       "Pipeline(steps=[('imputer', SimpleImputer(strategy='most_frequent')),\n",
       "                ('encoder', OrdinalEncoder())])"
      ]
     },
     "execution_count": 9,
     "metadata": {},
     "output_type": "execute_result"
    }
   ],
   "source": [
    "pipe = Pipeline([\n",
    "    ('imputer', SimpleImputer(strategy = \"most_frequent\")),\n",
    "    ('encoder', OrdinalEncoder())\n",
    "])\n",
    "pipe"
   ]
  },
  {
   "cell_type": "code",
   "execution_count": 10,
   "id": "9269ea2d",
   "metadata": {
    "execution": {
     "iopub.execute_input": "2022-12-03T12:30:10.784692Z",
     "iopub.status.busy": "2022-12-03T12:30:10.784288Z",
     "iopub.status.idle": "2022-12-03T12:30:11.040617Z",
     "shell.execute_reply": "2022-12-03T12:30:11.039418Z"
    },
    "papermill": {
     "duration": 0.269644,
     "end_time": "2022-12-03T12:30:11.043858",
     "exception": false,
     "start_time": "2022-12-03T12:30:10.774214",
     "status": "completed"
    },
    "tags": []
   },
   "outputs": [
    {
     "data": {
      "text/html": [
       "<div>\n",
       "<style scoped>\n",
       "    .dataframe tbody tr th:only-of-type {\n",
       "        vertical-align: middle;\n",
       "    }\n",
       "\n",
       "    .dataframe tbody tr th {\n",
       "        vertical-align: top;\n",
       "    }\n",
       "\n",
       "    .dataframe thead th {\n",
       "        text-align: right;\n",
       "    }\n",
       "</style>\n",
       "<table border=\"1\" class=\"dataframe\">\n",
       "  <thead>\n",
       "    <tr style=\"text-align: right;\">\n",
       "      <th></th>\n",
       "      <th>offer expiration</th>\n",
       "      <th>income_range</th>\n",
       "      <th>no_visited_Cold drinks</th>\n",
       "      <th>travelled_more_than_15mins_for_offer</th>\n",
       "      <th>Restaur_spend_less_than20</th>\n",
       "      <th>Marital Status</th>\n",
       "      <th>restaurant type</th>\n",
       "      <th>age</th>\n",
       "      <th>Prefer western over chinese</th>\n",
       "      <th>travelled_more_than_25mins_for_offer</th>\n",
       "      <th>...</th>\n",
       "      <th>Job/Job Industry</th>\n",
       "      <th>restuarant_opposite_direction_house</th>\n",
       "      <th>has Children</th>\n",
       "      <th>visit restaurant with rating (avg)</th>\n",
       "      <th>temperature</th>\n",
       "      <th>Restaur_spend_greater_than20</th>\n",
       "      <th>Travel Time</th>\n",
       "      <th>Climate</th>\n",
       "      <th>drop location</th>\n",
       "      <th>Prefer home food</th>\n",
       "    </tr>\n",
       "  </thead>\n",
       "  <tbody>\n",
       "    <tr>\n",
       "      <th>0</th>\n",
       "      <td>1.0</td>\n",
       "      <td>1.0</td>\n",
       "      <td>1.0</td>\n",
       "      <td>1.0</td>\n",
       "      <td>3.0</td>\n",
       "      <td>1.0</td>\n",
       "      <td>1.0</td>\n",
       "      <td>3.0</td>\n",
       "      <td>0.0</td>\n",
       "      <td>0.0</td>\n",
       "      <td>...</td>\n",
       "      <td>24.0</td>\n",
       "      <td>0.0</td>\n",
       "      <td>0.0</td>\n",
       "      <td>4.0</td>\n",
       "      <td>1.0</td>\n",
       "      <td>3.0</td>\n",
       "      <td>4.0</td>\n",
       "      <td>0.0</td>\n",
       "      <td>1.0</td>\n",
       "      <td>0.0</td>\n",
       "    </tr>\n",
       "    <tr>\n",
       "      <th>1</th>\n",
       "      <td>1.0</td>\n",
       "      <td>8.0</td>\n",
       "      <td>1.0</td>\n",
       "      <td>0.0</td>\n",
       "      <td>1.0</td>\n",
       "      <td>1.0</td>\n",
       "      <td>4.0</td>\n",
       "      <td>6.0</td>\n",
       "      <td>0.0</td>\n",
       "      <td>0.0</td>\n",
       "      <td>...</td>\n",
       "      <td>24.0</td>\n",
       "      <td>0.0</td>\n",
       "      <td>1.0</td>\n",
       "      <td>3.0</td>\n",
       "      <td>2.0</td>\n",
       "      <td>0.0</td>\n",
       "      <td>3.0</td>\n",
       "      <td>1.0</td>\n",
       "      <td>1.0</td>\n",
       "      <td>0.0</td>\n",
       "    </tr>\n",
       "    <tr>\n",
       "      <th>2</th>\n",
       "      <td>1.0</td>\n",
       "      <td>8.0</td>\n",
       "      <td>3.0</td>\n",
       "      <td>1.0</td>\n",
       "      <td>0.0</td>\n",
       "      <td>2.0</td>\n",
       "      <td>2.0</td>\n",
       "      <td>1.0</td>\n",
       "      <td>1.0</td>\n",
       "      <td>0.0</td>\n",
       "      <td>...</td>\n",
       "      <td>1.0</td>\n",
       "      <td>1.0</td>\n",
       "      <td>1.0</td>\n",
       "      <td>4.0</td>\n",
       "      <td>1.0</td>\n",
       "      <td>3.0</td>\n",
       "      <td>0.0</td>\n",
       "      <td>2.0</td>\n",
       "      <td>0.0</td>\n",
       "      <td>1.0</td>\n",
       "    </tr>\n",
       "    <tr>\n",
       "      <th>3</th>\n",
       "      <td>0.0</td>\n",
       "      <td>4.0</td>\n",
       "      <td>3.0</td>\n",
       "      <td>0.0</td>\n",
       "      <td>0.0</td>\n",
       "      <td>2.0</td>\n",
       "      <td>4.0</td>\n",
       "      <td>5.0</td>\n",
       "      <td>1.0</td>\n",
       "      <td>0.0</td>\n",
       "      <td>...</td>\n",
       "      <td>21.0</td>\n",
       "      <td>0.0</td>\n",
       "      <td>1.0</td>\n",
       "      <td>3.0</td>\n",
       "      <td>2.0</td>\n",
       "      <td>0.0</td>\n",
       "      <td>0.0</td>\n",
       "      <td>1.0</td>\n",
       "      <td>2.0</td>\n",
       "      <td>0.0</td>\n",
       "    </tr>\n",
       "    <tr>\n",
       "      <th>4</th>\n",
       "      <td>1.0</td>\n",
       "      <td>1.0</td>\n",
       "      <td>4.0</td>\n",
       "      <td>1.0</td>\n",
       "      <td>0.0</td>\n",
       "      <td>2.0</td>\n",
       "      <td>1.0</td>\n",
       "      <td>0.0</td>\n",
       "      <td>0.0</td>\n",
       "      <td>1.0</td>\n",
       "      <td>...</td>\n",
       "      <td>21.0</td>\n",
       "      <td>1.0</td>\n",
       "      <td>0.0</td>\n",
       "      <td>3.0</td>\n",
       "      <td>0.0</td>\n",
       "      <td>3.0</td>\n",
       "      <td>0.0</td>\n",
       "      <td>1.0</td>\n",
       "      <td>2.0</td>\n",
       "      <td>0.0</td>\n",
       "    </tr>\n",
       "  </tbody>\n",
       "</table>\n",
       "<p>5 rows × 30 columns</p>\n",
       "</div>"
      ],
      "text/plain": [
       "   offer expiration  income_range  no_visited_Cold drinks  \\\n",
       "0               1.0           1.0                     1.0   \n",
       "1               1.0           8.0                     1.0   \n",
       "2               1.0           8.0                     3.0   \n",
       "3               0.0           4.0                     3.0   \n",
       "4               1.0           1.0                     4.0   \n",
       "\n",
       "   travelled_more_than_15mins_for_offer  Restaur_spend_less_than20  \\\n",
       "0                                   1.0                        3.0   \n",
       "1                                   0.0                        1.0   \n",
       "2                                   1.0                        0.0   \n",
       "3                                   0.0                        0.0   \n",
       "4                                   1.0                        0.0   \n",
       "\n",
       "   Marital Status  restaurant type  age  Prefer western over chinese  \\\n",
       "0             1.0              1.0  3.0                          0.0   \n",
       "1             1.0              4.0  6.0                          0.0   \n",
       "2             2.0              2.0  1.0                          1.0   \n",
       "3             2.0              4.0  5.0                          1.0   \n",
       "4             2.0              1.0  0.0                          0.0   \n",
       "\n",
       "   travelled_more_than_25mins_for_offer  ...  Job/Job Industry  \\\n",
       "0                                   0.0  ...              24.0   \n",
       "1                                   0.0  ...              24.0   \n",
       "2                                   0.0  ...               1.0   \n",
       "3                                   0.0  ...              21.0   \n",
       "4                                   1.0  ...              21.0   \n",
       "\n",
       "   restuarant_opposite_direction_house  has Children  \\\n",
       "0                                  0.0           0.0   \n",
       "1                                  0.0           1.0   \n",
       "2                                  1.0           1.0   \n",
       "3                                  0.0           1.0   \n",
       "4                                  1.0           0.0   \n",
       "\n",
       "   visit restaurant with rating (avg)  temperature  \\\n",
       "0                                 4.0          1.0   \n",
       "1                                 3.0          2.0   \n",
       "2                                 4.0          1.0   \n",
       "3                                 3.0          2.0   \n",
       "4                                 3.0          0.0   \n",
       "\n",
       "   Restaur_spend_greater_than20  Travel Time  Climate  drop location  \\\n",
       "0                           3.0          4.0      0.0            1.0   \n",
       "1                           0.0          3.0      1.0            1.0   \n",
       "2                           3.0          0.0      2.0            0.0   \n",
       "3                           0.0          0.0      1.0            2.0   \n",
       "4                           3.0          0.0      1.0            2.0   \n",
       "\n",
       "   Prefer home food  \n",
       "0               0.0  \n",
       "1               0.0  \n",
       "2               1.0  \n",
       "3               0.0  \n",
       "4               0.0  \n",
       "\n",
       "[5 rows x 30 columns]"
      ]
     },
     "execution_count": 10,
     "metadata": {},
     "output_type": "execute_result"
    }
   ],
   "source": [
    "X_new = pipe.fit_transform(X)\n",
    "\n",
    "X = pd.DataFrame(X_new, columns = names)\n",
    "X.head()"
   ]
  },
  {
   "cell_type": "code",
   "execution_count": 11,
   "id": "25652b09",
   "metadata": {
    "execution": {
     "iopub.execute_input": "2022-12-03T12:30:11.065812Z",
     "iopub.status.busy": "2022-12-03T12:30:11.065163Z",
     "iopub.status.idle": "2022-12-03T12:30:11.082124Z",
     "shell.execute_reply": "2022-12-03T12:30:11.080281Z"
    },
    "papermill": {
     "duration": 0.031393,
     "end_time": "2022-12-03T12:30:11.084875",
     "exception": false,
     "start_time": "2022-12-03T12:30:11.053482",
     "status": "completed"
    },
    "tags": []
   },
   "outputs": [
    {
     "data": {
      "text/plain": [
       "0        0\n",
       "1        1\n",
       "2        1\n",
       "3        0\n",
       "4        0\n",
       "        ..\n",
       "12374    1\n",
       "12375    1\n",
       "12376    0\n",
       "12377    1\n",
       "12378    1\n",
       "Name: Offer Accepted, Length: 12379, dtype: int64"
      ]
     },
     "execution_count": 11,
     "metadata": {},
     "output_type": "execute_result"
    }
   ],
   "source": [
    "y.replace(\"Yes\", 1, inplace = True)\n",
    "y.replace(\"No\", 0, inplace = True)\n",
    "\n",
    "y"
   ]
  },
  {
   "cell_type": "code",
   "execution_count": 12,
   "id": "791e40b5",
   "metadata": {
    "execution": {
     "iopub.execute_input": "2022-12-03T12:30:11.107898Z",
     "iopub.status.busy": "2022-12-03T12:30:11.107127Z",
     "iopub.status.idle": "2022-12-03T12:30:11.111494Z",
     "shell.execute_reply": "2022-12-03T12:30:11.110594Z"
    },
    "papermill": {
     "duration": 0.019605,
     "end_time": "2022-12-03T12:30:11.113867",
     "exception": false,
     "start_time": "2022-12-03T12:30:11.094262",
     "status": "completed"
    },
    "tags": []
   },
   "outputs": [],
   "source": [
    "X_train = X\n",
    "y_train = y"
   ]
  },
  {
   "cell_type": "markdown",
   "id": "c281377c",
   "metadata": {
    "papermill": {
     "duration": 0.010669,
     "end_time": "2022-12-03T12:30:11.133537",
     "exception": false,
     "start_time": "2022-12-03T12:30:11.122868",
     "status": "completed"
    },
    "tags": []
   },
   "source": [
    "### Decision Tree Classifier model"
   ]
  },
  {
   "cell_type": "markdown",
   "id": "68d21b64",
   "metadata": {
    "papermill": {
     "duration": 0.010498,
     "end_time": "2022-12-03T12:30:11.154627",
     "exception": false,
     "start_time": "2022-12-03T12:30:11.144129",
     "status": "completed"
    },
    "tags": []
   },
   "source": [
    "#### Finding the best parameters using GridSearchCV"
   ]
  },
  {
   "cell_type": "code",
   "execution_count": 13,
   "id": "86d4c6a1",
   "metadata": {
    "execution": {
     "iopub.execute_input": "2022-12-03T12:30:11.176273Z",
     "iopub.status.busy": "2022-12-03T12:30:11.175538Z",
     "iopub.status.idle": "2022-12-03T12:30:11.207166Z",
     "shell.execute_reply": "2022-12-03T12:30:11.205969Z"
    },
    "papermill": {
     "duration": 0.045047,
     "end_time": "2022-12-03T12:30:11.210011",
     "exception": false,
     "start_time": "2022-12-03T12:30:11.164964",
     "status": "completed"
    },
    "tags": []
   },
   "outputs": [],
   "source": [
    "from sklearn.tree import DecisionTreeClassifier"
   ]
  },
  {
   "cell_type": "code",
   "execution_count": 14,
   "id": "613fddeb",
   "metadata": {
    "execution": {
     "iopub.execute_input": "2022-12-03T12:30:11.230977Z",
     "iopub.status.busy": "2022-12-03T12:30:11.230471Z",
     "iopub.status.idle": "2022-12-03T12:30:20.552766Z",
     "shell.execute_reply": "2022-12-03T12:30:20.551812Z"
    },
    "papermill": {
     "duration": 9.337805,
     "end_time": "2022-12-03T12:30:20.556422",
     "exception": false,
     "start_time": "2022-12-03T12:30:11.218617",
     "status": "completed"
    },
    "tags": []
   },
   "outputs": [
    {
     "name": "stdout",
     "output_type": "stream",
     "text": [
      "Best parameters:\n",
      "\n",
      "{'max_depth': 8, 'min_samples_split': 10}\n",
      "\n"
     ]
    }
   ],
   "source": [
    "tuned_parameters = [{\"max_depth\": [1, 2, 3, 4, 5, 6, 7, 8, 9],\n",
    "                     \"min_samples_split\": [2, 4, 6, 8, 10]}]\n",
    "\n",
    "\n",
    "\n",
    "clf_CV = GridSearchCV(DecisionTreeClassifier(random_state = 42),\n",
    "                      tuned_parameters,\n",
    "                      scoring = 'f1_macro')\n",
    "\n",
    "clf_CV.fit(X_train, y_train)\n",
    "\n",
    "print(\"Best parameters:\")\n",
    "print()\n",
    "result = clf_CV.best_params_\n",
    "print(result)\n",
    "print()"
   ]
  },
  {
   "cell_type": "code",
   "execution_count": 15,
   "id": "af47c669",
   "metadata": {
    "execution": {
     "iopub.execute_input": "2022-12-03T12:30:20.580395Z",
     "iopub.status.busy": "2022-12-03T12:30:20.579238Z",
     "iopub.status.idle": "2022-12-03T12:30:20.584814Z",
     "shell.execute_reply": "2022-12-03T12:30:20.583807Z"
    },
    "papermill": {
     "duration": 0.020913,
     "end_time": "2022-12-03T12:30:20.587710",
     "exception": false,
     "start_time": "2022-12-03T12:30:20.566797",
     "status": "completed"
    },
    "tags": []
   },
   "outputs": [],
   "source": [
    "tuned_clf = DecisionTreeClassifier(max_depth = result['max_depth'], \n",
    "                                   min_samples_split = result['min_samples_split'], random_state = 42)"
   ]
  },
  {
   "cell_type": "code",
   "execution_count": 16,
   "id": "5ce120a1",
   "metadata": {
    "execution": {
     "iopub.execute_input": "2022-12-03T12:30:20.611394Z",
     "iopub.status.busy": "2022-12-03T12:30:20.610956Z",
     "iopub.status.idle": "2022-12-03T12:30:20.681460Z",
     "shell.execute_reply": "2022-12-03T12:30:20.680061Z"
    },
    "papermill": {
     "duration": 0.086113,
     "end_time": "2022-12-03T12:30:20.684105",
     "exception": false,
     "start_time": "2022-12-03T12:30:20.597992",
     "status": "completed"
    },
    "tags": []
   },
   "outputs": [
    {
     "data": {
      "text/plain": [
       "DecisionTreeClassifier(max_depth=8, min_samples_split=10, random_state=42)"
      ]
     },
     "execution_count": 16,
     "metadata": {},
     "output_type": "execute_result"
    }
   ],
   "source": [
    "tuned_clf.fit(X_train, y_train)"
   ]
  },
  {
   "cell_type": "markdown",
   "id": "c2804fdc",
   "metadata": {
    "papermill": {
     "duration": 0.008406,
     "end_time": "2022-12-03T12:30:20.701366",
     "exception": false,
     "start_time": "2022-12-03T12:30:20.692960",
     "status": "completed"
    },
    "tags": []
   },
   "source": [
    "### On test data"
   ]
  },
  {
   "cell_type": "code",
   "execution_count": 17,
   "id": "6010beb4",
   "metadata": {
    "execution": {
     "iopub.execute_input": "2022-12-03T12:30:20.722199Z",
     "iopub.status.busy": "2022-12-03T12:30:20.721755Z",
     "iopub.status.idle": "2022-12-03T12:30:20.932272Z",
     "shell.execute_reply": "2022-12-03T12:30:20.930932Z"
    },
    "papermill": {
     "duration": 0.225886,
     "end_time": "2022-12-03T12:30:20.936373",
     "exception": false,
     "start_time": "2022-12-03T12:30:20.710487",
     "status": "completed"
    },
    "tags": []
   },
   "outputs": [
    {
     "name": "stdout",
     "output_type": "stream",
     "text": [
      "(5305, 30)\n"
     ]
    },
    {
     "data": {
      "text/html": [
       "<div>\n",
       "<style scoped>\n",
       "    .dataframe tbody tr th:only-of-type {\n",
       "        vertical-align: middle;\n",
       "    }\n",
       "\n",
       "    .dataframe tbody tr th {\n",
       "        vertical-align: top;\n",
       "    }\n",
       "\n",
       "    .dataframe thead th {\n",
       "        text-align: right;\n",
       "    }\n",
       "</style>\n",
       "<table border=\"1\" class=\"dataframe\">\n",
       "  <thead>\n",
       "    <tr style=\"text-align: right;\">\n",
       "      <th></th>\n",
       "      <th>offer expiration</th>\n",
       "      <th>income_range</th>\n",
       "      <th>no_visited_Cold drinks</th>\n",
       "      <th>travelled_more_than_15mins_for_offer</th>\n",
       "      <th>Restaur_spend_less_than20</th>\n",
       "      <th>Marital Status</th>\n",
       "      <th>restaurant type</th>\n",
       "      <th>age</th>\n",
       "      <th>Prefer western over chinese</th>\n",
       "      <th>travelled_more_than_25mins_for_offer</th>\n",
       "      <th>...</th>\n",
       "      <th>Job/Job Industry</th>\n",
       "      <th>restuarant_opposite_direction_house</th>\n",
       "      <th>has Children</th>\n",
       "      <th>visit restaurant with rating (avg)</th>\n",
       "      <th>temperature</th>\n",
       "      <th>Restaur_spend_greater_than20</th>\n",
       "      <th>Travel Time</th>\n",
       "      <th>Climate</th>\n",
       "      <th>drop location</th>\n",
       "      <th>Prefer home food</th>\n",
       "    </tr>\n",
       "  </thead>\n",
       "  <tbody>\n",
       "    <tr>\n",
       "      <th>0</th>\n",
       "      <td>1.0</td>\n",
       "      <td>4.0</td>\n",
       "      <td>0.0</td>\n",
       "      <td>1.0</td>\n",
       "      <td>0.0</td>\n",
       "      <td>0.0</td>\n",
       "      <td>4.0</td>\n",
       "      <td>6.0</td>\n",
       "      <td>0.0</td>\n",
       "      <td>1.0</td>\n",
       "      <td>...</td>\n",
       "      <td>21.0</td>\n",
       "      <td>1.0</td>\n",
       "      <td>1.0</td>\n",
       "      <td>4.0</td>\n",
       "      <td>2.0</td>\n",
       "      <td>3.0</td>\n",
       "      <td>0.0</td>\n",
       "      <td>1.0</td>\n",
       "      <td>2.0</td>\n",
       "      <td>0.0</td>\n",
       "    </tr>\n",
       "    <tr>\n",
       "      <th>1</th>\n",
       "      <td>0.0</td>\n",
       "      <td>3.0</td>\n",
       "      <td>1.0</td>\n",
       "      <td>0.0</td>\n",
       "      <td>0.0</td>\n",
       "      <td>3.0</td>\n",
       "      <td>2.0</td>\n",
       "      <td>0.0</td>\n",
       "      <td>1.0</td>\n",
       "      <td>0.0</td>\n",
       "      <td>...</td>\n",
       "      <td>5.0</td>\n",
       "      <td>1.0</td>\n",
       "      <td>1.0</td>\n",
       "      <td>0.0</td>\n",
       "      <td>1.0</td>\n",
       "      <td>3.0</td>\n",
       "      <td>3.0</td>\n",
       "      <td>1.0</td>\n",
       "      <td>0.0</td>\n",
       "      <td>1.0</td>\n",
       "    </tr>\n",
       "    <tr>\n",
       "      <th>2</th>\n",
       "      <td>1.0</td>\n",
       "      <td>1.0</td>\n",
       "      <td>4.0</td>\n",
       "      <td>1.0</td>\n",
       "      <td>4.0</td>\n",
       "      <td>2.0</td>\n",
       "      <td>2.0</td>\n",
       "      <td>0.0</td>\n",
       "      <td>1.0</td>\n",
       "      <td>0.0</td>\n",
       "      <td>...</td>\n",
       "      <td>24.0</td>\n",
       "      <td>1.0</td>\n",
       "      <td>0.0</td>\n",
       "      <td>4.0</td>\n",
       "      <td>1.0</td>\n",
       "      <td>4.0</td>\n",
       "      <td>0.0</td>\n",
       "      <td>1.0</td>\n",
       "      <td>2.0</td>\n",
       "      <td>0.0</td>\n",
       "    </tr>\n",
       "    <tr>\n",
       "      <th>3</th>\n",
       "      <td>1.0</td>\n",
       "      <td>3.0</td>\n",
       "      <td>4.0</td>\n",
       "      <td>1.0</td>\n",
       "      <td>0.0</td>\n",
       "      <td>1.0</td>\n",
       "      <td>3.0</td>\n",
       "      <td>4.0</td>\n",
       "      <td>0.0</td>\n",
       "      <td>0.0</td>\n",
       "      <td>...</td>\n",
       "      <td>24.0</td>\n",
       "      <td>1.0</td>\n",
       "      <td>1.0</td>\n",
       "      <td>0.0</td>\n",
       "      <td>0.0</td>\n",
       "      <td>3.0</td>\n",
       "      <td>3.0</td>\n",
       "      <td>0.0</td>\n",
       "      <td>2.0</td>\n",
       "      <td>1.0</td>\n",
       "    </tr>\n",
       "    <tr>\n",
       "      <th>4</th>\n",
       "      <td>0.0</td>\n",
       "      <td>2.0</td>\n",
       "      <td>4.0</td>\n",
       "      <td>0.0</td>\n",
       "      <td>0.0</td>\n",
       "      <td>2.0</td>\n",
       "      <td>0.0</td>\n",
       "      <td>2.0</td>\n",
       "      <td>1.0</td>\n",
       "      <td>0.0</td>\n",
       "      <td>...</td>\n",
       "      <td>24.0</td>\n",
       "      <td>0.0</td>\n",
       "      <td>0.0</td>\n",
       "      <td>0.0</td>\n",
       "      <td>2.0</td>\n",
       "      <td>0.0</td>\n",
       "      <td>3.0</td>\n",
       "      <td>1.0</td>\n",
       "      <td>1.0</td>\n",
       "      <td>1.0</td>\n",
       "    </tr>\n",
       "  </tbody>\n",
       "</table>\n",
       "<p>5 rows × 30 columns</p>\n",
       "</div>"
      ],
      "text/plain": [
       "   offer expiration  income_range  no_visited_Cold drinks  \\\n",
       "0               1.0           4.0                     0.0   \n",
       "1               0.0           3.0                     1.0   \n",
       "2               1.0           1.0                     4.0   \n",
       "3               1.0           3.0                     4.0   \n",
       "4               0.0           2.0                     4.0   \n",
       "\n",
       "   travelled_more_than_15mins_for_offer  Restaur_spend_less_than20  \\\n",
       "0                                   1.0                        0.0   \n",
       "1                                   0.0                        0.0   \n",
       "2                                   1.0                        4.0   \n",
       "3                                   1.0                        0.0   \n",
       "4                                   0.0                        0.0   \n",
       "\n",
       "   Marital Status  restaurant type  age  Prefer western over chinese  \\\n",
       "0             0.0              4.0  6.0                          0.0   \n",
       "1             3.0              2.0  0.0                          1.0   \n",
       "2             2.0              2.0  0.0                          1.0   \n",
       "3             1.0              3.0  4.0                          0.0   \n",
       "4             2.0              0.0  2.0                          1.0   \n",
       "\n",
       "   travelled_more_than_25mins_for_offer  ...  Job/Job Industry  \\\n",
       "0                                   1.0  ...              21.0   \n",
       "1                                   0.0  ...               5.0   \n",
       "2                                   0.0  ...              24.0   \n",
       "3                                   0.0  ...              24.0   \n",
       "4                                   0.0  ...              24.0   \n",
       "\n",
       "   restuarant_opposite_direction_house  has Children  \\\n",
       "0                                  1.0           1.0   \n",
       "1                                  1.0           1.0   \n",
       "2                                  1.0           0.0   \n",
       "3                                  1.0           1.0   \n",
       "4                                  0.0           0.0   \n",
       "\n",
       "   visit restaurant with rating (avg)  temperature  \\\n",
       "0                                 4.0          2.0   \n",
       "1                                 0.0          1.0   \n",
       "2                                 4.0          1.0   \n",
       "3                                 0.0          0.0   \n",
       "4                                 0.0          2.0   \n",
       "\n",
       "   Restaur_spend_greater_than20  Travel Time  Climate  drop location  \\\n",
       "0                           3.0          0.0      1.0            2.0   \n",
       "1                           3.0          3.0      1.0            0.0   \n",
       "2                           4.0          0.0      1.0            2.0   \n",
       "3                           3.0          3.0      0.0            2.0   \n",
       "4                           0.0          3.0      1.0            1.0   \n",
       "\n",
       "   Prefer home food  \n",
       "0               0.0  \n",
       "1               1.0  \n",
       "2               0.0  \n",
       "3               1.0  \n",
       "4               1.0  \n",
       "\n",
       "[5 rows x 30 columns]"
      ]
     },
     "execution_count": 17,
     "metadata": {},
     "output_type": "execute_result"
    }
   ],
   "source": [
    "df_public_test = pd.read_csv(\"../input/marketing-strategy-personalised-offer/test_data.csv\")\n",
    "\n",
    "X_test_public = pipe.fit_transform(df_public_test)\n",
    "\n",
    "X_test_public = pd.DataFrame(X_test_public, columns = names)\n",
    "print(X_test_public.shape)\n",
    "X_test_public.head()"
   ]
  },
  {
   "cell_type": "code",
   "execution_count": 18,
   "id": "13f4846b",
   "metadata": {
    "execution": {
     "iopub.execute_input": "2022-12-03T12:30:20.959822Z",
     "iopub.status.busy": "2022-12-03T12:30:20.959403Z",
     "iopub.status.idle": "2022-12-03T12:30:20.971801Z",
     "shell.execute_reply": "2022-12-03T12:30:20.970364Z"
    },
    "papermill": {
     "duration": 0.027899,
     "end_time": "2022-12-03T12:30:20.975032",
     "exception": false,
     "start_time": "2022-12-03T12:30:20.947133",
     "status": "completed"
    },
    "tags": []
   },
   "outputs": [
    {
     "name": "stdout",
     "output_type": "stream",
     "text": [
      "[0 1]\n",
      "(5305,)\n"
     ]
    }
   ],
   "source": [
    "y_pred_public = tuned_clf.predict(X_test_public)\n",
    "print(np.unique(y_pred_public))\n",
    "print(y_pred_public.shape)"
   ]
  },
  {
   "cell_type": "markdown",
   "id": "745a4aa6",
   "metadata": {
    "papermill": {
     "duration": 0.01038,
     "end_time": "2022-12-03T12:30:20.995656",
     "exception": false,
     "start_time": "2022-12-03T12:30:20.985276",
     "status": "completed"
    },
    "tags": []
   },
   "source": [
    "### Output"
   ]
  },
  {
   "cell_type": "code",
   "execution_count": 19,
   "id": "8754204e",
   "metadata": {
    "execution": {
     "iopub.execute_input": "2022-12-03T12:30:21.018784Z",
     "iopub.status.busy": "2022-12-03T12:30:21.018361Z",
     "iopub.status.idle": "2022-12-03T12:30:21.032504Z",
     "shell.execute_reply": "2022-12-03T12:30:21.030810Z"
    },
    "papermill": {
     "duration": 0.028876,
     "end_time": "2022-12-03T12:30:21.035626",
     "exception": false,
     "start_time": "2022-12-03T12:30:21.006750",
     "status": "completed"
    },
    "tags": []
   },
   "outputs": [],
   "source": [
    "sub = pd.DataFrame(y_pred_public, columns = [\"Offer Accepted\"])\n",
    "sub.insert(0, 'id', range(0, len(sub)))\n",
    "sub['Offer Accepted'].replace(1, \"Yes\", inplace = True)\n",
    "sub['Offer Accepted'].replace(0, \"No\", inplace = True)"
   ]
  },
  {
   "cell_type": "code",
   "execution_count": 20,
   "id": "67523292",
   "metadata": {
    "execution": {
     "iopub.execute_input": "2022-12-03T12:30:21.058532Z",
     "iopub.status.busy": "2022-12-03T12:30:21.058080Z",
     "iopub.status.idle": "2022-12-03T12:30:21.067400Z",
     "shell.execute_reply": "2022-12-03T12:30:21.065831Z"
    },
    "papermill": {
     "duration": 0.024838,
     "end_time": "2022-12-03T12:30:21.070710",
     "exception": false,
     "start_time": "2022-12-03T12:30:21.045872",
     "status": "completed"
    },
    "tags": []
   },
   "outputs": [
    {
     "data": {
      "text/plain": [
       "Index(['id', 'Offer Accepted'], dtype='object')"
      ]
     },
     "execution_count": 20,
     "metadata": {},
     "output_type": "execute_result"
    }
   ],
   "source": [
    "sub.columns"
   ]
  },
  {
   "cell_type": "code",
   "execution_count": 21,
   "id": "532042f7",
   "metadata": {
    "execution": {
     "iopub.execute_input": "2022-12-03T12:30:21.095719Z",
     "iopub.status.busy": "2022-12-03T12:30:21.094577Z",
     "iopub.status.idle": "2022-12-03T12:30:21.166822Z",
     "shell.execute_reply": "2022-12-03T12:30:21.165096Z"
    },
    "papermill": {
     "duration": 0.089419,
     "end_time": "2022-12-03T12:30:21.170211",
     "exception": false,
     "start_time": "2022-12-03T12:30:21.080792",
     "status": "completed"
    },
    "tags": []
   },
   "outputs": [],
   "source": [
    "sub.to_csv('/kaggle/working/submission.csv', index = False)"
   ]
  }
 ],
 "metadata": {
  "kernelspec": {
   "display_name": "Python 3",
   "language": "python",
   "name": "python3"
  },
  "language_info": {
   "codemirror_mode": {
    "name": "ipython",
    "version": 3
   },
   "file_extension": ".py",
   "mimetype": "text/x-python",
   "name": "python",
   "nbconvert_exporter": "python",
   "pygments_lexer": "ipython3",
   "version": "3.7.12"
  },
  "papermill": {
   "default_parameters": {},
   "duration": 24.436607,
   "end_time": "2022-12-03T12:30:22.205680",
   "environment_variables": {},
   "exception": null,
   "input_path": "__notebook__.ipynb",
   "output_path": "__notebook__.ipynb",
   "parameters": {},
   "start_time": "2022-12-03T12:29:57.769073",
   "version": "2.3.4"
  }
 },
 "nbformat": 4,
 "nbformat_minor": 5
}
