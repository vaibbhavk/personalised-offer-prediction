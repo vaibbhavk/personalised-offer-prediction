{
 "cells": [
  {
   "cell_type": "code",
   "execution_count": 1,
   "id": "f435340f",
   "metadata": {
    "_cell_guid": "b1076dfc-b9ad-4769-8c92-a6c4dae69d19",
    "_uuid": "8f2839f25d086af736a60e9eeb907d3b93b6e0e5",
    "execution": {
     "iopub.execute_input": "2022-12-03T06:43:45.522199Z",
     "iopub.status.busy": "2022-12-03T06:43:45.521743Z",
     "iopub.status.idle": "2022-12-03T06:43:45.534671Z",
     "shell.execute_reply": "2022-12-03T06:43:45.533906Z"
    },
    "papermill": {
     "duration": 0.026343,
     "end_time": "2022-12-03T06:43:45.537419",
     "exception": false,
     "start_time": "2022-12-03T06:43:45.511076",
     "status": "completed"
    },
    "tags": []
   },
   "outputs": [
    {
     "name": "stdout",
     "output_type": "stream",
     "text": [
      "/kaggle/input/marketing-strategy-personalised-offer/sample.csv\n",
      "/kaggle/input/marketing-strategy-personalised-offer/train_data.csv\n",
      "/kaggle/input/marketing-strategy-personalised-offer/test_data.csv\n"
     ]
    }
   ],
   "source": [
    "# This Python 3 environment comes with many helpful analytics libraries installed\n",
    "# It is defined by the kaggle/python Docker image: https://github.com/kaggle/docker-python\n",
    "# For example, here's several helpful packages to load\n",
    "\n",
    "import numpy as np # linear algebra\n",
    "import pandas as pd # data processing, CSV file I/O (e.g. pd.read_csv)\n",
    "\n",
    "# Input data files are available in the read-only \"../input/\" directory\n",
    "# For example, running this (by clicking run or pressing Shift+Enter) will list all files under the input directory\n",
    "\n",
    "import os\n",
    "for dirname, _, filenames in os.walk('/kaggle/input'):\n",
    "    for filename in filenames:\n",
    "        print(os.path.join(dirname, filename))\n",
    "\n",
    "# You can write up to 20GB to the current directory (/kaggle/working/) that gets preserved as output when you create a version using \"Save & Run All\" \n",
    "# You can also write temporary files to /kaggle/temp/, but they won't be saved outside of the current session"
   ]
  },
  {
   "cell_type": "code",
   "execution_count": 2,
   "id": "a2f71699",
   "metadata": {
    "execution": {
     "iopub.execute_input": "2022-12-03T06:43:45.557422Z",
     "iopub.status.busy": "2022-12-03T06:43:45.556217Z",
     "iopub.status.idle": "2022-12-03T06:43:47.001881Z",
     "shell.execute_reply": "2022-12-03T06:43:47.000650Z"
    },
    "papermill": {
     "duration": 1.458029,
     "end_time": "2022-12-03T06:43:47.004701",
     "exception": false,
     "start_time": "2022-12-03T06:43:45.546672",
     "status": "completed"
    },
    "tags": []
   },
   "outputs": [],
   "source": [
    "# common imports\n",
    "import numpy as np\n",
    "import pandas as pd\n",
    "import os\n",
    "import io\n",
    "import warnings\n",
    "\n",
    "# sklearn specific imports\n",
    "from sklearn.datasets import fetch_openml\n",
    "from sklearn.preprocessing import MinMaxScaler\n",
    "from sklearn.preprocessing import OrdinalEncoder\n",
    "from sklearn.impute import SimpleImputer\n",
    "from sklearn.pipeline import Pipeline, make_pipeline\n",
    "from sklearn.dummy import DummyClassifier\n",
    "from sklearn.preprocessing import LabelEncoder\n",
    "from sklearn.linear_model import Perceptron\n",
    "from sklearn.neighbors import KNeighborsClassifier\n",
    "from sklearn.decomposition import PCA\n",
    "from sklearn.metrics import hinge_loss\n",
    "from sklearn.metrics import f1_score\n",
    "from sklearn.metrics import ConfusionMatrixDisplay, confusion_matrix, precision_recall_curve\n",
    "from sklearn.metrics import precision_score, recall_score, classification_report\n",
    "from sklearn.metrics import make_scorer\n",
    "from sklearn.model_selection import cross_validate, cross_val_predict, GridSearchCV, train_test_split\n",
    "from pprint import pprint\n",
    "\n",
    "import matplotlib.pyplot as plt\n",
    "import seaborn as sns"
   ]
  },
  {
   "cell_type": "markdown",
   "id": "e8b51225",
   "metadata": {
    "papermill": {
     "duration": 0.0074,
     "end_time": "2022-12-03T06:43:47.020050",
     "exception": false,
     "start_time": "2022-12-03T06:43:47.012650",
     "status": "completed"
    },
    "tags": []
   },
   "source": [
    "### Data loading"
   ]
  },
  {
   "cell_type": "code",
   "execution_count": 3,
   "id": "80573508",
   "metadata": {
    "execution": {
     "iopub.execute_input": "2022-12-03T06:43:47.037651Z",
     "iopub.status.busy": "2022-12-03T06:43:47.036551Z",
     "iopub.status.idle": "2022-12-03T06:43:47.185605Z",
     "shell.execute_reply": "2022-12-03T06:43:47.184462Z"
    },
    "papermill": {
     "duration": 0.160213,
     "end_time": "2022-12-03T06:43:47.187990",
     "exception": false,
     "start_time": "2022-12-03T06:43:47.027777",
     "status": "completed"
    },
    "tags": []
   },
   "outputs": [
    {
     "data": {
      "text/html": [
       "<div>\n",
       "<style scoped>\n",
       "    .dataframe tbody tr th:only-of-type {\n",
       "        vertical-align: middle;\n",
       "    }\n",
       "\n",
       "    .dataframe tbody tr th {\n",
       "        vertical-align: top;\n",
       "    }\n",
       "\n",
       "    .dataframe thead th {\n",
       "        text-align: right;\n",
       "    }\n",
       "</style>\n",
       "<table border=\"1\" class=\"dataframe\">\n",
       "  <thead>\n",
       "    <tr style=\"text-align: right;\">\n",
       "      <th></th>\n",
       "      <th>offer expiration</th>\n",
       "      <th>income_range</th>\n",
       "      <th>no_visited_Cold drinks</th>\n",
       "      <th>travelled_more_than_15mins_for_offer</th>\n",
       "      <th>Restaur_spend_less_than20</th>\n",
       "      <th>Marital Status</th>\n",
       "      <th>restaurant type</th>\n",
       "      <th>age</th>\n",
       "      <th>Prefer western over chinese</th>\n",
       "      <th>travelled_more_than_25mins_for_offer</th>\n",
       "      <th>...</th>\n",
       "      <th>restuarant_opposite_direction_house</th>\n",
       "      <th>has Children</th>\n",
       "      <th>visit restaurant with rating (avg)</th>\n",
       "      <th>temperature</th>\n",
       "      <th>Restaur_spend_greater_than20</th>\n",
       "      <th>Travel Time</th>\n",
       "      <th>Climate</th>\n",
       "      <th>drop location</th>\n",
       "      <th>Prefer home food</th>\n",
       "      <th>Offer Accepted</th>\n",
       "    </tr>\n",
       "  </thead>\n",
       "  <tbody>\n",
       "    <tr>\n",
       "      <th>0</th>\n",
       "      <td>2days</td>\n",
       "      <td>₹100000 or More</td>\n",
       "      <td>4~8</td>\n",
       "      <td>1</td>\n",
       "      <td>less1</td>\n",
       "      <td>Married partner</td>\n",
       "      <td>4 star restaurant</td>\n",
       "      <td>36</td>\n",
       "      <td>0</td>\n",
       "      <td>0</td>\n",
       "      <td>...</td>\n",
       "      <td>0</td>\n",
       "      <td>0</td>\n",
       "      <td>4</td>\n",
       "      <td>67</td>\n",
       "      <td>less1</td>\n",
       "      <td>22</td>\n",
       "      <td>Spring</td>\n",
       "      <td>Location B</td>\n",
       "      <td>0</td>\n",
       "      <td>No</td>\n",
       "    </tr>\n",
       "    <tr>\n",
       "      <th>1</th>\n",
       "      <td>2days</td>\n",
       "      <td>₹87500 - ₹99999</td>\n",
       "      <td>4~8</td>\n",
       "      <td>0</td>\n",
       "      <td>4~8</td>\n",
       "      <td>Married partner</td>\n",
       "      <td>Take-away restaurant</td>\n",
       "      <td>50plus</td>\n",
       "      <td>0</td>\n",
       "      <td>0</td>\n",
       "      <td>...</td>\n",
       "      <td>0</td>\n",
       "      <td>1</td>\n",
       "      <td>3</td>\n",
       "      <td>89</td>\n",
       "      <td>1~3</td>\n",
       "      <td>18</td>\n",
       "      <td>Summer</td>\n",
       "      <td>Location B</td>\n",
       "      <td>0</td>\n",
       "      <td>Yes</td>\n",
       "    </tr>\n",
       "    <tr>\n",
       "      <th>2</th>\n",
       "      <td>2days</td>\n",
       "      <td>₹87500 - ₹99999</td>\n",
       "      <td>less1</td>\n",
       "      <td>1</td>\n",
       "      <td>1~3</td>\n",
       "      <td>Single</td>\n",
       "      <td>Cold drinks</td>\n",
       "      <td>26</td>\n",
       "      <td>1</td>\n",
       "      <td>0</td>\n",
       "      <td>...</td>\n",
       "      <td>1</td>\n",
       "      <td>1</td>\n",
       "      <td>4</td>\n",
       "      <td>67</td>\n",
       "      <td>less1</td>\n",
       "      <td>7</td>\n",
       "      <td>Winter</td>\n",
       "      <td>Location A</td>\n",
       "      <td>1</td>\n",
       "      <td>Yes</td>\n",
       "    </tr>\n",
       "    <tr>\n",
       "      <th>3</th>\n",
       "      <td>10hours</td>\n",
       "      <td>₹37500 - ₹49999</td>\n",
       "      <td>less1</td>\n",
       "      <td>0</td>\n",
       "      <td>1~3</td>\n",
       "      <td>Single</td>\n",
       "      <td>Take-away restaurant</td>\n",
       "      <td>46</td>\n",
       "      <td>1</td>\n",
       "      <td>0</td>\n",
       "      <td>...</td>\n",
       "      <td>0</td>\n",
       "      <td>1</td>\n",
       "      <td>3</td>\n",
       "      <td>89</td>\n",
       "      <td>1~3</td>\n",
       "      <td>7</td>\n",
       "      <td>Summer</td>\n",
       "      <td>Location C</td>\n",
       "      <td>0</td>\n",
       "      <td>No</td>\n",
       "    </tr>\n",
       "    <tr>\n",
       "      <th>4</th>\n",
       "      <td>2days</td>\n",
       "      <td>₹100000 or More</td>\n",
       "      <td>never</td>\n",
       "      <td>1</td>\n",
       "      <td>1~3</td>\n",
       "      <td>Single</td>\n",
       "      <td>4 star restaurant</td>\n",
       "      <td>21</td>\n",
       "      <td>0</td>\n",
       "      <td>1</td>\n",
       "      <td>...</td>\n",
       "      <td>1</td>\n",
       "      <td>0</td>\n",
       "      <td>3</td>\n",
       "      <td>40</td>\n",
       "      <td>less1</td>\n",
       "      <td>7</td>\n",
       "      <td>Summer</td>\n",
       "      <td>Location C</td>\n",
       "      <td>0</td>\n",
       "      <td>No</td>\n",
       "    </tr>\n",
       "  </tbody>\n",
       "</table>\n",
       "<p>5 rows × 31 columns</p>\n",
       "</div>"
      ],
      "text/plain": [
       "  offer expiration     income_range no_visited_Cold drinks  \\\n",
       "0            2days  ₹100000 or More                    4~8   \n",
       "1            2days  ₹87500 - ₹99999                    4~8   \n",
       "2            2days  ₹87500 - ₹99999                  less1   \n",
       "3          10hours  ₹37500 - ₹49999                  less1   \n",
       "4            2days  ₹100000 or More                  never   \n",
       "\n",
       "   travelled_more_than_15mins_for_offer Restaur_spend_less_than20  \\\n",
       "0                                     1                     less1   \n",
       "1                                     0                       4~8   \n",
       "2                                     1                       1~3   \n",
       "3                                     0                       1~3   \n",
       "4                                     1                       1~3   \n",
       "\n",
       "    Marital Status       restaurant type     age  Prefer western over chinese  \\\n",
       "0  Married partner     4 star restaurant      36                            0   \n",
       "1  Married partner  Take-away restaurant  50plus                            0   \n",
       "2           Single           Cold drinks      26                            1   \n",
       "3           Single  Take-away restaurant      46                            1   \n",
       "4           Single     4 star restaurant      21                            0   \n",
       "\n",
       "   travelled_more_than_25mins_for_offer  ...  \\\n",
       "0                                     0  ...   \n",
       "1                                     0  ...   \n",
       "2                                     0  ...   \n",
       "3                                     0  ...   \n",
       "4                                     1  ...   \n",
       "\n",
       "   restuarant_opposite_direction_house has Children  \\\n",
       "0                                    0            0   \n",
       "1                                    0            1   \n",
       "2                                    1            1   \n",
       "3                                    0            1   \n",
       "4                                    1            0   \n",
       "\n",
       "  visit restaurant with rating (avg) temperature  \\\n",
       "0                                  4          67   \n",
       "1                                  3          89   \n",
       "2                                  4          67   \n",
       "3                                  3          89   \n",
       "4                                  3          40   \n",
       "\n",
       "   Restaur_spend_greater_than20  Travel Time Climate drop location  \\\n",
       "0                         less1           22  Spring    Location B   \n",
       "1                           1~3           18  Summer    Location B   \n",
       "2                         less1            7  Winter    Location A   \n",
       "3                           1~3            7  Summer    Location C   \n",
       "4                         less1            7  Summer    Location C   \n",
       "\n",
       "   Prefer home food Offer Accepted  \n",
       "0                 0             No  \n",
       "1                 0            Yes  \n",
       "2                 1            Yes  \n",
       "3                 0             No  \n",
       "4                 0             No  \n",
       "\n",
       "[5 rows x 31 columns]"
      ]
     },
     "execution_count": 3,
     "metadata": {},
     "output_type": "execute_result"
    }
   ],
   "source": [
    "# df = pd.read_csv('../input/marketing-strategy-personalised-offer/sample.csv')\n",
    "\n",
    "df_train = pd.read_csv(\"../input/marketing-strategy-personalised-offer/train_data.csv\")\n",
    "df_train.head()"
   ]
  },
  {
   "cell_type": "code",
   "execution_count": 4,
   "id": "353937a3",
   "metadata": {
    "execution": {
     "iopub.execute_input": "2022-12-03T06:43:47.206497Z",
     "iopub.status.busy": "2022-12-03T06:43:47.205433Z",
     "iopub.status.idle": "2022-12-03T06:43:47.237711Z",
     "shell.execute_reply": "2022-12-03T06:43:47.236428Z"
    },
    "papermill": {
     "duration": 0.044508,
     "end_time": "2022-12-03T06:43:47.240608",
     "exception": false,
     "start_time": "2022-12-03T06:43:47.196100",
     "status": "completed"
    },
    "tags": []
   },
   "outputs": [
    {
     "data": {
      "text/html": [
       "<div>\n",
       "<style scoped>\n",
       "    .dataframe tbody tr th:only-of-type {\n",
       "        vertical-align: middle;\n",
       "    }\n",
       "\n",
       "    .dataframe tbody tr th {\n",
       "        vertical-align: top;\n",
       "    }\n",
       "\n",
       "    .dataframe thead th {\n",
       "        text-align: right;\n",
       "    }\n",
       "</style>\n",
       "<table border=\"1\" class=\"dataframe\">\n",
       "  <thead>\n",
       "    <tr style=\"text-align: right;\">\n",
       "      <th></th>\n",
       "      <th>offer expiration</th>\n",
       "      <th>income_range</th>\n",
       "      <th>no_visited_Cold drinks</th>\n",
       "      <th>travelled_more_than_15mins_for_offer</th>\n",
       "      <th>Restaur_spend_less_than20</th>\n",
       "      <th>Marital Status</th>\n",
       "      <th>restaurant type</th>\n",
       "      <th>age</th>\n",
       "      <th>Prefer western over chinese</th>\n",
       "      <th>travelled_more_than_25mins_for_offer</th>\n",
       "      <th>...</th>\n",
       "      <th>Job/Job Industry</th>\n",
       "      <th>restuarant_opposite_direction_house</th>\n",
       "      <th>has Children</th>\n",
       "      <th>visit restaurant with rating (avg)</th>\n",
       "      <th>temperature</th>\n",
       "      <th>Restaur_spend_greater_than20</th>\n",
       "      <th>Travel Time</th>\n",
       "      <th>Climate</th>\n",
       "      <th>drop location</th>\n",
       "      <th>Prefer home food</th>\n",
       "    </tr>\n",
       "  </thead>\n",
       "  <tbody>\n",
       "    <tr>\n",
       "      <th>0</th>\n",
       "      <td>2days</td>\n",
       "      <td>₹100000 or More</td>\n",
       "      <td>4~8</td>\n",
       "      <td>1</td>\n",
       "      <td>less1</td>\n",
       "      <td>Married partner</td>\n",
       "      <td>4 star restaurant</td>\n",
       "      <td>36</td>\n",
       "      <td>0</td>\n",
       "      <td>0</td>\n",
       "      <td>...</td>\n",
       "      <td>Unemployed</td>\n",
       "      <td>0</td>\n",
       "      <td>0</td>\n",
       "      <td>4</td>\n",
       "      <td>67</td>\n",
       "      <td>less1</td>\n",
       "      <td>22</td>\n",
       "      <td>Spring</td>\n",
       "      <td>Location B</td>\n",
       "      <td>0</td>\n",
       "    </tr>\n",
       "    <tr>\n",
       "      <th>1</th>\n",
       "      <td>2days</td>\n",
       "      <td>₹87500 - ₹99999</td>\n",
       "      <td>4~8</td>\n",
       "      <td>0</td>\n",
       "      <td>4~8</td>\n",
       "      <td>Married partner</td>\n",
       "      <td>Take-away restaurant</td>\n",
       "      <td>50plus</td>\n",
       "      <td>0</td>\n",
       "      <td>0</td>\n",
       "      <td>...</td>\n",
       "      <td>Unemployed</td>\n",
       "      <td>0</td>\n",
       "      <td>1</td>\n",
       "      <td>3</td>\n",
       "      <td>89</td>\n",
       "      <td>1~3</td>\n",
       "      <td>18</td>\n",
       "      <td>Summer</td>\n",
       "      <td>Location B</td>\n",
       "      <td>0</td>\n",
       "    </tr>\n",
       "    <tr>\n",
       "      <th>2</th>\n",
       "      <td>2days</td>\n",
       "      <td>₹87500 - ₹99999</td>\n",
       "      <td>less1</td>\n",
       "      <td>1</td>\n",
       "      <td>1~3</td>\n",
       "      <td>Single</td>\n",
       "      <td>Cold drinks</td>\n",
       "      <td>26</td>\n",
       "      <td>1</td>\n",
       "      <td>0</td>\n",
       "      <td>...</td>\n",
       "      <td>Arts Design Entertainment Sports &amp; Media</td>\n",
       "      <td>1</td>\n",
       "      <td>1</td>\n",
       "      <td>4</td>\n",
       "      <td>67</td>\n",
       "      <td>less1</td>\n",
       "      <td>7</td>\n",
       "      <td>Winter</td>\n",
       "      <td>Location A</td>\n",
       "      <td>1</td>\n",
       "    </tr>\n",
       "    <tr>\n",
       "      <th>3</th>\n",
       "      <td>10hours</td>\n",
       "      <td>₹37500 - ₹49999</td>\n",
       "      <td>less1</td>\n",
       "      <td>0</td>\n",
       "      <td>1~3</td>\n",
       "      <td>Single</td>\n",
       "      <td>Take-away restaurant</td>\n",
       "      <td>46</td>\n",
       "      <td>1</td>\n",
       "      <td>0</td>\n",
       "      <td>...</td>\n",
       "      <td>Sales &amp; Related</td>\n",
       "      <td>0</td>\n",
       "      <td>1</td>\n",
       "      <td>3</td>\n",
       "      <td>89</td>\n",
       "      <td>1~3</td>\n",
       "      <td>7</td>\n",
       "      <td>Summer</td>\n",
       "      <td>Location C</td>\n",
       "      <td>0</td>\n",
       "    </tr>\n",
       "    <tr>\n",
       "      <th>4</th>\n",
       "      <td>2days</td>\n",
       "      <td>₹100000 or More</td>\n",
       "      <td>never</td>\n",
       "      <td>1</td>\n",
       "      <td>1~3</td>\n",
       "      <td>Single</td>\n",
       "      <td>4 star restaurant</td>\n",
       "      <td>21</td>\n",
       "      <td>0</td>\n",
       "      <td>1</td>\n",
       "      <td>...</td>\n",
       "      <td>Sales &amp; Related</td>\n",
       "      <td>1</td>\n",
       "      <td>0</td>\n",
       "      <td>3</td>\n",
       "      <td>40</td>\n",
       "      <td>less1</td>\n",
       "      <td>7</td>\n",
       "      <td>Summer</td>\n",
       "      <td>Location C</td>\n",
       "      <td>0</td>\n",
       "    </tr>\n",
       "  </tbody>\n",
       "</table>\n",
       "<p>5 rows × 30 columns</p>\n",
       "</div>"
      ],
      "text/plain": [
       "  offer expiration     income_range no_visited_Cold drinks  \\\n",
       "0            2days  ₹100000 or More                    4~8   \n",
       "1            2days  ₹87500 - ₹99999                    4~8   \n",
       "2            2days  ₹87500 - ₹99999                  less1   \n",
       "3          10hours  ₹37500 - ₹49999                  less1   \n",
       "4            2days  ₹100000 or More                  never   \n",
       "\n",
       "   travelled_more_than_15mins_for_offer Restaur_spend_less_than20  \\\n",
       "0                                     1                     less1   \n",
       "1                                     0                       4~8   \n",
       "2                                     1                       1~3   \n",
       "3                                     0                       1~3   \n",
       "4                                     1                       1~3   \n",
       "\n",
       "    Marital Status       restaurant type     age  Prefer western over chinese  \\\n",
       "0  Married partner     4 star restaurant      36                            0   \n",
       "1  Married partner  Take-away restaurant  50plus                            0   \n",
       "2           Single           Cold drinks      26                            1   \n",
       "3           Single  Take-away restaurant      46                            1   \n",
       "4           Single     4 star restaurant      21                            0   \n",
       "\n",
       "   travelled_more_than_25mins_for_offer  ...  \\\n",
       "0                                     0  ...   \n",
       "1                                     0  ...   \n",
       "2                                     0  ...   \n",
       "3                                     0  ...   \n",
       "4                                     1  ...   \n",
       "\n",
       "                           Job/Job Industry  \\\n",
       "0                                Unemployed   \n",
       "1                                Unemployed   \n",
       "2  Arts Design Entertainment Sports & Media   \n",
       "3                           Sales & Related   \n",
       "4                           Sales & Related   \n",
       "\n",
       "  restuarant_opposite_direction_house has Children  \\\n",
       "0                                   0            0   \n",
       "1                                   0            1   \n",
       "2                                   1            1   \n",
       "3                                   0            1   \n",
       "4                                   1            0   \n",
       "\n",
       "  visit restaurant with rating (avg)  temperature  \\\n",
       "0                                  4           67   \n",
       "1                                  3           89   \n",
       "2                                  4           67   \n",
       "3                                  3           89   \n",
       "4                                  3           40   \n",
       "\n",
       "   Restaur_spend_greater_than20 Travel Time Climate  drop location  \\\n",
       "0                         less1          22  Spring     Location B   \n",
       "1                           1~3          18  Summer     Location B   \n",
       "2                         less1           7  Winter     Location A   \n",
       "3                           1~3           7  Summer     Location C   \n",
       "4                         less1           7  Summer     Location C   \n",
       "\n",
       "  Prefer home food  \n",
       "0                0  \n",
       "1                0  \n",
       "2                1  \n",
       "3                0  \n",
       "4                0  \n",
       "\n",
       "[5 rows x 30 columns]"
      ]
     },
     "execution_count": 4,
     "metadata": {},
     "output_type": "execute_result"
    }
   ],
   "source": [
    "X = df_train.drop(\"Offer Accepted\", axis = 1)\n",
    "X.head()"
   ]
  },
  {
   "cell_type": "code",
   "execution_count": 5,
   "id": "71fdd948",
   "metadata": {
    "execution": {
     "iopub.execute_input": "2022-12-03T06:43:47.261559Z",
     "iopub.status.busy": "2022-12-03T06:43:47.260614Z",
     "iopub.status.idle": "2022-12-03T06:43:47.270948Z",
     "shell.execute_reply": "2022-12-03T06:43:47.269808Z"
    },
    "papermill": {
     "duration": 0.022478,
     "end_time": "2022-12-03T06:43:47.273376",
     "exception": false,
     "start_time": "2022-12-03T06:43:47.250898",
     "status": "completed"
    },
    "tags": []
   },
   "outputs": [
    {
     "data": {
      "text/plain": [
       "0     No\n",
       "1    Yes\n",
       "2    Yes\n",
       "3     No\n",
       "4     No\n",
       "Name: Offer Accepted, dtype: object"
      ]
     },
     "execution_count": 5,
     "metadata": {},
     "output_type": "execute_result"
    }
   ],
   "source": [
    "y = df_train[\"Offer Accepted\"]\n",
    "y.head()"
   ]
  },
  {
   "cell_type": "code",
   "execution_count": 6,
   "id": "3216eb90",
   "metadata": {
    "execution": {
     "iopub.execute_input": "2022-12-03T06:43:47.292721Z",
     "iopub.status.busy": "2022-12-03T06:43:47.292062Z",
     "iopub.status.idle": "2022-12-03T06:43:47.298481Z",
     "shell.execute_reply": "2022-12-03T06:43:47.297574Z"
    },
    "papermill": {
     "duration": 0.018789,
     "end_time": "2022-12-03T06:43:47.300767",
     "exception": false,
     "start_time": "2022-12-03T06:43:47.281978",
     "status": "completed"
    },
    "tags": []
   },
   "outputs": [
    {
     "data": {
      "text/plain": [
       "((12379, 30), (12379,))"
      ]
     },
     "execution_count": 6,
     "metadata": {},
     "output_type": "execute_result"
    }
   ],
   "source": [
    "X.shape, y.shape"
   ]
  },
  {
   "cell_type": "code",
   "execution_count": 7,
   "id": "9e464b35",
   "metadata": {
    "execution": {
     "iopub.execute_input": "2022-12-03T06:43:47.320377Z",
     "iopub.status.busy": "2022-12-03T06:43:47.319798Z",
     "iopub.status.idle": "2022-12-03T06:43:47.338319Z",
     "shell.execute_reply": "2022-12-03T06:43:47.337205Z"
    },
    "papermill": {
     "duration": 0.031149,
     "end_time": "2022-12-03T06:43:47.340809",
     "exception": false,
     "start_time": "2022-12-03T06:43:47.309660",
     "status": "completed"
    },
    "tags": []
   },
   "outputs": [
    {
     "data": {
      "text/plain": [
       "offer expiration                            0\n",
       "income_range                                0\n",
       "no_visited_Cold drinks                    198\n",
       "travelled_more_than_15mins_for_offer        0\n",
       "Restaur_spend_less_than20                 121\n",
       "Marital Status                              0\n",
       "restaurant type                             0\n",
       "age                                         0\n",
       "Prefer western over chinese                 0\n",
       "travelled_more_than_25mins_for_offer        0\n",
       "travelled_more_than_5mins_for_offer         0\n",
       "no_visited_bars                            93\n",
       "gender                                      0\n",
       "car                                     12268\n",
       "restuarant_same_direction_house             0\n",
       "Cooks regularly                             0\n",
       "Customer type                               0\n",
       "Qualification                               0\n",
       "is foodie                                   0\n",
       "no_Take-aways                             144\n",
       "Job/Job Industry                            0\n",
       "restuarant_opposite_direction_house         0\n",
       "has Children                                0\n",
       "visit restaurant with rating (avg)          0\n",
       "temperature                                 0\n",
       "Restaur_spend_greater_than20              160\n",
       "Travel Time                                 0\n",
       "Climate                                     0\n",
       "drop location                               0\n",
       "Prefer home food                            0\n",
       "dtype: int64"
      ]
     },
     "execution_count": 7,
     "metadata": {},
     "output_type": "execute_result"
    }
   ],
   "source": [
    "X.isnull().sum()"
   ]
  },
  {
   "cell_type": "code",
   "execution_count": 8,
   "id": "03ce55bf",
   "metadata": {
    "execution": {
     "iopub.execute_input": "2022-12-03T06:43:47.360883Z",
     "iopub.status.busy": "2022-12-03T06:43:47.360147Z",
     "iopub.status.idle": "2022-12-03T06:43:47.367303Z",
     "shell.execute_reply": "2022-12-03T06:43:47.366173Z"
    },
    "papermill": {
     "duration": 0.019861,
     "end_time": "2022-12-03T06:43:47.369502",
     "exception": false,
     "start_time": "2022-12-03T06:43:47.349641",
     "status": "completed"
    },
    "tags": []
   },
   "outputs": [
    {
     "data": {
      "text/plain": [
       "30"
      ]
     },
     "execution_count": 8,
     "metadata": {},
     "output_type": "execute_result"
    }
   ],
   "source": [
    "names = list(X.columns)\n",
    "len(names)"
   ]
  },
  {
   "cell_type": "markdown",
   "id": "64a1e378",
   "metadata": {
    "papermill": {
     "duration": 0.008747,
     "end_time": "2022-12-03T06:43:47.387130",
     "exception": false,
     "start_time": "2022-12-03T06:43:47.378383",
     "status": "completed"
    },
    "tags": []
   },
   "source": [
    "### Data Preprocessing"
   ]
  },
  {
   "cell_type": "code",
   "execution_count": 9,
   "id": "df961443",
   "metadata": {
    "execution": {
     "iopub.execute_input": "2022-12-03T06:43:47.407366Z",
     "iopub.status.busy": "2022-12-03T06:43:47.406728Z",
     "iopub.status.idle": "2022-12-03T06:43:47.417218Z",
     "shell.execute_reply": "2022-12-03T06:43:47.416360Z"
    },
    "papermill": {
     "duration": 0.023055,
     "end_time": "2022-12-03T06:43:47.419332",
     "exception": false,
     "start_time": "2022-12-03T06:43:47.396277",
     "status": "completed"
    },
    "tags": []
   },
   "outputs": [
    {
     "data": {
      "text/plain": [
       "Pipeline(steps=[('imputer', SimpleImputer(strategy='most_frequent')),\n",
       "                ('encoder', OrdinalEncoder())])"
      ]
     },
     "execution_count": 9,
     "metadata": {},
     "output_type": "execute_result"
    }
   ],
   "source": [
    "pipe = Pipeline([\n",
    "    ('imputer', SimpleImputer(strategy = \"most_frequent\")),\n",
    "    ('encoder', OrdinalEncoder())\n",
    "])\n",
    "pipe"
   ]
  },
  {
   "cell_type": "code",
   "execution_count": 10,
   "id": "12020605",
   "metadata": {
    "execution": {
     "iopub.execute_input": "2022-12-03T06:43:47.439609Z",
     "iopub.status.busy": "2022-12-03T06:43:47.438977Z",
     "iopub.status.idle": "2022-12-03T06:43:47.669000Z",
     "shell.execute_reply": "2022-12-03T06:43:47.667715Z"
    },
    "papermill": {
     "duration": 0.242928,
     "end_time": "2022-12-03T06:43:47.671296",
     "exception": false,
     "start_time": "2022-12-03T06:43:47.428368",
     "status": "completed"
    },
    "tags": []
   },
   "outputs": [
    {
     "data": {
      "text/html": [
       "<div>\n",
       "<style scoped>\n",
       "    .dataframe tbody tr th:only-of-type {\n",
       "        vertical-align: middle;\n",
       "    }\n",
       "\n",
       "    .dataframe tbody tr th {\n",
       "        vertical-align: top;\n",
       "    }\n",
       "\n",
       "    .dataframe thead th {\n",
       "        text-align: right;\n",
       "    }\n",
       "</style>\n",
       "<table border=\"1\" class=\"dataframe\">\n",
       "  <thead>\n",
       "    <tr style=\"text-align: right;\">\n",
       "      <th></th>\n",
       "      <th>offer expiration</th>\n",
       "      <th>income_range</th>\n",
       "      <th>no_visited_Cold drinks</th>\n",
       "      <th>travelled_more_than_15mins_for_offer</th>\n",
       "      <th>Restaur_spend_less_than20</th>\n",
       "      <th>Marital Status</th>\n",
       "      <th>restaurant type</th>\n",
       "      <th>age</th>\n",
       "      <th>Prefer western over chinese</th>\n",
       "      <th>travelled_more_than_25mins_for_offer</th>\n",
       "      <th>...</th>\n",
       "      <th>Job/Job Industry</th>\n",
       "      <th>restuarant_opposite_direction_house</th>\n",
       "      <th>has Children</th>\n",
       "      <th>visit restaurant with rating (avg)</th>\n",
       "      <th>temperature</th>\n",
       "      <th>Restaur_spend_greater_than20</th>\n",
       "      <th>Travel Time</th>\n",
       "      <th>Climate</th>\n",
       "      <th>drop location</th>\n",
       "      <th>Prefer home food</th>\n",
       "    </tr>\n",
       "  </thead>\n",
       "  <tbody>\n",
       "    <tr>\n",
       "      <th>0</th>\n",
       "      <td>1.0</td>\n",
       "      <td>1.0</td>\n",
       "      <td>1.0</td>\n",
       "      <td>1.0</td>\n",
       "      <td>3.0</td>\n",
       "      <td>1.0</td>\n",
       "      <td>1.0</td>\n",
       "      <td>3.0</td>\n",
       "      <td>0.0</td>\n",
       "      <td>0.0</td>\n",
       "      <td>...</td>\n",
       "      <td>24.0</td>\n",
       "      <td>0.0</td>\n",
       "      <td>0.0</td>\n",
       "      <td>4.0</td>\n",
       "      <td>1.0</td>\n",
       "      <td>3.0</td>\n",
       "      <td>4.0</td>\n",
       "      <td>0.0</td>\n",
       "      <td>1.0</td>\n",
       "      <td>0.0</td>\n",
       "    </tr>\n",
       "    <tr>\n",
       "      <th>1</th>\n",
       "      <td>1.0</td>\n",
       "      <td>8.0</td>\n",
       "      <td>1.0</td>\n",
       "      <td>0.0</td>\n",
       "      <td>1.0</td>\n",
       "      <td>1.0</td>\n",
       "      <td>4.0</td>\n",
       "      <td>6.0</td>\n",
       "      <td>0.0</td>\n",
       "      <td>0.0</td>\n",
       "      <td>...</td>\n",
       "      <td>24.0</td>\n",
       "      <td>0.0</td>\n",
       "      <td>1.0</td>\n",
       "      <td>3.0</td>\n",
       "      <td>2.0</td>\n",
       "      <td>0.0</td>\n",
       "      <td>3.0</td>\n",
       "      <td>1.0</td>\n",
       "      <td>1.0</td>\n",
       "      <td>0.0</td>\n",
       "    </tr>\n",
       "    <tr>\n",
       "      <th>2</th>\n",
       "      <td>1.0</td>\n",
       "      <td>8.0</td>\n",
       "      <td>3.0</td>\n",
       "      <td>1.0</td>\n",
       "      <td>0.0</td>\n",
       "      <td>2.0</td>\n",
       "      <td>2.0</td>\n",
       "      <td>1.0</td>\n",
       "      <td>1.0</td>\n",
       "      <td>0.0</td>\n",
       "      <td>...</td>\n",
       "      <td>1.0</td>\n",
       "      <td>1.0</td>\n",
       "      <td>1.0</td>\n",
       "      <td>4.0</td>\n",
       "      <td>1.0</td>\n",
       "      <td>3.0</td>\n",
       "      <td>0.0</td>\n",
       "      <td>2.0</td>\n",
       "      <td>0.0</td>\n",
       "      <td>1.0</td>\n",
       "    </tr>\n",
       "    <tr>\n",
       "      <th>3</th>\n",
       "      <td>0.0</td>\n",
       "      <td>4.0</td>\n",
       "      <td>3.0</td>\n",
       "      <td>0.0</td>\n",
       "      <td>0.0</td>\n",
       "      <td>2.0</td>\n",
       "      <td>4.0</td>\n",
       "      <td>5.0</td>\n",
       "      <td>1.0</td>\n",
       "      <td>0.0</td>\n",
       "      <td>...</td>\n",
       "      <td>21.0</td>\n",
       "      <td>0.0</td>\n",
       "      <td>1.0</td>\n",
       "      <td>3.0</td>\n",
       "      <td>2.0</td>\n",
       "      <td>0.0</td>\n",
       "      <td>0.0</td>\n",
       "      <td>1.0</td>\n",
       "      <td>2.0</td>\n",
       "      <td>0.0</td>\n",
       "    </tr>\n",
       "    <tr>\n",
       "      <th>4</th>\n",
       "      <td>1.0</td>\n",
       "      <td>1.0</td>\n",
       "      <td>4.0</td>\n",
       "      <td>1.0</td>\n",
       "      <td>0.0</td>\n",
       "      <td>2.0</td>\n",
       "      <td>1.0</td>\n",
       "      <td>0.0</td>\n",
       "      <td>0.0</td>\n",
       "      <td>1.0</td>\n",
       "      <td>...</td>\n",
       "      <td>21.0</td>\n",
       "      <td>1.0</td>\n",
       "      <td>0.0</td>\n",
       "      <td>3.0</td>\n",
       "      <td>0.0</td>\n",
       "      <td>3.0</td>\n",
       "      <td>0.0</td>\n",
       "      <td>1.0</td>\n",
       "      <td>2.0</td>\n",
       "      <td>0.0</td>\n",
       "    </tr>\n",
       "  </tbody>\n",
       "</table>\n",
       "<p>5 rows × 30 columns</p>\n",
       "</div>"
      ],
      "text/plain": [
       "   offer expiration  income_range  no_visited_Cold drinks  \\\n",
       "0               1.0           1.0                     1.0   \n",
       "1               1.0           8.0                     1.0   \n",
       "2               1.0           8.0                     3.0   \n",
       "3               0.0           4.0                     3.0   \n",
       "4               1.0           1.0                     4.0   \n",
       "\n",
       "   travelled_more_than_15mins_for_offer  Restaur_spend_less_than20  \\\n",
       "0                                   1.0                        3.0   \n",
       "1                                   0.0                        1.0   \n",
       "2                                   1.0                        0.0   \n",
       "3                                   0.0                        0.0   \n",
       "4                                   1.0                        0.0   \n",
       "\n",
       "   Marital Status  restaurant type  age  Prefer western over chinese  \\\n",
       "0             1.0              1.0  3.0                          0.0   \n",
       "1             1.0              4.0  6.0                          0.0   \n",
       "2             2.0              2.0  1.0                          1.0   \n",
       "3             2.0              4.0  5.0                          1.0   \n",
       "4             2.0              1.0  0.0                          0.0   \n",
       "\n",
       "   travelled_more_than_25mins_for_offer  ...  Job/Job Industry  \\\n",
       "0                                   0.0  ...              24.0   \n",
       "1                                   0.0  ...              24.0   \n",
       "2                                   0.0  ...               1.0   \n",
       "3                                   0.0  ...              21.0   \n",
       "4                                   1.0  ...              21.0   \n",
       "\n",
       "   restuarant_opposite_direction_house  has Children  \\\n",
       "0                                  0.0           0.0   \n",
       "1                                  0.0           1.0   \n",
       "2                                  1.0           1.0   \n",
       "3                                  0.0           1.0   \n",
       "4                                  1.0           0.0   \n",
       "\n",
       "   visit restaurant with rating (avg)  temperature  \\\n",
       "0                                 4.0          1.0   \n",
       "1                                 3.0          2.0   \n",
       "2                                 4.0          1.0   \n",
       "3                                 3.0          2.0   \n",
       "4                                 3.0          0.0   \n",
       "\n",
       "   Restaur_spend_greater_than20  Travel Time  Climate  drop location  \\\n",
       "0                           3.0          4.0      0.0            1.0   \n",
       "1                           0.0          3.0      1.0            1.0   \n",
       "2                           3.0          0.0      2.0            0.0   \n",
       "3                           0.0          0.0      1.0            2.0   \n",
       "4                           3.0          0.0      1.0            2.0   \n",
       "\n",
       "   Prefer home food  \n",
       "0               0.0  \n",
       "1               0.0  \n",
       "2               1.0  \n",
       "3               0.0  \n",
       "4               0.0  \n",
       "\n",
       "[5 rows x 30 columns]"
      ]
     },
     "execution_count": 10,
     "metadata": {},
     "output_type": "execute_result"
    }
   ],
   "source": [
    "X_new = pipe.fit_transform(X)\n",
    "\n",
    "X = pd.DataFrame(X_new, columns = names)\n",
    "X.head()"
   ]
  },
  {
   "cell_type": "code",
   "execution_count": 11,
   "id": "648f7973",
   "metadata": {
    "execution": {
     "iopub.execute_input": "2022-12-03T06:43:47.692569Z",
     "iopub.status.busy": "2022-12-03T06:43:47.691696Z",
     "iopub.status.idle": "2022-12-03T06:43:47.708178Z",
     "shell.execute_reply": "2022-12-03T06:43:47.706857Z"
    },
    "papermill": {
     "duration": 0.029759,
     "end_time": "2022-12-03T06:43:47.710662",
     "exception": false,
     "start_time": "2022-12-03T06:43:47.680903",
     "status": "completed"
    },
    "tags": []
   },
   "outputs": [
    {
     "data": {
      "text/plain": [
       "0        0\n",
       "1        1\n",
       "2        1\n",
       "3        0\n",
       "4        0\n",
       "        ..\n",
       "12374    1\n",
       "12375    1\n",
       "12376    0\n",
       "12377    1\n",
       "12378    1\n",
       "Name: Offer Accepted, Length: 12379, dtype: int64"
      ]
     },
     "execution_count": 11,
     "metadata": {},
     "output_type": "execute_result"
    }
   ],
   "source": [
    "y.replace(\"Yes\", 1, inplace = True)\n",
    "y.replace(\"No\", 0, inplace = True)\n",
    "\n",
    "y"
   ]
  },
  {
   "cell_type": "markdown",
   "id": "5aec24c6",
   "metadata": {
    "papermill": {
     "duration": 0.009287,
     "end_time": "2022-12-03T06:43:47.729767",
     "exception": false,
     "start_time": "2022-12-03T06:43:47.720480",
     "status": "completed"
    },
    "tags": []
   },
   "source": [
    "### Data splitting"
   ]
  },
  {
   "cell_type": "code",
   "execution_count": 12,
   "id": "3fd29dd2",
   "metadata": {
    "execution": {
     "iopub.execute_input": "2022-12-03T06:43:47.750884Z",
     "iopub.status.busy": "2022-12-03T06:43:47.750486Z",
     "iopub.status.idle": "2022-12-03T06:43:47.763248Z",
     "shell.execute_reply": "2022-12-03T06:43:47.762048Z"
    },
    "papermill": {
     "duration": 0.026086,
     "end_time": "2022-12-03T06:43:47.765418",
     "exception": false,
     "start_time": "2022-12-03T06:43:47.739332",
     "status": "completed"
    },
    "tags": []
   },
   "outputs": [
    {
     "data": {
      "text/plain": [
       "((8665, 30), (3714, 30), (8665,), (3714,))"
      ]
     },
     "execution_count": 12,
     "metadata": {},
     "output_type": "execute_result"
    }
   ],
   "source": [
    "X_train, X_test, y_train, y_test = train_test_split(X, y, test_size=0.30, random_state=42)\n",
    "\n",
    "\n",
    "X_train.shape, X_test.shape, y_train.shape, y_test.shape"
   ]
  },
  {
   "cell_type": "markdown",
   "id": "ca67742e",
   "metadata": {
    "papermill": {
     "duration": 0.009298,
     "end_time": "2022-12-03T06:43:47.784372",
     "exception": false,
     "start_time": "2022-12-03T06:43:47.775074",
     "status": "completed"
    },
    "tags": []
   },
   "source": [
    "### KNN model"
   ]
  },
  {
   "cell_type": "markdown",
   "id": "04910e6c",
   "metadata": {
    "papermill": {
     "duration": 0.009183,
     "end_time": "2022-12-03T06:43:47.803193",
     "exception": false,
     "start_time": "2022-12-03T06:43:47.794010",
     "status": "completed"
    },
    "tags": []
   },
   "source": [
    "#### Goind without PCA"
   ]
  },
  {
   "cell_type": "code",
   "execution_count": 13,
   "id": "cffd7110",
   "metadata": {
    "execution": {
     "iopub.execute_input": "2022-12-03T06:43:47.824593Z",
     "iopub.status.busy": "2022-12-03T06:43:47.823915Z",
     "iopub.status.idle": "2022-12-03T06:43:47.828815Z",
     "shell.execute_reply": "2022-12-03T06:43:47.828006Z"
    },
    "papermill": {
     "duration": 0.018173,
     "end_time": "2022-12-03T06:43:47.831047",
     "exception": false,
     "start_time": "2022-12-03T06:43:47.812874",
     "status": "completed"
    },
    "tags": []
   },
   "outputs": [],
   "source": [
    "pipe_knn = make_pipeline(MinMaxScaler(), KNeighborsClassifier(n_neighbors = 1))"
   ]
  },
  {
   "cell_type": "code",
   "execution_count": 14,
   "id": "33553e25",
   "metadata": {
    "execution": {
     "iopub.execute_input": "2022-12-03T06:43:47.852745Z",
     "iopub.status.busy": "2022-12-03T06:43:47.852045Z",
     "iopub.status.idle": "2022-12-03T06:43:47.856844Z",
     "shell.execute_reply": "2022-12-03T06:43:47.855742Z"
    },
    "papermill": {
     "duration": 0.01815,
     "end_time": "2022-12-03T06:43:47.859038",
     "exception": false,
     "start_time": "2022-12-03T06:43:47.840888",
     "status": "completed"
    },
    "tags": []
   },
   "outputs": [],
   "source": [
    "grid_k = {'kneighborsclassifier__n_neighbors': [1, 3, 5, 7, 9, 11]}"
   ]
  },
  {
   "cell_type": "code",
   "execution_count": 15,
   "id": "ca6dc0f1",
   "metadata": {
    "execution": {
     "iopub.execute_input": "2022-12-03T06:43:47.880168Z",
     "iopub.status.busy": "2022-12-03T06:43:47.879765Z",
     "iopub.status.idle": "2022-12-03T06:43:57.791319Z",
     "shell.execute_reply": "2022-12-03T06:43:57.790287Z"
    },
    "papermill": {
     "duration": 9.924864,
     "end_time": "2022-12-03T06:43:57.793755",
     "exception": false,
     "start_time": "2022-12-03T06:43:47.868891",
     "status": "completed"
    },
    "tags": []
   },
   "outputs": [
    {
     "data": {
      "text/plain": [
       "GridSearchCV(cv=5,\n",
       "             estimator=Pipeline(steps=[('minmaxscaler', MinMaxScaler()),\n",
       "                                       ('kneighborsclassifier',\n",
       "                                        KNeighborsClassifier(n_neighbors=1))]),\n",
       "             param_grid={'kneighborsclassifier__n_neighbors': [1, 3, 5, 7, 9,\n",
       "                                                               11]},\n",
       "             scoring='precision')"
      ]
     },
     "execution_count": 15,
     "metadata": {},
     "output_type": "execute_result"
    }
   ],
   "source": [
    "cv = GridSearchCV(pipe_knn, param_grid = grid_k, scoring = 'precision', cv=5)\n",
    "cv.fit(X_train, y_train)"
   ]
  },
  {
   "cell_type": "code",
   "execution_count": 16,
   "id": "36f29e87",
   "metadata": {
    "execution": {
     "iopub.execute_input": "2022-12-03T06:43:57.816206Z",
     "iopub.status.busy": "2022-12-03T06:43:57.815807Z",
     "iopub.status.idle": "2022-12-03T06:43:57.822791Z",
     "shell.execute_reply": "2022-12-03T06:43:57.821905Z"
    },
    "papermill": {
     "duration": 0.021882,
     "end_time": "2022-12-03T06:43:57.826121",
     "exception": false,
     "start_time": "2022-12-03T06:43:57.804239",
     "status": "completed"
    },
    "tags": []
   },
   "outputs": [
    {
     "name": "stdout",
     "output_type": "stream",
     "text": [
      "{'mean_fit_time': array([0.00805745, 0.00754619, 0.00746813, 0.00770087, 0.00747938,\n",
      "       0.00765042]), 'std_fit_time': array([7.64381619e-04, 1.14979569e-04, 9.95397539e-05, 4.18383765e-04,\n",
      "       9.90923833e-05, 1.37794669e-04]), 'mean_score_time': array([0.23738203, 0.27781096, 0.35385618, 0.35057611, 0.35161438,\n",
      "       0.3540874 ]), 'std_score_time': array([0.00945185, 0.00107647, 0.00534273, 0.00424415, 0.00457853,\n",
      "       0.00498964]), 'param_kneighborsclassifier__n_neighbors': masked_array(data=[1, 3, 5, 7, 9, 11],\n",
      "             mask=[False, False, False, False, False, False],\n",
      "       fill_value='?',\n",
      "            dtype=object), 'params': [{'kneighborsclassifier__n_neighbors': 1}, {'kneighborsclassifier__n_neighbors': 3}, {'kneighborsclassifier__n_neighbors': 5}, {'kneighborsclassifier__n_neighbors': 7}, {'kneighborsclassifier__n_neighbors': 9}, {'kneighborsclassifier__n_neighbors': 11}], 'split0_test_score': array([0.57711951, 0.59213052, 0.59417652, 0.59183673, 0.58894646,\n",
      "       0.59519726]), 'split1_test_score': array([0.58441558, 0.60544218, 0.59626168, 0.58295558, 0.59714795,\n",
      "       0.59234043]), 'split2_test_score': array([0.58080313, 0.58755981, 0.57943067, 0.58281665, 0.5810928 ,\n",
      "       0.59013605]), 'split3_test_score': array([0.59820538, 0.58869396, 0.57710065, 0.57508834, 0.58297133,\n",
      "       0.5831202 ]), 'split4_test_score': array([0.59445585, 0.59262852, 0.58758109, 0.59135914, 0.59874888,\n",
      "       0.60051993]), 'mean_test_score': array([0.58699989, 0.593291  , 0.58691012, 0.58481129, 0.58978148,\n",
      "       0.59226277]), 'std_test_score': array([0.00804804, 0.00637834, 0.00765337, 0.006232  , 0.00717283,\n",
      "       0.00574295]), 'rank_test_score': array([4, 1, 5, 6, 3, 2], dtype=int32)}\n"
     ]
    }
   ],
   "source": [
    "print(cv.cv_results_)"
   ]
  },
  {
   "cell_type": "code",
   "execution_count": 17,
   "id": "7c55d9e8",
   "metadata": {
    "execution": {
     "iopub.execute_input": "2022-12-03T06:43:57.848884Z",
     "iopub.status.busy": "2022-12-03T06:43:57.848452Z",
     "iopub.status.idle": "2022-12-03T06:43:57.856348Z",
     "shell.execute_reply": "2022-12-03T06:43:57.855580Z"
    },
    "papermill": {
     "duration": 0.02152,
     "end_time": "2022-12-03T06:43:57.858603",
     "exception": false,
     "start_time": "2022-12-03T06:43:57.837083",
     "status": "completed"
    },
    "tags": []
   },
   "outputs": [
    {
     "data": {
      "text/plain": [
       "(1, 3)"
      ]
     },
     "execution_count": 17,
     "metadata": {},
     "output_type": "execute_result"
    }
   ],
   "source": [
    "# get the best value of k\n",
    "k_values = cv.cv_results_['param_kneighborsclassifier__n_neighbors'].data\n",
    "k_scores = cv.cv_results_['rank_test_score']\n",
    "best_k_index, best_k_value = np.argmin(k_scores), k_values[np.argmin(k_scores)]\n",
    "best_k_index, best_k_value"
   ]
  },
  {
   "cell_type": "code",
   "execution_count": 18,
   "id": "bc54280e",
   "metadata": {
    "execution": {
     "iopub.execute_input": "2022-12-03T06:43:57.881254Z",
     "iopub.status.busy": "2022-12-03T06:43:57.880483Z",
     "iopub.status.idle": "2022-12-03T06:43:57.885800Z",
     "shell.execute_reply": "2022-12-03T06:43:57.884991Z"
    },
    "papermill": {
     "duration": 0.019452,
     "end_time": "2022-12-03T06:43:57.888067",
     "exception": false,
     "start_time": "2022-12-03T06:43:57.868615",
     "status": "completed"
    },
    "tags": []
   },
   "outputs": [],
   "source": [
    "pipe_knn = make_pipeline(MinMaxScaler(), KNeighborsClassifier(n_neighbors = best_k_value))"
   ]
  },
  {
   "cell_type": "code",
   "execution_count": 19,
   "id": "f48ccc38",
   "metadata": {
    "execution": {
     "iopub.execute_input": "2022-12-03T06:43:57.910284Z",
     "iopub.status.busy": "2022-12-03T06:43:57.909504Z",
     "iopub.status.idle": "2022-12-03T06:43:57.925984Z",
     "shell.execute_reply": "2022-12-03T06:43:57.924888Z"
    },
    "papermill": {
     "duration": 0.030308,
     "end_time": "2022-12-03T06:43:57.928316",
     "exception": false,
     "start_time": "2022-12-03T06:43:57.898008",
     "status": "completed"
    },
    "tags": []
   },
   "outputs": [
    {
     "data": {
      "text/plain": [
       "Pipeline(steps=[('minmaxscaler', MinMaxScaler()),\n",
       "                ('kneighborsclassifier', KNeighborsClassifier(n_neighbors=3))])"
      ]
     },
     "execution_count": 19,
     "metadata": {},
     "output_type": "execute_result"
    }
   ],
   "source": [
    "pipe_knn.fit(X_train, y_train)"
   ]
  },
  {
   "cell_type": "code",
   "execution_count": 20,
   "id": "cef026da",
   "metadata": {
    "execution": {
     "iopub.execute_input": "2022-12-03T06:43:57.950918Z",
     "iopub.status.busy": "2022-12-03T06:43:57.950278Z",
     "iopub.status.idle": "2022-12-03T06:43:58.612453Z",
     "shell.execute_reply": "2022-12-03T06:43:58.611159Z"
    },
    "papermill": {
     "duration": 0.677204,
     "end_time": "2022-12-03T06:43:58.615717",
     "exception": false,
     "start_time": "2022-12-03T06:43:57.938513",
     "status": "completed"
    },
    "tags": []
   },
   "outputs": [
    {
     "name": "stdout",
     "output_type": "stream",
     "text": [
      "[0 1]\n",
      "(3714,)\n"
     ]
    }
   ],
   "source": [
    "y_pred = pipe_knn.predict(X_test)\n",
    "print(np.unique(y_pred))\n",
    "print(y_pred.shape)"
   ]
  },
  {
   "cell_type": "code",
   "execution_count": 21,
   "id": "ebcfc852",
   "metadata": {
    "execution": {
     "iopub.execute_input": "2022-12-03T06:43:58.646784Z",
     "iopub.status.busy": "2022-12-03T06:43:58.645774Z",
     "iopub.status.idle": "2022-12-03T06:43:58.658084Z",
     "shell.execute_reply": "2022-12-03T06:43:58.656970Z"
    },
    "papermill": {
     "duration": 0.027901,
     "end_time": "2022-12-03T06:43:58.660981",
     "exception": false,
     "start_time": "2022-12-03T06:43:58.633080",
     "status": "completed"
    },
    "tags": []
   },
   "outputs": [
    {
     "data": {
      "text/plain": [
       "0.6118299445471349"
      ]
     },
     "execution_count": 21,
     "metadata": {},
     "output_type": "execute_result"
    }
   ],
   "source": [
    "score = f1_score(y_test, y_pred)\n",
    "score"
   ]
  },
  {
   "cell_type": "markdown",
   "id": "c3cdcbe5",
   "metadata": {
    "papermill": {
     "duration": 0.010135,
     "end_time": "2022-12-03T06:43:58.685213",
     "exception": false,
     "start_time": "2022-12-03T06:43:58.675078",
     "status": "completed"
    },
    "tags": []
   },
   "source": [
    "### On test data"
   ]
  },
  {
   "cell_type": "code",
   "execution_count": 22,
   "id": "4864fbea",
   "metadata": {
    "execution": {
     "iopub.execute_input": "2022-12-03T06:43:58.708480Z",
     "iopub.status.busy": "2022-12-03T06:43:58.707567Z",
     "iopub.status.idle": "2022-12-03T06:43:58.880113Z",
     "shell.execute_reply": "2022-12-03T06:43:58.878919Z"
    },
    "papermill": {
     "duration": 0.186562,
     "end_time": "2022-12-03T06:43:58.882470",
     "exception": false,
     "start_time": "2022-12-03T06:43:58.695908",
     "status": "completed"
    },
    "tags": []
   },
   "outputs": [
    {
     "name": "stdout",
     "output_type": "stream",
     "text": [
      "(5305, 30)\n"
     ]
    },
    {
     "data": {
      "text/html": [
       "<div>\n",
       "<style scoped>\n",
       "    .dataframe tbody tr th:only-of-type {\n",
       "        vertical-align: middle;\n",
       "    }\n",
       "\n",
       "    .dataframe tbody tr th {\n",
       "        vertical-align: top;\n",
       "    }\n",
       "\n",
       "    .dataframe thead th {\n",
       "        text-align: right;\n",
       "    }\n",
       "</style>\n",
       "<table border=\"1\" class=\"dataframe\">\n",
       "  <thead>\n",
       "    <tr style=\"text-align: right;\">\n",
       "      <th></th>\n",
       "      <th>offer expiration</th>\n",
       "      <th>income_range</th>\n",
       "      <th>no_visited_Cold drinks</th>\n",
       "      <th>travelled_more_than_15mins_for_offer</th>\n",
       "      <th>Restaur_spend_less_than20</th>\n",
       "      <th>Marital Status</th>\n",
       "      <th>restaurant type</th>\n",
       "      <th>age</th>\n",
       "      <th>Prefer western over chinese</th>\n",
       "      <th>travelled_more_than_25mins_for_offer</th>\n",
       "      <th>...</th>\n",
       "      <th>Job/Job Industry</th>\n",
       "      <th>restuarant_opposite_direction_house</th>\n",
       "      <th>has Children</th>\n",
       "      <th>visit restaurant with rating (avg)</th>\n",
       "      <th>temperature</th>\n",
       "      <th>Restaur_spend_greater_than20</th>\n",
       "      <th>Travel Time</th>\n",
       "      <th>Climate</th>\n",
       "      <th>drop location</th>\n",
       "      <th>Prefer home food</th>\n",
       "    </tr>\n",
       "  </thead>\n",
       "  <tbody>\n",
       "    <tr>\n",
       "      <th>0</th>\n",
       "      <td>1.0</td>\n",
       "      <td>4.0</td>\n",
       "      <td>0.0</td>\n",
       "      <td>1.0</td>\n",
       "      <td>0.0</td>\n",
       "      <td>0.0</td>\n",
       "      <td>4.0</td>\n",
       "      <td>6.0</td>\n",
       "      <td>0.0</td>\n",
       "      <td>1.0</td>\n",
       "      <td>...</td>\n",
       "      <td>21.0</td>\n",
       "      <td>1.0</td>\n",
       "      <td>1.0</td>\n",
       "      <td>4.0</td>\n",
       "      <td>2.0</td>\n",
       "      <td>3.0</td>\n",
       "      <td>0.0</td>\n",
       "      <td>1.0</td>\n",
       "      <td>2.0</td>\n",
       "      <td>0.0</td>\n",
       "    </tr>\n",
       "    <tr>\n",
       "      <th>1</th>\n",
       "      <td>0.0</td>\n",
       "      <td>3.0</td>\n",
       "      <td>1.0</td>\n",
       "      <td>0.0</td>\n",
       "      <td>0.0</td>\n",
       "      <td>3.0</td>\n",
       "      <td>2.0</td>\n",
       "      <td>0.0</td>\n",
       "      <td>1.0</td>\n",
       "      <td>0.0</td>\n",
       "      <td>...</td>\n",
       "      <td>5.0</td>\n",
       "      <td>1.0</td>\n",
       "      <td>1.0</td>\n",
       "      <td>0.0</td>\n",
       "      <td>1.0</td>\n",
       "      <td>3.0</td>\n",
       "      <td>3.0</td>\n",
       "      <td>1.0</td>\n",
       "      <td>0.0</td>\n",
       "      <td>1.0</td>\n",
       "    </tr>\n",
       "    <tr>\n",
       "      <th>2</th>\n",
       "      <td>1.0</td>\n",
       "      <td>1.0</td>\n",
       "      <td>4.0</td>\n",
       "      <td>1.0</td>\n",
       "      <td>4.0</td>\n",
       "      <td>2.0</td>\n",
       "      <td>2.0</td>\n",
       "      <td>0.0</td>\n",
       "      <td>1.0</td>\n",
       "      <td>0.0</td>\n",
       "      <td>...</td>\n",
       "      <td>24.0</td>\n",
       "      <td>1.0</td>\n",
       "      <td>0.0</td>\n",
       "      <td>4.0</td>\n",
       "      <td>1.0</td>\n",
       "      <td>4.0</td>\n",
       "      <td>0.0</td>\n",
       "      <td>1.0</td>\n",
       "      <td>2.0</td>\n",
       "      <td>0.0</td>\n",
       "    </tr>\n",
       "    <tr>\n",
       "      <th>3</th>\n",
       "      <td>1.0</td>\n",
       "      <td>3.0</td>\n",
       "      <td>4.0</td>\n",
       "      <td>1.0</td>\n",
       "      <td>0.0</td>\n",
       "      <td>1.0</td>\n",
       "      <td>3.0</td>\n",
       "      <td>4.0</td>\n",
       "      <td>0.0</td>\n",
       "      <td>0.0</td>\n",
       "      <td>...</td>\n",
       "      <td>24.0</td>\n",
       "      <td>1.0</td>\n",
       "      <td>1.0</td>\n",
       "      <td>0.0</td>\n",
       "      <td>0.0</td>\n",
       "      <td>3.0</td>\n",
       "      <td>3.0</td>\n",
       "      <td>0.0</td>\n",
       "      <td>2.0</td>\n",
       "      <td>1.0</td>\n",
       "    </tr>\n",
       "    <tr>\n",
       "      <th>4</th>\n",
       "      <td>0.0</td>\n",
       "      <td>2.0</td>\n",
       "      <td>4.0</td>\n",
       "      <td>0.0</td>\n",
       "      <td>0.0</td>\n",
       "      <td>2.0</td>\n",
       "      <td>0.0</td>\n",
       "      <td>2.0</td>\n",
       "      <td>1.0</td>\n",
       "      <td>0.0</td>\n",
       "      <td>...</td>\n",
       "      <td>24.0</td>\n",
       "      <td>0.0</td>\n",
       "      <td>0.0</td>\n",
       "      <td>0.0</td>\n",
       "      <td>2.0</td>\n",
       "      <td>0.0</td>\n",
       "      <td>3.0</td>\n",
       "      <td>1.0</td>\n",
       "      <td>1.0</td>\n",
       "      <td>1.0</td>\n",
       "    </tr>\n",
       "  </tbody>\n",
       "</table>\n",
       "<p>5 rows × 30 columns</p>\n",
       "</div>"
      ],
      "text/plain": [
       "   offer expiration  income_range  no_visited_Cold drinks  \\\n",
       "0               1.0           4.0                     0.0   \n",
       "1               0.0           3.0                     1.0   \n",
       "2               1.0           1.0                     4.0   \n",
       "3               1.0           3.0                     4.0   \n",
       "4               0.0           2.0                     4.0   \n",
       "\n",
       "   travelled_more_than_15mins_for_offer  Restaur_spend_less_than20  \\\n",
       "0                                   1.0                        0.0   \n",
       "1                                   0.0                        0.0   \n",
       "2                                   1.0                        4.0   \n",
       "3                                   1.0                        0.0   \n",
       "4                                   0.0                        0.0   \n",
       "\n",
       "   Marital Status  restaurant type  age  Prefer western over chinese  \\\n",
       "0             0.0              4.0  6.0                          0.0   \n",
       "1             3.0              2.0  0.0                          1.0   \n",
       "2             2.0              2.0  0.0                          1.0   \n",
       "3             1.0              3.0  4.0                          0.0   \n",
       "4             2.0              0.0  2.0                          1.0   \n",
       "\n",
       "   travelled_more_than_25mins_for_offer  ...  Job/Job Industry  \\\n",
       "0                                   1.0  ...              21.0   \n",
       "1                                   0.0  ...               5.0   \n",
       "2                                   0.0  ...              24.0   \n",
       "3                                   0.0  ...              24.0   \n",
       "4                                   0.0  ...              24.0   \n",
       "\n",
       "   restuarant_opposite_direction_house  has Children  \\\n",
       "0                                  1.0           1.0   \n",
       "1                                  1.0           1.0   \n",
       "2                                  1.0           0.0   \n",
       "3                                  1.0           1.0   \n",
       "4                                  0.0           0.0   \n",
       "\n",
       "   visit restaurant with rating (avg)  temperature  \\\n",
       "0                                 4.0          2.0   \n",
       "1                                 0.0          1.0   \n",
       "2                                 4.0          1.0   \n",
       "3                                 0.0          0.0   \n",
       "4                                 0.0          2.0   \n",
       "\n",
       "   Restaur_spend_greater_than20  Travel Time  Climate  drop location  \\\n",
       "0                           3.0          0.0      1.0            2.0   \n",
       "1                           3.0          3.0      1.0            0.0   \n",
       "2                           4.0          0.0      1.0            2.0   \n",
       "3                           3.0          3.0      0.0            2.0   \n",
       "4                           0.0          3.0      1.0            1.0   \n",
       "\n",
       "   Prefer home food  \n",
       "0               0.0  \n",
       "1               1.0  \n",
       "2               0.0  \n",
       "3               1.0  \n",
       "4               1.0  \n",
       "\n",
       "[5 rows x 30 columns]"
      ]
     },
     "execution_count": 22,
     "metadata": {},
     "output_type": "execute_result"
    }
   ],
   "source": [
    "df_public_test = pd.read_csv(\"../input/marketing-strategy-personalised-offer/test_data.csv\")\n",
    "\n",
    "X_test_public = pipe.fit_transform(df_public_test)\n",
    "\n",
    "X_test_public = pd.DataFrame(X_test_public, columns = names)\n",
    "print(X_test_public.shape)\n",
    "X_test_public.head()"
   ]
  },
  {
   "cell_type": "code",
   "execution_count": 23,
   "id": "4fa47c4b",
   "metadata": {
    "execution": {
     "iopub.execute_input": "2022-12-03T06:43:58.906241Z",
     "iopub.status.busy": "2022-12-03T06:43:58.905474Z",
     "iopub.status.idle": "2022-12-03T06:43:59.874885Z",
     "shell.execute_reply": "2022-12-03T06:43:59.873225Z"
    },
    "papermill": {
     "duration": 0.984043,
     "end_time": "2022-12-03T06:43:59.877470",
     "exception": false,
     "start_time": "2022-12-03T06:43:58.893427",
     "status": "completed"
    },
    "tags": []
   },
   "outputs": [
    {
     "name": "stdout",
     "output_type": "stream",
     "text": [
      "[0 1]\n",
      "(5305,)\n"
     ]
    }
   ],
   "source": [
    "y_pred_public = pipe_knn.predict(X_test_public)\n",
    "print(np.unique(y_pred_public))\n",
    "print(y_pred_public.shape)"
   ]
  },
  {
   "cell_type": "markdown",
   "id": "e7016dbe",
   "metadata": {
    "papermill": {
     "duration": 0.010282,
     "end_time": "2022-12-03T06:43:59.898467",
     "exception": false,
     "start_time": "2022-12-03T06:43:59.888185",
     "status": "completed"
    },
    "tags": []
   },
   "source": [
    "### Output"
   ]
  },
  {
   "cell_type": "code",
   "execution_count": 24,
   "id": "fe2fb0b7",
   "metadata": {
    "execution": {
     "iopub.execute_input": "2022-12-03T06:43:59.922278Z",
     "iopub.status.busy": "2022-12-03T06:43:59.921135Z",
     "iopub.status.idle": "2022-12-03T06:43:59.934270Z",
     "shell.execute_reply": "2022-12-03T06:43:59.933084Z"
    },
    "papermill": {
     "duration": 0.027967,
     "end_time": "2022-12-03T06:43:59.937018",
     "exception": false,
     "start_time": "2022-12-03T06:43:59.909051",
     "status": "completed"
    },
    "tags": []
   },
   "outputs": [],
   "source": [
    "sub = pd.DataFrame(y_pred_public, columns = [\"Offer Accepted\"])\n",
    "sub.insert(0, 'id', range(0, len(sub)))\n",
    "sub['Offer Accepted'].replace(1, \"Yes\", inplace = True)\n",
    "sub['Offer Accepted'].replace(0, \"No\", inplace = True)"
   ]
  },
  {
   "cell_type": "code",
   "execution_count": 25,
   "id": "623ea2b5",
   "metadata": {
    "execution": {
     "iopub.execute_input": "2022-12-03T06:43:59.961812Z",
     "iopub.status.busy": "2022-12-03T06:43:59.960481Z",
     "iopub.status.idle": "2022-12-03T06:43:59.968222Z",
     "shell.execute_reply": "2022-12-03T06:43:59.966895Z"
    },
    "papermill": {
     "duration": 0.022768,
     "end_time": "2022-12-03T06:43:59.971170",
     "exception": false,
     "start_time": "2022-12-03T06:43:59.948402",
     "status": "completed"
    },
    "tags": []
   },
   "outputs": [
    {
     "data": {
      "text/plain": [
       "Index(['id', 'Offer Accepted'], dtype='object')"
      ]
     },
     "execution_count": 25,
     "metadata": {},
     "output_type": "execute_result"
    }
   ],
   "source": [
    "sub.columns"
   ]
  },
  {
   "cell_type": "code",
   "execution_count": 26,
   "id": "8d217c28",
   "metadata": {
    "execution": {
     "iopub.execute_input": "2022-12-03T06:43:59.995645Z",
     "iopub.status.busy": "2022-12-03T06:43:59.994534Z",
     "iopub.status.idle": "2022-12-03T06:44:00.008552Z",
     "shell.execute_reply": "2022-12-03T06:44:00.007597Z"
    },
    "papermill": {
     "duration": 0.02906,
     "end_time": "2022-12-03T06:44:00.010864",
     "exception": false,
     "start_time": "2022-12-03T06:43:59.981804",
     "status": "completed"
    },
    "tags": []
   },
   "outputs": [],
   "source": [
    "sub.to_csv('/kaggle/working/submission.csv', index = False)"
   ]
  }
 ],
 "metadata": {
  "kernelspec": {
   "display_name": "Python 3",
   "language": "python",
   "name": "python3"
  },
  "language_info": {
   "codemirror_mode": {
    "name": "ipython",
    "version": 3
   },
   "file_extension": ".py",
   "mimetype": "text/x-python",
   "name": "python",
   "nbconvert_exporter": "python",
   "pygments_lexer": "ipython3",
   "version": "3.7.12"
  },
  "papermill": {
   "default_parameters": {},
   "duration": 23.940106,
   "end_time": "2022-12-03T06:44:00.742788",
   "environment_variables": {},
   "exception": null,
   "input_path": "__notebook__.ipynb",
   "output_path": "__notebook__.ipynb",
   "parameters": {},
   "start_time": "2022-12-03T06:43:36.802682",
   "version": "2.3.4"
  }
 },
 "nbformat": 4,
 "nbformat_minor": 5
}
